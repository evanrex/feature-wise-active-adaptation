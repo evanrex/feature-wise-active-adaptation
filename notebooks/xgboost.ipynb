{
 "cells": [
  {
   "cell_type": "code",
   "execution_count": 1,
   "metadata": {},
   "outputs": [],
   "source": [
    "import xgboost as xgb\n",
    "import numpy as np\n",
    "import pandas as pd\n",
    "\n",
    "from sklearn.metrics import accuracy_score\n",
    "from sklearn.model_selection import train_test_split"
   ]
  },
  {
   "cell_type": "code",
   "execution_count": 2,
   "metadata": {},
   "outputs": [],
   "source": [
    "import sys\n",
    "sys.path.append('../src')"
   ]
  },
  {
   "cell_type": "code",
   "execution_count": 3,
   "metadata": {},
   "outputs": [],
   "source": [
    "from dataset import load_simple_trig_synth, load_simple_linear_synth, load_exponential_interaction_synth, load_summed_squares_exponential_synth, load_trigonometric_polynomial_synth"
   ]
  },
  {
   "cell_type": "code",
   "execution_count": 9,
   "metadata": {},
   "outputs": [
    {
     "name": "stdout",
     "output_type": "stream",
     "text": [
      "Accuracy 0.9785\n",
      "Accuracy 0.9785\n",
      "Accuracy 0.9785\n",
      "Accuracy 0.9785\n",
      "Accuracy 0.9785\n",
      "Accuracy 0.995\n",
      "Accuracy 0.995\n",
      "Accuracy 0.995\n",
      "Accuracy 0.995\n",
      "Accuracy 0.995\n",
      "Accuracy 0.721\n",
      "Accuracy 0.721\n",
      "Accuracy 0.721\n",
      "Accuracy 0.721\n",
      "Accuracy 0.721\n",
      "Accuracy 0.6345\n",
      "Accuracy 0.6345\n",
      "Accuracy 0.6345\n",
      "Accuracy 0.6345\n",
      "Accuracy 0.6345\n",
      "Accuracy 0.996\n",
      "Accuracy 0.996\n",
      "Accuracy 0.996\n",
      "Accuracy 0.996\n",
      "Accuracy 0.996\n"
     ]
    }
   ],
   "source": [
    "results = {}\n",
    "\n",
    "\n",
    "datasets = ['simple_trig_synth', \n",
    "            'simple_linear_synth', \n",
    "            'exponential_interaction_synth',\n",
    "            'summed_squares_exponential_synth',\n",
    "            'trigonometric_polynomial_synth',\n",
    "            ]\n",
    "for dataset in datasets:\n",
    "    results[dataset] = []\n",
    "    if dataset=='simple_trig_synth':\n",
    "        X, y = load_simple_trig_synth()\n",
    "    elif dataset=='simple_linear_synth':\n",
    "        X, y = load_simple_linear_synth()\n",
    "    elif dataset=='exponential_interaction_synth':\n",
    "        X, y = load_exponential_interaction_synth()\n",
    "    elif dataset=='summed_squares_exponential_synth':\n",
    "        X, y = load_summed_squares_exponential_synth()\n",
    "    elif dataset=='trigonometric_polynomial_synth':\n",
    "        X, y = load_trigonometric_polynomial_synth()\n",
    "        \n",
    "    X_train, X_test, y_train, y_test = train_test_split(X, y, test_size=0.2, random_state=42)\n",
    "\n",
    "    for seed in range(5):\n",
    "        # Set a seed for reproducibility\n",
    "        np.random.seed(seed)\n",
    "        \n",
    "        # N_ensemble_configurations controls the number of model predictions that are ensembled with feature and class rotations (See our work for details).\n",
    "        # When N_ensemble_configurations > #features * #classes, no further averaging is applied.\n",
    "        # Instantiate the XGBoost classifier\n",
    "        classifier = xgb.XGBClassifier(use_label_encoder=False, eval_metric='logloss', seed=seed)\n",
    "\n",
    "        # Fit the classifier to the sampled training data\n",
    "        classifier.fit(X_train, y_train)\n",
    "\n",
    "        # Predict the labels of the test set\n",
    "        y_pred = classifier.predict(X_test)\n",
    "\n",
    "        acc_score = accuracy_score(y_test, y_pred)\n",
    "        print('Accuracy', acc_score)\n",
    "        results[dataset].append(acc_score)"
   ]
  },
  {
   "cell_type": "code",
   "execution_count": 10,
   "metadata": {},
   "outputs": [],
   "source": [
    "# Convert dictionary to DataFrame\n",
    "df = pd.DataFrame.from_dict(results, orient='index', columns=[f'seed_{i}' for i in range(5)])\n",
    "df.reset_index(inplace=True)\n",
    "df.rename(columns={'index': 'dataset'}, inplace=True)\n",
    "\n",
    "# Save to CSV\n",
    "csv_filename = '/home/er647/projects/feature-wise-active-learning/baseline_results/xgboost_results.csv'  # Saving in the /mnt/data directory\n",
    "df.to_csv(csv_filename, index=False)"
   ]
  },
  {
   "cell_type": "code",
   "execution_count": 11,
   "metadata": {},
   "outputs": [
    {
     "data": {
      "text/html": [
       "<div>\n",
       "<style scoped>\n",
       "    .dataframe tbody tr th:only-of-type {\n",
       "        vertical-align: middle;\n",
       "    }\n",
       "\n",
       "    .dataframe tbody tr th {\n",
       "        vertical-align: top;\n",
       "    }\n",
       "\n",
       "    .dataframe thead th {\n",
       "        text-align: right;\n",
       "    }\n",
       "</style>\n",
       "<table border=\"1\" class=\"dataframe\">\n",
       "  <thead>\n",
       "    <tr style=\"text-align: right;\">\n",
       "      <th></th>\n",
       "      <th>dataset</th>\n",
       "      <th>seed_0</th>\n",
       "      <th>seed_1</th>\n",
       "      <th>seed_2</th>\n",
       "      <th>seed_3</th>\n",
       "      <th>seed_4</th>\n",
       "      <th>avg_seed</th>\n",
       "    </tr>\n",
       "  </thead>\n",
       "  <tbody>\n",
       "    <tr>\n",
       "      <th>0</th>\n",
       "      <td>simple_trig_synth</td>\n",
       "      <td>0.9785</td>\n",
       "      <td>0.9785</td>\n",
       "      <td>0.9785</td>\n",
       "      <td>0.9785</td>\n",
       "      <td>0.9785</td>\n",
       "      <td>0.9785</td>\n",
       "    </tr>\n",
       "    <tr>\n",
       "      <th>1</th>\n",
       "      <td>simple_linear_synth</td>\n",
       "      <td>0.9950</td>\n",
       "      <td>0.9950</td>\n",
       "      <td>0.9950</td>\n",
       "      <td>0.9950</td>\n",
       "      <td>0.9950</td>\n",
       "      <td>0.9950</td>\n",
       "    </tr>\n",
       "    <tr>\n",
       "      <th>2</th>\n",
       "      <td>exponential_interaction_synth</td>\n",
       "      <td>0.7210</td>\n",
       "      <td>0.7210</td>\n",
       "      <td>0.7210</td>\n",
       "      <td>0.7210</td>\n",
       "      <td>0.7210</td>\n",
       "      <td>0.7210</td>\n",
       "    </tr>\n",
       "    <tr>\n",
       "      <th>3</th>\n",
       "      <td>summed_squares_exponential_synth</td>\n",
       "      <td>0.6345</td>\n",
       "      <td>0.6345</td>\n",
       "      <td>0.6345</td>\n",
       "      <td>0.6345</td>\n",
       "      <td>0.6345</td>\n",
       "      <td>0.6345</td>\n",
       "    </tr>\n",
       "    <tr>\n",
       "      <th>4</th>\n",
       "      <td>trigonometric_polynomial_synth</td>\n",
       "      <td>0.9960</td>\n",
       "      <td>0.9960</td>\n",
       "      <td>0.9960</td>\n",
       "      <td>0.9960</td>\n",
       "      <td>0.9960</td>\n",
       "      <td>0.9960</td>\n",
       "    </tr>\n",
       "  </tbody>\n",
       "</table>\n",
       "</div>"
      ],
      "text/plain": [
       "                            dataset  seed_0  seed_1  seed_2  seed_3  seed_4  \\\n",
       "0                 simple_trig_synth  0.9785  0.9785  0.9785  0.9785  0.9785   \n",
       "1               simple_linear_synth  0.9950  0.9950  0.9950  0.9950  0.9950   \n",
       "2     exponential_interaction_synth  0.7210  0.7210  0.7210  0.7210  0.7210   \n",
       "3  summed_squares_exponential_synth  0.6345  0.6345  0.6345  0.6345  0.6345   \n",
       "4    trigonometric_polynomial_synth  0.9960  0.9960  0.9960  0.9960  0.9960   \n",
       "\n",
       "   avg_seed  \n",
       "0    0.9785  \n",
       "1    0.9950  \n",
       "2    0.7210  \n",
       "3    0.6345  \n",
       "4    0.9960  "
      ]
     },
     "execution_count": 11,
     "metadata": {},
     "output_type": "execute_result"
    }
   ],
   "source": [
    "df['avg_seed'] = df.loc[:, 'seed_0':'seed_4'].mean(axis=1)\n",
    "df"
   ]
  },
  {
   "cell_type": "code",
   "execution_count": null,
   "metadata": {},
   "outputs": [],
   "source": []
  }
 ],
 "metadata": {
  "kernelspec": {
   "display_name": "fwal",
   "language": "python",
   "name": "python3"
  },
  "language_info": {
   "codemirror_mode": {
    "name": "ipython",
    "version": 3
   },
   "file_extension": ".py",
   "mimetype": "text/x-python",
   "name": "python",
   "nbconvert_exporter": "python",
   "pygments_lexer": "ipython3",
   "version": "3.10.12"
  }
 },
 "nbformat": 4,
 "nbformat_minor": 2
}
