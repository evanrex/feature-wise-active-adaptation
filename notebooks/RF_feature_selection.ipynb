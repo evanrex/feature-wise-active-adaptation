{
 "cells": [
  {
   "cell_type": "code",
   "execution_count": 1,
   "metadata": {},
   "outputs": [],
   "source": [
    "from sklearn.metrics import accuracy_score\n",
    "from sklearn.model_selection import train_test_split\n",
    "import numpy as np\n",
    "import pandas as pd\n",
    "\n",
    "from sklearn.ensemble import RandomForestRegressor\n",
    "from sklearn.model_selection import train_test_split"
   ]
  },
  {
   "cell_type": "code",
   "execution_count": 2,
   "metadata": {},
   "outputs": [],
   "source": [
    "import sys\n",
    "sys.path.append('../src')"
   ]
  },
  {
   "cell_type": "code",
   "execution_count": 3,
   "metadata": {},
   "outputs": [],
   "source": [
    "from dataset import load_simple_trig_synth, load_simple_linear_synth, load_exponential_interaction_synth, load_summed_squares_exponential_synth, load_trigonometric_polynomial_synth"
   ]
  },
  {
   "cell_type": "code",
   "execution_count": 5,
   "metadata": {},
   "outputs": [
    {
     "name": "stdout",
     "output_type": "stream",
     "text": [
      "Dataset:  simple_trig_synth\n",
      "Feature Importances: [0.01352562 0.14731876 0.81347062 0.01378728 0.01189771]\n",
      "Indices of Top 10 Features: [4 0 3 1 2]\n",
      "Feature Importances: [0.01416259 0.14394589 0.81567407 0.01308155 0.0131359 ]\n",
      "Indices of Top 10 Features: [3 4 0 1 2]\n",
      "Feature Importances: [0.01309014 0.14476297 0.81562835 0.01422743 0.01229112]\n",
      "Indices of Top 10 Features: [4 0 3 1 2]\n",
      "Feature Importances: [0.01319002 0.14413061 0.81646001 0.01317423 0.01304513]\n",
      "Indices of Top 10 Features: [4 3 0 1 2]\n",
      "Feature Importances: [0.01392269 0.14522969 0.81466032 0.0135302  0.01265711]\n",
      "Indices of Top 10 Features: [4 3 0 1 2]\n",
      "Dataset:  simple_linear_synth\n",
      "Feature Importances: [0.00327894 0.00432994 0.0146051  0.90022635 0.07755967]\n",
      "Indices of Top 10 Features: [0 1 2 4 3]\n",
      "Feature Importances: [0.00295594 0.00394315 0.01387857 0.90212804 0.0770943 ]\n",
      "Indices of Top 10 Features: [0 1 2 4 3]\n",
      "Feature Importances: [0.00340851 0.00403296 0.01477531 0.90017233 0.07761089]\n",
      "Indices of Top 10 Features: [0 1 2 4 3]\n",
      "Feature Importances: [0.00374394 0.00431269 0.01432174 0.90078059 0.07684104]\n",
      "Indices of Top 10 Features: [0 1 2 4 3]\n",
      "Feature Importances: [0.00339077 0.00414466 0.01421887 0.90151012 0.07673558]\n",
      "Indices of Top 10 Features: [0 1 2 4 3]\n",
      "Dataset:  exponential_interaction_synth\n",
      "Feature Importances: [0.13011333 0.13159188 0.15707728 0.15623007 0.15381361 0.04641416\n",
      " 0.04401814 0.04481032 0.04185988 0.04608423 0.0479871 ]\n",
      "Indices of Top 10 Features: [ 6  7  9  5 10  0  1  4  3  2]\n",
      "Feature Importances: [0.13315498 0.12726703 0.15651224 0.15941946 0.15068103 0.04511491\n",
      " 0.04639206 0.04576368 0.04566763 0.04765436 0.04237262]\n",
      "Indices of Top 10 Features: [5 8 7 6 9 1 0 4 2 3]\n",
      "Feature Importances: [0.13089186 0.12947929 0.15720152 0.15849367 0.15198822 0.04264527\n",
      " 0.04838395 0.0444185  0.04887164 0.04661186 0.04101424]\n",
      "Indices of Top 10 Features: [5 7 9 6 8 1 0 4 2 3]\n",
      "Feature Importances: [0.1320029  0.12978238 0.15593818 0.15657475 0.15049228 0.04672447\n",
      " 0.04260838 0.04640468 0.04884392 0.04424602 0.04638205]\n",
      "Indices of Top 10 Features: [ 9 10  7  5  8  1  0  4  2  3]\n",
      "Feature Importances: [0.12870429 0.13150648 0.15998331 0.1549349  0.15317226 0.04710764\n",
      " 0.04364594 0.04747687 0.04282116 0.04435941 0.04628773]\n",
      "Indices of Top 10 Features: [ 6  9 10  5  7  0  1  4  3  2]\n",
      "Dataset:  summed_squares_exponential_synth\n",
      "Feature Importances: [0.13592357 0.13981923 0.13357077 0.12923689 0.13743614 0.05310775\n",
      " 0.05249259 0.05231526 0.04410274 0.05932059 0.06267447]\n",
      "Indices of Top 10 Features: [ 7  6  5  9 10  3  2  0  4  1]\n",
      "Feature Importances: [0.13840274 0.139141   0.13208681 0.13010658 0.13702034 0.05146509\n",
      " 0.06117467 0.05523592 0.05106496 0.05811096 0.04619092]\n",
      "Indices of Top 10 Features: [8 5 7 9 6 3 2 4 0 1]\n",
      "Feature Importances: [0.13844956 0.14032553 0.13349664 0.12909121 0.1364379  0.04584577\n",
      " 0.06374582 0.05151438 0.06007731 0.05554363 0.04547224]\n",
      "Indices of Top 10 Features: [5 7 9 8 6 3 2 4 0 1]\n",
      "Feature Importances: [0.13882538 0.13839699 0.13377862 0.12963237 0.13602863 0.05215453\n",
      " 0.04717905 0.06074254 0.05754251 0.04912364 0.05659574]\n",
      "Indices of Top 10 Features: [ 9  5 10  8  7  3  2  4  1  0]\n",
      "Feature Importances: [0.14005225 0.13937667 0.13101581 0.12924557 0.13489636 0.05996562\n",
      " 0.05284229 0.05436841 0.04697707 0.0541317  0.05712825]\n",
      "Indices of Top 10 Features: [ 6  9  7 10  5  3  2  4  1  0]\n",
      "Dataset:  trigonometric_polynomial_synth\n",
      "Feature Importances: [0.00389912 0.00664712 0.00654548 0.01144513 0.00655067 0.20105076\n",
      " 0.14560378 0.1617444  0.21412002 0.10225519 0.14013834]\n",
      "Indices of Top 10 Features: [ 2  4  1  3  9 10  6  7  5  8]\n",
      "Feature Importances: [0.00380188 0.00712944 0.00591909 0.01151106 0.00414652 0.12769035\n",
      " 0.12915229 0.15586569 0.19019413 0.18516547 0.17942407]\n",
      "Indices of Top 10 Features: [ 4  2  1  3  5  6  7 10  9  8]\n",
      "Feature Importances: [0.0038216  0.00586089 0.00423654 0.01189281 0.00691926 0.16274155\n",
      " 0.14214739 0.15361441 0.17243798 0.21741564 0.11891191]\n",
      "Indices of Top 10 Features: [ 2  1  4  3 10  6  7  5  8  9]\n",
      "Feature Importances: [0.0055684  0.0076224  0.00542425 0.00896494 0.00818565 0.2225783\n",
      " 0.15375952 0.09372544 0.20138299 0.15381802 0.13897009]\n",
      "Indices of Top 10 Features: [ 0  1  4  3  7 10  6  9  8  5]\n",
      "Feature Importances: [0.00356482 0.00714935 0.00459846 0.01085525 0.00817457 0.17413192\n",
      " 0.1256896  0.16414232 0.20478118 0.10361155 0.19330098]\n",
      "Indices of Top 10 Features: [ 2  1  4  3  9  6  7  5 10  8]\n"
     ]
    }
   ],
   "source": [
    "results = {}\n",
    "\n",
    "\n",
    "datasets = ['simple_trig_synth', \n",
    "            'simple_linear_synth', \n",
    "            'exponential_interaction_synth',\n",
    "            'summed_squares_exponential_synth',\n",
    "            'trigonometric_polynomial_synth',\n",
    "            ]\n",
    "for dataset in datasets:\n",
    "    results[dataset] = []\n",
    "    if dataset=='simple_trig_synth':\n",
    "        X, y = load_simple_trig_synth()\n",
    "    elif dataset=='simple_linear_synth':\n",
    "        X, y = load_simple_linear_synth()\n",
    "    elif dataset=='exponential_interaction_synth':\n",
    "        X, y = load_exponential_interaction_synth()\n",
    "    elif dataset=='summed_squares_exponential_synth':\n",
    "        X, y = load_summed_squares_exponential_synth()\n",
    "    elif dataset=='trigonometric_polynomial_synth':\n",
    "        X, y = load_trigonometric_polynomial_synth()\n",
    "        \n",
    "    X_train, X_test, y_train, y_test = train_test_split(X, y, test_size=0.2, random_state=42)\n",
    "    \n",
    "    print(\"Dataset: \",dataset)\n",
    "    for seed in range(5):\n",
    "        # Set a seed for reproducibility\n",
    "        np.random.seed(seed)\n",
    "        \n",
    "        random_forest = RandomForestRegressor(n_estimators=100, random_state=seed)\n",
    "        random_forest.fit(X_train, y_train)\n",
    "\n",
    "        # Get feature importances\n",
    "        importances = random_forest.feature_importances_\n",
    "\n",
    "        # Print the feature importances\n",
    "        print(\"Feature Importances:\", importances)\n",
    "\n",
    "        # Select features based on importance (e.g., top 10 features)\n",
    "        indices = np.argsort(importances)[-10:]  # Indices of top 10 features\n",
    "        print(\"Indices of Top 10 Features:\", indices)\n",
    "        results[dataset].append(importances)"
   ]
  },
  {
   "cell_type": "markdown",
   "metadata": {},
   "source": [
    "simple_trig_synth: 1,2\n",
    "\n",
    "simple_linear_synth: 3, 4\n",
    "\n",
    "exponential_interaction_synth: 0,1,2,3,4\n",
    "\n",
    "summed_squares_exponential_synth: 0, 1, 2, 3, 4, \n",
    "\n",
    "trigonometric_polynomial_synth: 5,6,7,8,9,10\n"
   ]
  },
  {
   "cell_type": "code",
   "execution_count": null,
   "metadata": {},
   "outputs": [],
   "source": []
  }
 ],
 "metadata": {
  "kernelspec": {
   "display_name": "fwal",
   "language": "python",
   "name": "python3"
  },
  "language_info": {
   "codemirror_mode": {
    "name": "ipython",
    "version": 3
   },
   "file_extension": ".py",
   "mimetype": "text/x-python",
   "name": "python",
   "nbconvert_exporter": "python",
   "pygments_lexer": "ipython3",
   "version": "3.10.12"
  }
 },
 "nbformat": 4,
 "nbformat_minor": 2
}
