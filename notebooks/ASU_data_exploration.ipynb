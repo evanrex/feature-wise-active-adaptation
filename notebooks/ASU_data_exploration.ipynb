{
 "cells": [
  {
   "cell_type": "code",
   "execution_count": 7,
   "metadata": {},
   "outputs": [],
   "source": [
    "import scipy.io\n",
    "import numpy as np\n",
    "import pandas as pd\n",
    "import os"
   ]
  },
  {
   "cell_type": "code",
   "execution_count": 14,
   "metadata": {},
   "outputs": [
    {
     "name": "stdout",
     "output_type": "stream",
     "text": [
      "COIL20: X.shape=(1440, 1024), y.shape=(1440,)\n"
     ]
    },
    {
     "name": "stdout",
     "output_type": "stream",
     "text": [
      "gisette: X.shape=(7000, 5000), y.shape=(7000,)\n",
      "Isolet: X.shape=(1560, 617), y.shape=(1560,)\n",
      "madelon: X.shape=(2600, 500), y.shape=(2600,)\n",
      "USPS: X.shape=(9298, 256), y.shape=(9298,)\n"
     ]
    }
   ],
   "source": [
    "base_path = \"/home/er647/projects/feature-wise-active-learning/data\"\n",
    "def load_ASU_dataset(name):\n",
    "    mat = scipy.io.loadmat(os.path.join(base_path, \"ASU_datasets\", f\"{name}.mat\"))\n",
    "    X = mat['X']\n",
    "    y = np.squeeze(mat['Y'])\n",
    "    \n",
    "    return X, y\n",
    "\n",
    "names = [\"COIL20\", \"gisette\", \"Isolet\", \"madelon\", \"USPS\"]\n",
    "\n",
    "for name in names:\n",
    "    X, y = load_ASU_dataset(name)\n",
    "    print(f\"{name}: X.shape={X.shape}, y.shape={y.shape}\")\n",
    "    assert X.shape[0] == y.shape[0]\n",
    "    assert isinstance(X, np.ndarray)"
   ]
  }
 ],
 "metadata": {
  "kernelspec": {
   "display_name": "fwal",
   "language": "python",
   "name": "python3"
  },
  "language_info": {
   "codemirror_mode": {
    "name": "ipython",
    "version": 3
   },
   "file_extension": ".py",
   "mimetype": "text/x-python",
   "name": "python",
   "nbconvert_exporter": "python",
   "pygments_lexer": "ipython3",
   "version": "3.10.12"
  }
 },
 "nbformat": 4,
 "nbformat_minor": 2
}
