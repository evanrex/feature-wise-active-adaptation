{
 "cells": [
  {
   "cell_type": "code",
   "execution_count": 39,
   "metadata": {},
   "outputs": [],
   "source": [
    "import numpy as np"
   ]
  },
  {
   "cell_type": "code",
   "execution_count": 40,
   "metadata": {},
   "outputs": [],
   "source": [
    "import wandb\n",
    "\n",
    "# Initialize a wandb API object\n",
    "api = wandb.Api(timeout=60)\n",
    "\n",
    "# Replace 'your_project_path' with your actual project path, e.g., 'evangeorgerex/f\n"
   ]
  },
  {
   "cell_type": "code",
   "execution_count": 41,
   "metadata": {},
   "outputs": [],
   "source": [
    "run = api.run(\"evangeorgerex/fwal/runs/xgzcuu37\")\n",
    "# xgzcuu37 xgboost\n",
    "# 2j5c9lxu lasso\n",
    "# 9on5gumd rf"
   ]
  },
  {
   "cell_type": "code",
   "execution_count": 49,
   "metadata": {},
   "outputs": [],
   "source": [
    "def load_feature_importance(run):\n",
    "    # Load the feature importance\n",
    "    history = run.history()\n",
    "    \n",
    "    max_index = max(int(col.split('_')[-1]) for col in history.columns if 'feature_importances.feature' in col)\n",
    "    feature_importances = np.full(max_index + 1, np.nan)\n",
    "\n",
    "    # Iterate over each column and place the non-NaN value in the corresponding position in the array\n",
    "    for col in history.columns:\n",
    "        if 'feature_importances.feature' in col:\n",
    "            # Extract the feature index from the column name\n",
    "            feature_index = int(col.split('_')[-1])\n",
    "            # Find the non-NaN value in this column\n",
    "            non_nan_value = history[col].dropna().values[0]  # assuming there is exactly one non-NaN value per feature\n",
    "            feature_importances[feature_index] = non_nan_value\n",
    "    return feature_importances\n",
    "\n",
    "def load_feature_importance_lasso(run):\n",
    "\n",
    "    history = run.history()\n",
    "\n",
    "    # Determine the maximum indices for classes and features\n",
    "    max_class_index = max(int(col.split('_')[1]) for col in history.columns if 'class_' in col)\n",
    "    max_feature_index = max(int(col.split('_')[-1]) for col in history.columns if 'feature' in col)\n",
    "\n",
    "    # Initialize a 2D array of NaNs\n",
    "    coef = np.full((max_class_index + 1, max_feature_index + 1), np.nan)\n",
    "\n",
    "    # Iterate over each column and assign values to the coef array\n",
    "    for col in history.columns:\n",
    "        if 'class_' in col and 'feature' in col:\n",
    "            parts = col.split('_')\n",
    "            class_index = int(parts[1])\n",
    "            feature_index = int(parts[-1])\n",
    "            # Find the non-NaN value in this column\n",
    "            non_nan_value = history[col].dropna().values[0]  # assuming there is exactly one non-NaN value per feature and class\n",
    "            coef[class_index, feature_index] = non_nan_value\n",
    "\n",
    "    # Now 'coef' is your reconstructed 2D array similar to 'model.coef_' in sklearn Lasso for multi-class problems\n",
    "    feature_importance = np.mean(np.abs(coef), axis=0)\n",
    "    return feature_importance"
   ]
  },
  {
   "cell_type": "code",
   "execution_count": 43,
   "metadata": {},
   "outputs": [
    {
     "data": {
      "text/plain": [
       "array([0.006493, 0.      , 0.      , ..., 0.      , 0.      , 0.      ])"
      ]
     },
     "execution_count": 43,
     "metadata": {},
     "output_type": "execute_result"
    }
   ],
   "source": [
    "load_feature_importance(run)"
   ]
  },
  {
   "cell_type": "code",
   "execution_count": 44,
   "metadata": {},
   "outputs": [
    {
     "data": {
      "text/plain": [
       "array([0.00398822, 0.0020938 , 0.00098478, ..., 0.00302319, 0.00384115,\n",
       "       0.00315465])"
      ]
     },
     "execution_count": 44,
     "metadata": {},
     "output_type": "execute_result"
    }
   ],
   "source": [
    "rf_run = api.run(\"evangeorgerex/fwal/runs/9on5gumd\")\n",
    "load_feature_importance(rf_run)\n"
   ]
  },
  {
   "cell_type": "code",
   "execution_count": 45,
   "metadata": {},
   "outputs": [],
   "source": [
    "lasso_run = api.run(\"evangeorgerex/fwal/runs/2j5c9lxu\")\n"
   ]
  },
  {
   "cell_type": "code",
   "execution_count": 50,
   "metadata": {},
   "outputs": [
    {
     "data": {
      "text/plain": [
       "array([0.02696365, 0.0113033 , 0.00118566, ..., 0.01905022, 0.0274675 ,\n",
       "       0.02776831])"
      ]
     },
     "execution_count": 50,
     "metadata": {},
     "output_type": "execute_result"
    }
   ],
   "source": [
    "load_feature_importance_lasso(lasso_run)"
   ]
  },
  {
   "cell_type": "code",
   "execution_count": null,
   "metadata": {},
   "outputs": [],
   "source": []
  }
 ],
 "metadata": {
  "kernelspec": {
   "display_name": "fwal",
   "language": "python",
   "name": "python3"
  },
  "language_info": {
   "codemirror_mode": {
    "name": "ipython",
    "version": 3
   },
   "file_extension": ".py",
   "mimetype": "text/x-python",
   "name": "python",
   "nbconvert_exporter": "python",
   "pygments_lexer": "ipython3",
   "version": "3.10.12"
  }
 },
 "nbformat": 4,
 "nbformat_minor": 2
}
