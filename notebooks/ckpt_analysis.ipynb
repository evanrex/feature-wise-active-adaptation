{
 "cells": [
  {
   "cell_type": "code",
   "execution_count": 9,
   "metadata": {},
   "outputs": [],
   "source": [
    "import numpy as np\n",
    "import torch"
   ]
  },
  {
   "cell_type": "code",
   "execution_count": 8,
   "metadata": {},
   "outputs": [],
   "source": [
    "import sys\n",
    "sys.path.append('/home/er647/projects/feature-wise-active-learning/src')\n",
    "\n",
    "from models import FWAL\n",
    "\n",
    "# Now you can use FWAL class\n"
   ]
  },
  {
   "cell_type": "code",
   "execution_count": 18,
   "metadata": {},
   "outputs": [
    {
     "data": {
      "text/plain": [
       "tensor([0., 0., 1.])"
      ]
     },
     "execution_count": 18,
     "metadata": {},
     "output_type": "execute_result"
    }
   ],
   "source": [
    "torch.bernoulli(torch.Tensor([0.1,0.5,0.9]))"
   ]
  },
  {
   "cell_type": "markdown",
   "metadata": {},
   "source": [
    "L1 regularizer = 0"
   ]
  },
  {
   "cell_type": "code",
   "execution_count": 19,
   "metadata": {},
   "outputs": [],
   "source": [
    "# Assuming 'model.ckpt' is your checkpoint file\n",
    "checkpoint_path = '/home/er647/projects/feature-wise-active-learning/fwal/i22brw5y/checkpoints/last.ckpt'\n",
    "args={\n",
    "    'lr':None,\n",
    "    'num_features':5,\n",
    "    'num_classes':2\n",
    "    }\n",
    "\n",
    "import argparse\n",
    "\n",
    "args = argparse.Namespace(**args)\n",
    "\n",
    "# Load the trained model from the checkpoint\n",
    "trained_model = FWAL.load_from_checkpoint(checkpoint_path, args=args)"
   ]
  },
  {
   "cell_type": "code",
   "execution_count": 21,
   "metadata": {},
   "outputs": [
    {
     "data": {
      "text/plain": [
       "Namespace(lr=None, num_features=5, num_classes=2)"
      ]
     },
     "execution_count": 21,
     "metadata": {},
     "output_type": "execute_result"
    }
   ],
   "source": []
  },
  {
   "cell_type": "code",
   "execution_count": 11,
   "metadata": {},
   "outputs": [
    {
     "data": {
      "text/plain": [
       "Parameter containing:\n",
       "tensor([0.5188, 0.6100, 0.7584, 0.7036, 0.3879], device='cuda:0',\n",
       "       requires_grad=True)"
      ]
     },
     "execution_count": 11,
     "metadata": {},
     "output_type": "execute_result"
    }
   ],
   "source": [
    "trained_model.mask"
   ]
  },
  {
   "cell_type": "markdown",
   "metadata": {},
   "source": [
    "L1 regularizer = 1"
   ]
  },
  {
   "cell_type": "code",
   "execution_count": 2,
   "metadata": {},
   "outputs": [
    {
     "data": {
      "text/plain": [
       "Parameter containing:\n",
       "tensor([ 4.8612e-04,  2.1689e-03,  5.3685e-03,  1.0980e-06, -3.3920e-04],\n",
       "       device='cuda:0', requires_grad=True)"
      ]
     },
     "execution_count": 2,
     "metadata": {},
     "output_type": "execute_result"
    }
   ],
   "source": [
    "\n",
    "checkpoint_path = '/home/er647/projects/feature-wise-active-learning/fwal/6zj4la83/checkpoints/last.ckpt'\n",
    "args={\n",
    "    'lr':None,\n",
    "    'num_features':5,\n",
    "    'num_classes':2\n",
    "    }\n",
    "\n",
    "import argparse\n",
    "\n",
    "args = argparse.Namespace(**args)\n",
    "\n",
    "# Load the trained model from the checkpoint\n",
    "trained_model = FWAL.load_from_checkpoint(checkpoint_path, args=args)\n",
    "trained_model.mask"
   ]
  },
  {
   "cell_type": "code",
   "execution_count": 7,
   "metadata": {},
   "outputs": [
    {
     "name": "stdout",
     "output_type": "stream",
     "text": [
      "[ 0.0005  0.0022  0.0054  0.     -0.0003]\n"
     ]
    }
   ],
   "source": [
    "rounded_tensor = np.around(trained_model.mask.detach().cpu().numpy(), decimals=4)\n",
    "\n",
    "# Print the rounded values\n",
    "print(rounded_tensor)"
   ]
  },
  {
   "cell_type": "markdown",
   "metadata": {},
   "source": [
    "Hoyer regularizer"
   ]
  },
  {
   "cell_type": "code",
   "execution_count": 8,
   "metadata": {},
   "outputs": [
    {
     "data": {
      "text/plain": [
       "Parameter containing:\n",
       "tensor([ 3.0875e-04,  9.4777e-03,  1.6940e+00,  1.7864e-03, -3.2130e-04],\n",
       "       device='cuda:0', requires_grad=True)"
      ]
     },
     "execution_count": 8,
     "metadata": {},
     "output_type": "execute_result"
    }
   ],
   "source": [
    "checkpoint_path = '/home/er647/projects/feature-wise-active-learning/fwal/980m2bnj/checkpoints/last.ckpt'\n",
    "args={\n",
    "    'lr':None,\n",
    "    'num_features':5,\n",
    "    'num_classes':2\n",
    "    }\n",
    "\n",
    "import argparse\n",
    "\n",
    "args = argparse.Namespace(**args)\n",
    "\n",
    "# Load the trained model from the checkpoint\n",
    "trained_model = FWAL.load_from_checkpoint(checkpoint_path, args=args)\n",
    "trained_model.mask"
   ]
  },
  {
   "cell_type": "code",
   "execution_count": 9,
   "metadata": {},
   "outputs": [
    {
     "name": "stdout",
     "output_type": "stream",
     "text": [
      "[ 3.000e-04  9.500e-03  1.694e+00  1.800e-03 -3.000e-04]\n"
     ]
    }
   ],
   "source": [
    "rounded_tensor = np.around(trained_model.mask.detach().cpu().numpy(), decimals=4)\n",
    "\n",
    "# Print the rounded values\n",
    "print(rounded_tensor)"
   ]
  },
  {
   "cell_type": "markdown",
   "metadata": {},
   "source": [
    "Hoyer regularizer = 1; reconstruction gamma = 1 "
   ]
  },
  {
   "cell_type": "code",
   "execution_count": null,
   "metadata": {},
   "outputs": [],
   "source": []
  }
 ],
 "metadata": {
  "kernelspec": {
   "display_name": "FWAL_kernel",
   "language": "python",
   "name": "fwal"
  },
  "language_info": {
   "codemirror_mode": {
    "name": "ipython",
    "version": 3
   },
   "file_extension": ".py",
   "mimetype": "text/x-python",
   "name": "python",
   "nbconvert_exporter": "python",
   "pygments_lexer": "ipython3",
   "version": "3.10.12"
  }
 },
 "nbformat": 4,
 "nbformat_minor": 2
}
