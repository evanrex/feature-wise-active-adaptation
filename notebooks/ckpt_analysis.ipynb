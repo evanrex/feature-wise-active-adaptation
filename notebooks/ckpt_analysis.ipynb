{
 "cells": [
  {
   "cell_type": "code",
   "execution_count": 1,
   "metadata": {},
   "outputs": [],
   "source": [
    "import os"
   ]
  },
  {
   "cell_type": "code",
   "execution_count": 2,
   "metadata": {},
   "outputs": [
    {
     "data": {
      "text/plain": [
       "'/home/er647/projects/feature-wise-active-learning/notebooks'"
      ]
     },
     "execution_count": 2,
     "metadata": {},
     "output_type": "execute_result"
    }
   ],
   "source": [
    "os.getcwd()"
   ]
  },
  {
   "cell_type": "code",
   "execution_count": 3,
   "metadata": {},
   "outputs": [],
   "source": [
    "import sys\n",
    "sys.path.append('/home/er647/projects/feature-wise-active-learning/src')\n",
    "\n",
    "from models import FWAL\n",
    "\n",
    "# Now you can use FWAL class\n"
   ]
  },
  {
   "cell_type": "code",
   "execution_count": 9,
   "metadata": {},
   "outputs": [],
   "source": [
    "# Assuming 'model.ckpt' is your checkpoint file\n",
    "checkpoint_path = '/home/er647/projects/feature-wise-active-learning/fwal/i22brw5y/checkpoints/last.ckpt'\n",
    "args={\n",
    "    'lr':None,\n",
    "    'num_features':5,\n",
    "    'num_classes':2\n",
    "    }\n",
    "\n",
    "import argparse\n",
    "\n",
    "args = argparse.Namespace(**args)\n",
    "\n",
    "# Load the trained model from the checkpoint\n",
    "trained_model = FWAL.load_from_checkpoint(checkpoint_path, args=args)"
   ]
  },
  {
   "cell_type": "code",
   "execution_count": 11,
   "metadata": {},
   "outputs": [
    {
     "data": {
      "text/plain": [
       "Parameter containing:\n",
       "tensor([0.5188, 0.6100, 0.7584, 0.7036, 0.3879], device='cuda:0',\n",
       "       requires_grad=True)"
      ]
     },
     "execution_count": 11,
     "metadata": {},
     "output_type": "execute_result"
    }
   ],
   "source": [
    "trained_model.mask"
   ]
  },
  {
   "cell_type": "code",
   "execution_count": null,
   "metadata": {},
   "outputs": [],
   "source": []
  }
 ],
 "metadata": {
  "kernelspec": {
   "display_name": "FWAL_kernel",
   "language": "python",
   "name": "fwal"
  },
  "language_info": {
   "codemirror_mode": {
    "name": "ipython",
    "version": 3
   },
   "file_extension": ".py",
   "mimetype": "text/x-python",
   "name": "python",
   "nbconvert_exporter": "python",
   "pygments_lexer": "ipython3",
   "version": "3.10.12"
  }
 },
 "nbformat": 4,
 "nbformat_minor": 2
}
