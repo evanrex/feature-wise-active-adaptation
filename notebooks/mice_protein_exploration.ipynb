{
 "cells": [
  {
   "cell_type": "code",
   "execution_count": 4,
   "metadata": {},
   "outputs": [],
   "source": [
    "import numpy as np\n",
    "import pandas as pd\n",
    "from sklearn.preprocessing import MinMaxScaler\n"
   ]
  },
  {
   "cell_type": "code",
   "execution_count": 23,
   "metadata": {},
   "outputs": [],
   "source": [
    "mice_path = '/home/er647/projects/feature-wise-active-learning/data/Mice_Protein/Data_Cortex_Nuclear.csv'\n",
    "\n",
    "\n",
    "def load_mice(one_hot = True):\n",
    "    filling_value = -100000\n",
    "\n",
    "    X = np.genfromtxt(mice_path, delimiter = ',', skip_header = 1, usecols = range(1, 78), filling_values = filling_value, encoding = 'UTF-8')\n",
    "    classes = np.genfromtxt(mice_path, delimiter = ',', skip_header = 1, usecols = range(78, 81), dtype = None, encoding = 'UTF-8')\n",
    "\n",
    "    for i, row in enumerate(X):\n",
    "        for j, val in enumerate(row):\n",
    "            if val == filling_value:\n",
    "                X[i, j] = np.mean([X[k, j] for k in range(classes.shape[0]) if np.all(classes[i] == classes[k])])\n",
    "\n",
    "    DY = np.zeros((classes.shape[0]), dtype = np.uint8)\n",
    "    for i, row in enumerate(classes):\n",
    "        for j, (val, label) in enumerate(zip(row, ['Control', 'Memantine', 'C/S'])):\n",
    "            DY[i] += (2 ** j) * (val == label)\n",
    "\n",
    "    Y = np.zeros((DY.shape[0], np.unique(DY).shape[0]))\n",
    "    for idx, val in enumerate(DY):\n",
    "        Y[idx, val] = 1\n",
    "\n",
    "    X = MinMaxScaler(feature_range=(0,1)).fit_transform(X)\n",
    "\n",
    "    indices = np.arange(X.shape[0])\n",
    "    np.random.shuffle(indices)\n",
    "    X = X[indices]\n",
    "    Y = Y[indices]\n",
    "    DY = DY[indices]\n",
    "    classes = classes[indices]\n",
    "    \n",
    "    if not one_hot:\n",
    "        Y = DY\n",
    "        \n",
    "    X = X.astype(np.float32)\n",
    "    Y = Y.astype(np.float32)\n",
    "    \n",
    "    print(X.shape, Y.shape)\n",
    "    \n",
    "    return (X[: X.shape[0] * 4 // 5], Y[: X.shape[0] * 4 // 5]), (X[X.shape[0] * 4 // 5:], Y[X.shape[0] * 4 // 5: ])\n"
   ]
  },
  {
   "cell_type": "code",
   "execution_count": 24,
   "metadata": {},
   "outputs": [
    {
     "name": "stdout",
     "output_type": "stream",
     "text": [
      "(1080, 77) (1080, 8)\n"
     ]
    }
   ],
   "source": [
    "ret = load_mice()"
   ]
  },
  {
   "cell_type": "code",
   "execution_count": 25,
   "metadata": {},
   "outputs": [],
   "source": [
    "train, test = ret\n",
    "X_train, y_train = train\n",
    "\n",
    "X_test, y_test = test\n"
   ]
  },
  {
   "cell_type": "code",
   "execution_count": 26,
   "metadata": {},
   "outputs": [
    {
     "data": {
      "text/plain": [
       "((864, 77), (864, 8))"
      ]
     },
     "execution_count": 26,
     "metadata": {},
     "output_type": "execute_result"
    }
   ],
   "source": [
    "X_train.shape, y_train.shape"
   ]
  },
  {
   "cell_type": "code",
   "execution_count": 27,
   "metadata": {},
   "outputs": [
    {
     "data": {
      "text/plain": [
       "((216, 77), (216, 8))"
      ]
     },
     "execution_count": 27,
     "metadata": {},
     "output_type": "execute_result"
    }
   ],
   "source": [
    "X_test.shape, y_test.shape\n"
   ]
  },
  {
   "cell_type": "code",
   "execution_count": 28,
   "metadata": {},
   "outputs": [
    {
     "data": {
      "text/plain": [
       "array([[0., 0., 0., ..., 0., 0., 0.],\n",
       "       [0., 1., 0., ..., 0., 0., 0.],\n",
       "       [0., 0., 0., ..., 1., 0., 0.],\n",
       "       ...,\n",
       "       [0., 0., 1., ..., 0., 0., 0.],\n",
       "       [0., 0., 0., ..., 0., 1., 0.],\n",
       "       [0., 0., 0., ..., 0., 1., 0.]], dtype=float32)"
      ]
     },
     "execution_count": 28,
     "metadata": {},
     "output_type": "execute_result"
    }
   ],
   "source": [
    "y_train"
   ]
  },
  {
   "cell_type": "code",
   "execution_count": 29,
   "metadata": {},
   "outputs": [
    {
     "data": {
      "text/plain": [
       "array([[0.9990008 , 0.9990378 , 0.99990886, ..., 0.9999959 , 0.99999535,\n",
       "        0.29492882],\n",
       "       [0.9990162 , 0.9990806 , 0.99993986, ..., 0.9999938 , 0.99999434,\n",
       "        0.4443824 ],\n",
       "       [0.999029  , 0.99907637, 0.99989676, ..., 0.9999932 , 0.9999932 ,\n",
       "        0.7109026 ],\n",
       "       ...,\n",
       "       [0.998987  , 0.99900556, 0.9999088 , ..., 0.4993335 , 0.9999992 ,\n",
       "        0.05470163],\n",
       "       [0.9991248 , 0.9991505 , 0.999909  , ..., 0.9999934 , 0.9999946 ,\n",
       "        0.6992083 ],\n",
       "       [0.9992677 , 0.99926716, 0.9999119 , ..., 0.99999285, 0.9999934 ,\n",
       "        0.62603366]], dtype=float32)"
      ]
     },
     "execution_count": 29,
     "metadata": {},
     "output_type": "execute_result"
    }
   ],
   "source": [
    "X_train"
   ]
  },
  {
   "cell_type": "code",
   "execution_count": null,
   "metadata": {},
   "outputs": [],
   "source": []
  }
 ],
 "metadata": {
  "kernelspec": {
   "display_name": "fwal",
   "language": "python",
   "name": "python3"
  },
  "language_info": {
   "codemirror_mode": {
    "name": "ipython",
    "version": 3
   },
   "file_extension": ".py",
   "mimetype": "text/x-python",
   "name": "python",
   "nbconvert_exporter": "python",
   "pygments_lexer": "ipython3",
   "version": "3.10.12"
  }
 },
 "nbformat": 4,
 "nbformat_minor": 2
}
