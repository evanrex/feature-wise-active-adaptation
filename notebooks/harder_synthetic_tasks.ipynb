{
 "cells": [
  {
   "cell_type": "code",
   "execution_count": 38,
   "metadata": {},
   "outputs": [],
   "source": [
    "import numpy as np\n",
    "from sklearn.preprocessing import OneHotEncoder\n"
   ]
  },
  {
   "cell_type": "code",
   "execution_count": 57,
   "metadata": {},
   "outputs": [
    {
     "name": "stdout",
     "output_type": "stream",
     "text": [
      "(10000, 20)\n",
      "[ 0.09762701  0.43037873  0.20552675  0.08976637 -0.1526904   0.00953103\n",
      "  0.18522585  0.04224125  0.008058    0.02331436  1.          0.\n",
      "  0.          0.          0.          0.          0.          0.\n",
      "  0.          0.        ]\n"
     ]
    },
    {
     "name": "stderr",
     "output_type": "stream",
     "text": [
      "/home/er647/.conda/envs/fwal/lib/python3.10/site-packages/sklearn/preprocessing/_encoders.py:975: FutureWarning: `sparse` was renamed to `sparse_output` in version 1.2 and will be removed in 1.4. `sparse_output` is ignored unless you leave `sparse` to its default value.\n",
      "  warnings.warn(\n"
     ]
    }
   ],
   "source": [
    "np.random.seed(0)\n",
    "\n",
    "independent_features = np.random.rand(10000, 5)*2 -1\n",
    "\n",
    "# Construct 5 new features which are squares of the original 5 features\n",
    "squared_features = independent_features ** 2\n",
    "\n",
    "# Construct the 6th feature as a product of the 5 new squared features\n",
    "product_feature = np.prod(independent_features, axis=1).reshape(-1, 1)\n",
    "\n",
    "# Combine the original dataset, the squared features, and the product feature into a new dataset\n",
    "new_dataset = np.hstack((independent_features, squared_features, product_feature))\n",
    "\n",
    "binarised_dataset = np.hstack([new_dataset[:, 0:5] > 0, new_dataset[:, 5:10] > 0.5, new_dataset[:, 10].reshape(-1, 1) > 0])\n",
    "\n",
    "binarised_dataset = binarised_dataset.astype(int)\n",
    "\n",
    "# First, convert the binary dataset rows into 11-digit binary numbers (as strings)\n",
    "binary_strings = [''.join(row.astype(str)) for row in binarised_dataset]\n",
    "\n",
    "# Now, convert these binary strings into decimal integers\n",
    "decimal_numbers = np.array([int(binary_string, 2) for binary_string in binary_strings])\n",
    "\n",
    "labels  = decimal_numbers % 10\n",
    "\n",
    "X = np.hstack((independent_features, squared_features))\n",
    "\n",
    "y = labels\n",
    "\n",
    "encoder = OneHotEncoder(sparse=False, categories='auto')\n",
    "\n",
    "# Fit and transform 'Y' to one-hot encoded format\n",
    "Y_ohe_np = encoder.fit_transform(y.reshape(-1, 1))\n",
    "\n",
    "dataset = np.hstack((X, Y_ohe_np))\n",
    "\n",
    "print(dataset.shape) \n",
    "print(dataset[0])"
   ]
  },
  {
   "cell_type": "code",
   "execution_count": 58,
   "metadata": {},
   "outputs": [],
   "source": [
    "np.savetxt('/home/er647/projects/feature-wise-active-learning/data/SyntheticData/poly_binarised_decimalised_mod10_synth_dataset.csv', dataset, delimiter=\",\")"
   ]
  },
  {
   "cell_type": "code",
   "execution_count": 59,
   "metadata": {},
   "outputs": [],
   "source": [
    "# Specify the path to the CSV file\n",
    "csv_file_path = '/home/er647/projects/feature-wise-active-learning/data/SyntheticData/poly_binarised_decimalised_mod10_synth_dataset.csv'  # Replace with the actual path to your CSV file\n",
    "\n",
    "# Load the dataset from the CSV file\n",
    "loaded_dataset = np.loadtxt(csv_file_path, delimiter=\",\")"
   ]
  },
  {
   "cell_type": "code",
   "execution_count": 60,
   "metadata": {},
   "outputs": [
    {
     "data": {
      "text/plain": [
       "(10000, 20)"
      ]
     },
     "execution_count": 60,
     "metadata": {},
     "output_type": "execute_result"
    }
   ],
   "source": [
    "loaded_dataset.shape"
   ]
  },
  {
   "cell_type": "code",
   "execution_count": 37,
   "metadata": {},
   "outputs": [
    {
     "data": {
      "text/plain": [
       "array([ 0.09762701,  0.43037873,  0.20552675,  0.08976637, -0.1526904 ,\n",
       "        0.00953103,  0.18522585,  0.04224125,  0.008058  ,  0.02331436,\n",
       "        0.00000001,  1.        ])"
      ]
     },
     "execution_count": 37,
     "metadata": {},
     "output_type": "execute_result"
    }
   ],
   "source": [
    "loaded_dataset[0]"
   ]
  }
 ],
 "metadata": {
  "kernelspec": {
   "display_name": "fwal",
   "language": "python",
   "name": "python3"
  },
  "language_info": {
   "codemirror_mode": {
    "name": "ipython",
    "version": 3
   },
   "file_extension": ".py",
   "mimetype": "text/x-python",
   "name": "python",
   "nbconvert_exporter": "python",
   "pygments_lexer": "ipython3",
   "version": "3.10.12"
  }
 },
 "nbformat": 4,
 "nbformat_minor": 2
}
