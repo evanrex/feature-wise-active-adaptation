{
 "cells": [
  {
   "cell_type": "code",
   "execution_count": 177,
   "metadata": {},
   "outputs": [],
   "source": [
    "import wandb\n",
    "import numpy as np\n",
    "import pandas as pd\n",
    "import seaborn as sns\n",
    "import matplotlib.pyplot as plt\n",
    "import pytorch_lightning as pl\n",
    "from sklearn.metrics import f1_score, balanced_accuracy_score, precision_score, recall_score, roc_auc_score\n",
    "\n"
   ]
  },
  {
   "cell_type": "code",
   "execution_count": 178,
   "metadata": {},
   "outputs": [],
   "source": [
    "import sys\n",
    "sys.path.insert(0, '/home/er647/projects/feature-wise-active-learning/src')"
   ]
  },
  {
   "cell_type": "code",
   "execution_count": 179,
   "metadata": {},
   "outputs": [],
   "source": [
    "from models import FWAL\n",
    "from dataset import create_data_module"
   ]
  },
  {
   "cell_type": "code",
   "execution_count": 180,
   "metadata": {},
   "outputs": [],
   "source": [
    "\n",
    "entity = \"evangeorgerex\"\n",
    "project = \"fwal\"\n",
    "sweep_id = \"z9b6sox8\""
   ]
  },
  {
   "cell_type": "code",
   "execution_count": 181,
   "metadata": {},
   "outputs": [
    {
     "data": {
      "text/html": [
       "Finishing last run (ID:d65g5ki8) before initializing another..."
      ],
      "text/plain": [
       "<IPython.core.display.HTML object>"
      ]
     },
     "metadata": {},
     "output_type": "display_data"
    },
    {
     "name": "stderr",
     "output_type": "stream",
     "text": [
      "wandb: WARNING Source type is set to 'repo' but some required information is missing from the environment. A job will not be created from this run. See https://docs.wandb.ai/guides/launch/create-job\n"
     ]
    },
    {
     "data": {
      "application/vnd.jupyter.widget-view+json": {
       "model_id": "2f8e4e63dea84158ac0a6fa8574a2796",
       "version_major": 2,
       "version_minor": 0
      },
      "text/plain": [
       "VBox(children=(Label(value='0.133 MB of 0.133 MB uploaded\\r'), FloatProgress(value=1.0, max=1.0)))"
      ]
     },
     "metadata": {},
     "output_type": "display_data"
    },
    {
     "data": {
      "text/html": [
       " View run <strong style=\"color:#cdcd00\">frosty-monkey-2543</strong> at: <a href='https://wandb.ai/evangeorgerex/fwal/runs/d65g5ki8' target=\"_blank\">https://wandb.ai/evangeorgerex/fwal/runs/d65g5ki8</a><br/>Synced 6 W&B file(s), 2 media file(s), 2 artifact file(s) and 0 other file(s)"
      ],
      "text/plain": [
       "<IPython.core.display.HTML object>"
      ]
     },
     "metadata": {},
     "output_type": "display_data"
    },
    {
     "data": {
      "text/html": [
       "Find logs at: <code>./wandb/run-20240407_125459-d65g5ki8/logs</code>"
      ],
      "text/plain": [
       "<IPython.core.display.HTML object>"
      ]
     },
     "metadata": {},
     "output_type": "display_data"
    },
    {
     "data": {
      "text/html": [
       "Successfully finished last run (ID:d65g5ki8). Initializing new run:<br/>"
      ],
      "text/plain": [
       "<IPython.core.display.HTML object>"
      ]
     },
     "metadata": {},
     "output_type": "display_data"
    },
    {
     "data": {
      "application/vnd.jupyter.widget-view+json": {
       "model_id": "3c631d3b0e1f47f5be006720ae2d7d69",
       "version_major": 2,
       "version_minor": 0
      },
      "text/plain": [
       "VBox(children=(Label(value='Waiting for wandb.init()...\\r'), FloatProgress(value=0.011115256257148253, max=1.0…"
      ]
     },
     "metadata": {},
     "output_type": "display_data"
    },
    {
     "data": {
      "text/html": [
       "wandb version 0.16.6 is available!  To upgrade, please run:\n",
       " $ pip install wandb --upgrade"
      ],
      "text/plain": [
       "<IPython.core.display.HTML object>"
      ]
     },
     "metadata": {},
     "output_type": "display_data"
    },
    {
     "data": {
      "text/html": [
       "Tracking run with wandb version 0.16.1"
      ],
      "text/plain": [
       "<IPython.core.display.HTML object>"
      ]
     },
     "metadata": {},
     "output_type": "display_data"
    },
    {
     "data": {
      "text/html": [
       "Run data is saved locally in <code>/home/er647/projects/feature-wise-active-learning/compute_results/wandb/run-20240407_133641-tg89ycp4</code>"
      ],
      "text/plain": [
       "<IPython.core.display.HTML object>"
      ]
     },
     "metadata": {},
     "output_type": "display_data"
    },
    {
     "data": {
      "text/html": [
       "Syncing run <strong><a href='https://wandb.ai/evangeorgerex/fwal/runs/tg89ycp4' target=\"_blank\">rose-cloud-2544</a></strong> to <a href='https://wandb.ai/evangeorgerex/fwal' target=\"_blank\">Weights & Biases</a> (<a href='https://wandb.me/run' target=\"_blank\">docs</a>)<br/>"
      ],
      "text/plain": [
       "<IPython.core.display.HTML object>"
      ]
     },
     "metadata": {},
     "output_type": "display_data"
    },
    {
     "data": {
      "text/html": [
       " View project at <a href='https://wandb.ai/evangeorgerex/fwal' target=\"_blank\">https://wandb.ai/evangeorgerex/fwal</a>"
      ],
      "text/plain": [
       "<IPython.core.display.HTML object>"
      ]
     },
     "metadata": {},
     "output_type": "display_data"
    },
    {
     "data": {
      "text/html": [
       " View run at <a href='https://wandb.ai/evangeorgerex/fwal/runs/tg89ycp4' target=\"_blank\">https://wandb.ai/evangeorgerex/fwal/runs/tg89ycp4</a>"
      ],
      "text/plain": [
       "<IPython.core.display.HTML object>"
      ]
     },
     "metadata": {},
     "output_type": "display_data"
    },
    {
     "data": {
      "text/html": [
       "<button onClick=\"this.nextSibling.style.display='block';this.style.display='none';\">Display W&B run</button><iframe src='https://wandb.ai/evangeorgerex/fwal/runs/tg89ycp4?jupyter=true' style='border:none;width:100%;height:420px;display:none;'></iframe>"
      ],
      "text/plain": [
       "<wandb.sdk.wandb_run.Run at 0x7fc0c38dc130>"
      ]
     },
     "execution_count": 181,
     "metadata": {},
     "output_type": "execute_result"
    }
   ],
   "source": [
    "wandb.init(project=\"fwal\",entity=\"evangeorgerex\")"
   ]
  },
  {
   "cell_type": "code",
   "execution_count": 182,
   "metadata": {},
   "outputs": [
    {
     "name": "stdout",
     "output_type": "stream",
     "text": [
      "Train size: 1560\n",
      "\n",
      "Valid size: 520\n",
      "\n",
      "Test size: 520\n",
      "\n",
      "Weights for the classification loss: [1. 1.]\n"
     ]
    }
   ],
   "source": [
    "from argparse import Namespace\n",
    "\n",
    "args = Namespace(\n",
    "    lr=0.001,\n",
    "    reconstruction_loss='mse',\n",
    "    concrete_anneal_iterations=0,\n",
    "    mask_init_value=None,\n",
    "    mask_init_p_array=None,\n",
    "    seed_model_mask=0,\n",
    "    dataset='madelon',\n",
    "    dataset_size=None,\n",
    "    evaluate_with_sampled_datasets=False,\n",
    "    data_dir='/home/er647/data/fwal-data',\n",
    "    restrict_features=False,\n",
    "    dataset_feature_set='hallmark',\n",
    "    cv_folds=5,\n",
    "    seed_kfold=None,\n",
    "    test_split=0,\n",
    "    valid_percentage=0.25,\n",
    "    seed_validation=None,\n",
    "    train_on_full_data=False,\n",
    "    patient_preprocessing='standard',\n",
    "    class_weight='balanced',\n",
    "    max_steps=10000,\n",
    "    hpc_run=False,\n",
    "    overfit_batches=0,\n",
    "    deterministic=True,\n",
    "    num_workers=5,\n",
    "    pin_memory=True,\n",
    "    persistent_workers=False,\n",
    "    valid_aug_dropout_p=None,\n",
    "    test_time_interventions_in_progress=False,\n",
    "    as_MLP_baseline=False,\n",
    "    mask_type='gumbel_softmax',\n",
    "    only_reconstruct_masked=True,\n",
    "    gamma=1.0,\n",
    "    sparsity_regularizer='L1',\n",
    "    sparsity_regularizer_hyperparam=1.0,\n",
    "    normalize_sparsity=True,\n",
    "    normalize_reconstruction='num_non_masked_features',\n",
    "    model='fwal',\n",
    "    pretrain=False,\n",
    "    num_necessary_features=0\n",
    "    )\n",
    "data_module = create_data_module(args)\n"
   ]
  },
  {
   "cell_type": "code",
   "execution_count": 183,
   "metadata": {},
   "outputs": [],
   "source": [
    "\n",
    "\n",
    "# Assuming your checkpoint path is as follows\n",
    "checkpoint_path = '/home/er647/data/fwal-data/fwal/n63ewqi8/checkpoints/epoch=53-step=646.ckpt'\n",
    "\n",
    "# Load the model from the checkpoint\n",
    "model = FWAL.load_from_checkpoint(checkpoint_path, args=args)\n",
    "\n",
    "# Now you can use `model` for inference, further training, etc.\n"
   ]
  },
  {
   "cell_type": "code",
   "execution_count": 184,
   "metadata": {},
   "outputs": [
    {
     "name": "stderr",
     "output_type": "stream",
     "text": [
      "You have turned on `Trainer(detect_anomaly=True)`. This will significantly slow down compute speed and is recommended only for model debugging.\n",
      "GPU available: True (cuda), used: True\n",
      "TPU available: False, using: 0 TPU cores\n",
      "IPU available: False, using: 0 IPUs\n",
      "HPU available: False, using: 0 HPUs\n"
     ]
    }
   ],
   "source": [
    "trainer = pl.Trainer(\n",
    "\t# Training\n",
    "\tmax_steps=args.max_steps,\n",
    "\tgradient_clip_val=2.5,\n",
    "\n",
    "\t# logging\n",
    "\t# logger=wandb_logger,\n",
    "\t# log_every_n_steps = 1,\n",
    "\t# val_check_interval = args.val_check_interval,\n",
    "\t# callbacks = callbacks,\n",
    "\n",
    "\t# miscellaneous\n",
    "\taccelerator=\"auto\",\n",
    "\tdevices=\"auto\",\n",
    "\tdetect_anomaly= (not args.hpc_run),\n",
    "\toverfit_batches=args.overfit_batches,\n",
    "\tdeterministic=args.deterministic,\n",
    ")"
   ]
  },
  {
   "cell_type": "code",
   "execution_count": 174,
   "metadata": {},
   "outputs": [],
   "source": [
    "        \n",
    "def get_labels_lists(outputs):\n",
    "\tall_y_true, all_y_pred = [], []\n",
    "\tfor output in outputs:\n",
    "\t\tall_y_true.extend(output['y_true'].detach().cpu().numpy().tolist())\n",
    "\t\tall_y_pred.extend(output['y_pred'].detach().cpu().numpy().tolist())\n",
    "\n",
    "\treturn all_y_true, all_y_pred\n",
    "\n",
    "def evaluate(model, dataloader):\n",
    "    outputs = [model.test_step(batch, batch_idx) for batch_idx, batch in enumerate(dataloader)]\n",
    "    avg_losses = {loss: np.mean([output['losses'][loss].item() for output in outputs]) for loss in ['total', 'reconstruction', 'cross_entropy', 'sparsity']}\n",
    "    \n",
    "    metrics = {f\"{loss}_loss\": avg_losses[loss] for loss in avg_losses}\n",
    "    y_true, y_pred = get_labels_lists(outputs)\n",
    "    metrics.update({\n",
    "        'balanced_accuracy': balanced_accuracy_score(y_true, y_pred),\n",
    "        'F1_weighted': f1_score(y_true, y_pred, average='weighted'),\n",
    "        'precision_weighted': precision_score(y_true, y_pred, average='weighted'),\n",
    "        'recall_weighted': recall_score(y_true, y_pred, average='weighted'),\n",
    "    })\n",
    "    \n",
    "    if model.args.num_classes == 2:\n",
    "        metrics['AUROC_weighted'] = roc_auc_score(y_true, y_pred, average='weighted')\n",
    "    \n",
    "    return metrics\n",
    "\n",
    "\n",
    "def evaluate_test_time_interventions(model, data_module, args):\n",
    "    model.args.test_time_interventions_in_progress = True\n",
    "    num_necessary_features = int(model.necessary_features().float().sum().item())\n",
    "    end = args.num_features - num_necessary_features\n",
    "    \n",
    "    max_steps = 10\n",
    "    num_steps = min(max_steps, end + 1)\n",
    "    \n",
    "    for k in np.linspace(0, end, num_steps, dtype=int):\n",
    "        model.args.num_additional_features = k\n",
    "        valid_metrics = evaluate(model, data_module.val_dataloader()[0])\n",
    "        test_metrics = evaluate(model, data_module.test_dataloader())\n",
    "        \n",
    "        print({\n",
    "            'num_additional_features': k,\n",
    "            'tti_valid_metrics': valid_metrics,\n",
    "            'tti_test_metrics': test_metrics\n",
    "        })\n",
    "\n"
   ]
  },
  {
   "cell_type": "code",
   "execution_count": 187,
   "metadata": {},
   "outputs": [
    {
     "name": "stdout",
     "output_type": "stream",
     "text": [
      "Created 1 validation dataloaders.\n"
     ]
    },
    {
     "name": "stderr",
     "output_type": "stream",
     "text": [
      "/home/er647/.conda/envs/fwal/lib/python3.10/multiprocessing/popen_fork.py:66: RuntimeWarning: os.fork() was called. os.fork() is incompatible with multithreaded code, and JAX is multithreaded, so this will likely lead to a deadlock.\n",
      "  self.pid = os.fork()\n",
      "/home/er647/.conda/envs/fwal/lib/python3.10/multiprocessing/popen_fork.py:66: RuntimeWarning: os.fork() was called. os.fork() is incompatible with multithreaded code, and JAX is multithreaded, so this will likely lead to a deadlock.\n",
      "  self.pid = os.fork()\n",
      "/home/er647/.conda/envs/fwal/lib/python3.10/multiprocessing/popen_fork.py:66: RuntimeWarning: os.fork() was called. os.fork() is incompatible with multithreaded code, and JAX is multithreaded, so this will likely lead to a deadlock.\n",
      "  self.pid = os.fork()\n",
      "/home/er647/.conda/envs/fwal/lib/python3.10/multiprocessing/popen_fork.py:66: RuntimeWarning: os.fork() was called. os.fork() is incompatible with multithreaded code, and JAX is multithreaded, so this will likely lead to a deadlock.\n",
      "  self.pid = os.fork()\n"
     ]
    },
    {
     "name": "stdout",
     "output_type": "stream",
     "text": [
      "{'num_additional_features': 0, 'tti_valid_metrics': {'total_loss': 6.3441160202026365, 'reconstruction_loss': 4.7439360320568085, 'cross_entropy_loss': 0.8215062886476516, 'sparsity_loss': 0.7786735892295837, 'balanced_accuracy': 0.8557692307692308, 'F1_weighted': 0.8556790301630827, 'precision_weighted': 0.8566608829766725, 'recall_weighted': 0.8557692307692307, 'AUROC_weighted': 0.8557692307692308}, 'tti_test_metrics': {'total_loss': 6.701117944717407, 'reconstruction_loss': 4.730796921253204, 'cross_entropy_loss': 1.191647356748581, 'sparsity_loss': 0.7786735892295837, 'balanced_accuracy': 0.875, 'F1_weighted': 0.8747549755253435, 'precision_weighted': 0.8779576866305855, 'recall_weighted': 0.875, 'AUROC_weighted': 0.875}}\n",
      "Created 1 validation dataloaders.\n"
     ]
    },
    {
     "name": "stderr",
     "output_type": "stream",
     "text": [
      "/home/er647/.conda/envs/fwal/lib/python3.10/multiprocessing/popen_fork.py:66: RuntimeWarning: os.fork() was called. os.fork() is incompatible with multithreaded code, and JAX is multithreaded, so this will likely lead to a deadlock.\n",
      "  self.pid = os.fork()\n",
      "/home/er647/.conda/envs/fwal/lib/python3.10/multiprocessing/popen_fork.py:66: RuntimeWarning: os.fork() was called. os.fork() is incompatible with multithreaded code, and JAX is multithreaded, so this will likely lead to a deadlock.\n",
      "  self.pid = os.fork()\n",
      "/home/er647/.conda/envs/fwal/lib/python3.10/multiprocessing/popen_fork.py:66: RuntimeWarning: os.fork() was called. os.fork() is incompatible with multithreaded code, and JAX is multithreaded, so this will likely lead to a deadlock.\n",
      "  self.pid = os.fork()\n",
      "/home/er647/.conda/envs/fwal/lib/python3.10/multiprocessing/popen_fork.py:66: RuntimeWarning: os.fork() was called. os.fork() is incompatible with multithreaded code, and JAX is multithreaded, so this will likely lead to a deadlock.\n",
      "  self.pid = os.fork()\n"
     ]
    },
    {
     "name": "stdout",
     "output_type": "stream",
     "text": [
      "{'num_additional_features': 2, 'tti_valid_metrics': {'total_loss': 5.902459716796875, 'reconstruction_loss': 4.290503305196762, 'cross_entropy_loss': 0.8332827597856521, 'sparsity_loss': 0.7786735892295837, 'balanced_accuracy': 0.8557692307692308, 'F1_weighted': 0.8556790301630827, 'precision_weighted': 0.8566608829766725, 'recall_weighted': 0.8557692307692307, 'AUROC_weighted': 0.8557692307692308}, 'tti_test_metrics': {'total_loss': 6.192649841308594, 'reconstruction_loss': 4.2626598238945, 'cross_entropy_loss': 1.1513163805007935, 'sparsity_loss': 0.7786735892295837, 'balanced_accuracy': 0.8730769230769231, 'F1_weighted': 0.8728888888888889, 'precision_weighted': 0.875297619047619, 'recall_weighted': 0.8730769230769231, 'AUROC_weighted': 0.8730769230769231}}\n",
      "Created 1 validation dataloaders.\n"
     ]
    },
    {
     "name": "stderr",
     "output_type": "stream",
     "text": [
      "/home/er647/.conda/envs/fwal/lib/python3.10/multiprocessing/popen_fork.py:66: RuntimeWarning: os.fork() was called. os.fork() is incompatible with multithreaded code, and JAX is multithreaded, so this will likely lead to a deadlock.\n",
      "  self.pid = os.fork()\n",
      "/home/er647/.conda/envs/fwal/lib/python3.10/multiprocessing/popen_fork.py:66: RuntimeWarning: os.fork() was called. os.fork() is incompatible with multithreaded code, and JAX is multithreaded, so this will likely lead to a deadlock.\n",
      "  self.pid = os.fork()\n",
      "/home/er647/.conda/envs/fwal/lib/python3.10/multiprocessing/popen_fork.py:66: RuntimeWarning: os.fork() was called. os.fork() is incompatible with multithreaded code, and JAX is multithreaded, so this will likely lead to a deadlock.\n",
      "  self.pid = os.fork()\n",
      "/home/er647/.conda/envs/fwal/lib/python3.10/multiprocessing/popen_fork.py:66: RuntimeWarning: os.fork() was called. os.fork() is incompatible with multithreaded code, and JAX is multithreaded, so this will likely lead to a deadlock.\n",
      "  self.pid = os.fork()\n"
     ]
    },
    {
     "name": "stdout",
     "output_type": "stream",
     "text": [
      "{'num_additional_features': 4, 'tti_valid_metrics': {'total_loss': 5.3788292646408085, 'reconstruction_loss': 3.7672391504049303, 'cross_entropy_loss': 0.8329164385795593, 'sparsity_loss': 0.7786735892295837, 'balanced_accuracy': 0.8557692307692308, 'F1_weighted': 0.8556790301630827, 'precision_weighted': 0.8566608829766725, 'recall_weighted': 0.8557692307692307, 'AUROC_weighted': 0.8557692307692308}, 'tti_test_metrics': {'total_loss': 5.719534826278687, 'reconstruction_loss': 3.763502961397171, 'cross_entropy_loss': 1.177358204126358, 'sparsity_loss': 0.7786735892295837, 'balanced_accuracy': 0.8711538461538462, 'F1_weighted': 0.8709815989542251, 'precision_weighted': 0.8731465369800265, 'recall_weighted': 0.8711538461538462, 'AUROC_weighted': 0.8711538461538462}}\n",
      "Created 1 validation dataloaders.\n"
     ]
    },
    {
     "name": "stderr",
     "output_type": "stream",
     "text": [
      "/home/er647/.conda/envs/fwal/lib/python3.10/multiprocessing/popen_fork.py:66: RuntimeWarning: os.fork() was called. os.fork() is incompatible with multithreaded code, and JAX is multithreaded, so this will likely lead to a deadlock.\n",
      "  self.pid = os.fork()\n",
      "/home/er647/.conda/envs/fwal/lib/python3.10/multiprocessing/popen_fork.py:66: RuntimeWarning: os.fork() was called. os.fork() is incompatible with multithreaded code, and JAX is multithreaded, so this will likely lead to a deadlock.\n",
      "  self.pid = os.fork()\n",
      "/home/er647/.conda/envs/fwal/lib/python3.10/multiprocessing/popen_fork.py:66: RuntimeWarning: os.fork() was called. os.fork() is incompatible with multithreaded code, and JAX is multithreaded, so this will likely lead to a deadlock.\n",
      "  self.pid = os.fork()\n",
      "/home/er647/.conda/envs/fwal/lib/python3.10/multiprocessing/popen_fork.py:66: RuntimeWarning: os.fork() was called. os.fork() is incompatible with multithreaded code, and JAX is multithreaded, so this will likely lead to a deadlock.\n",
      "  self.pid = os.fork()\n"
     ]
    },
    {
     "name": "stdout",
     "output_type": "stream",
     "text": [
      "{'num_additional_features': 6, 'tti_valid_metrics': {'total_loss': 4.904067468643189, 'reconstruction_loss': 3.285432958602905, 'cross_entropy_loss': 0.8399608492851257, 'sparsity_loss': 0.7786735892295837, 'balanced_accuracy': 0.8596153846153847, 'F1_weighted': 0.8595275893587337, 'precision_weighted': 0.86051667630615, 'recall_weighted': 0.8596153846153847, 'AUROC_weighted': 0.8596153846153846}, 'tti_test_metrics': {'total_loss': 5.187774801254273, 'reconstruction_loss': 3.2394728004932403, 'cross_entropy_loss': 1.1696283042430877, 'sparsity_loss': 0.7786735892295837, 'balanced_accuracy': 0.8711538461538462, 'F1_weighted': 0.8709433654740164, 'precision_weighted': 0.8735910302416653, 'recall_weighted': 0.8711538461538462, 'AUROC_weighted': 0.8711538461538463}}\n",
      "Created 1 validation dataloaders.\n"
     ]
    },
    {
     "name": "stderr",
     "output_type": "stream",
     "text": [
      "/home/er647/.conda/envs/fwal/lib/python3.10/multiprocessing/popen_fork.py:66: RuntimeWarning: os.fork() was called. os.fork() is incompatible with multithreaded code, and JAX is multithreaded, so this will likely lead to a deadlock.\n",
      "  self.pid = os.fork()\n",
      "/home/er647/.conda/envs/fwal/lib/python3.10/multiprocessing/popen_fork.py:66: RuntimeWarning: os.fork() was called. os.fork() is incompatible with multithreaded code, and JAX is multithreaded, so this will likely lead to a deadlock.\n",
      "  self.pid = os.fork()\n",
      "/home/er647/.conda/envs/fwal/lib/python3.10/multiprocessing/popen_fork.py:66: RuntimeWarning: os.fork() was called. os.fork() is incompatible with multithreaded code, and JAX is multithreaded, so this will likely lead to a deadlock.\n",
      "  self.pid = os.fork()\n",
      "/home/er647/.conda/envs/fwal/lib/python3.10/multiprocessing/popen_fork.py:66: RuntimeWarning: os.fork() was called. os.fork() is incompatible with multithreaded code, and JAX is multithreaded, so this will likely lead to a deadlock.\n",
      "  self.pid = os.fork()\n"
     ]
    },
    {
     "name": "stdout",
     "output_type": "stream",
     "text": [
      "{'num_additional_features': 8, 'tti_valid_metrics': {'total_loss': 4.420966172218323, 'reconstruction_loss': 2.7838631540536882, 'cross_entropy_loss': 0.8584293484687805, 'sparsity_loss': 0.7786735892295837, 'balanced_accuracy': 0.8576923076923078, 'F1_weighted': 0.8576164821502575, 'precision_weighted': 0.8584558823529411, 'recall_weighted': 0.8576923076923076, 'AUROC_weighted': 0.8576923076923078}, 'tti_test_metrics': {'total_loss': 4.709266090393067, 'reconstruction_loss': 2.7699161887168886, 'cross_entropy_loss': 1.160676246881485, 'sparsity_loss': 0.7786735892295837, 'balanced_accuracy': 0.8692307692307693, 'F1_weighted': 0.869037037037037, 'precision_weighted': 0.8714285714285713, 'recall_weighted': 0.8692307692307693, 'AUROC_weighted': 0.8692307692307693}}\n",
      "Created 1 validation dataloaders.\n"
     ]
    },
    {
     "name": "stderr",
     "output_type": "stream",
     "text": [
      "/home/er647/.conda/envs/fwal/lib/python3.10/multiprocessing/popen_fork.py:66: RuntimeWarning: os.fork() was called. os.fork() is incompatible with multithreaded code, and JAX is multithreaded, so this will likely lead to a deadlock.\n",
      "  self.pid = os.fork()\n",
      "/home/er647/.conda/envs/fwal/lib/python3.10/multiprocessing/popen_fork.py:66: RuntimeWarning: os.fork() was called. os.fork() is incompatible with multithreaded code, and JAX is multithreaded, so this will likely lead to a deadlock.\n",
      "  self.pid = os.fork()\n",
      "/home/er647/.conda/envs/fwal/lib/python3.10/multiprocessing/popen_fork.py:66: RuntimeWarning: os.fork() was called. os.fork() is incompatible with multithreaded code, and JAX is multithreaded, so this will likely lead to a deadlock.\n",
      "  self.pid = os.fork()\n",
      "/home/er647/.conda/envs/fwal/lib/python3.10/multiprocessing/popen_fork.py:66: RuntimeWarning: os.fork() was called. os.fork() is incompatible with multithreaded code, and JAX is multithreaded, so this will likely lead to a deadlock.\n",
      "  self.pid = os.fork()\n"
     ]
    },
    {
     "name": "stdout",
     "output_type": "stream",
     "text": [
      "{'num_additional_features': 10, 'tti_valid_metrics': {'total_loss': 3.921038198471069, 'reconstruction_loss': 2.280905306339264, 'cross_entropy_loss': 0.8614593029022217, 'sparsity_loss': 0.7786735892295837, 'balanced_accuracy': 0.8557692307692308, 'F1_weighted': 0.8557260125999282, 'precision_weighted': 0.8561960337090301, 'recall_weighted': 0.8557692307692307, 'AUROC_weighted': 0.8557692307692308}, 'tti_test_metrics': {'total_loss': 4.173184776306153, 'reconstruction_loss': 2.242098957300186, 'cross_entropy_loss': 1.1524122476577758, 'sparsity_loss': 0.7786735892295837, 'balanced_accuracy': 0.8692307692307693, 'F1_weighted': 0.869037037037037, 'precision_weighted': 0.8714285714285713, 'recall_weighted': 0.8692307692307693, 'AUROC_weighted': 0.8692307692307693}}\n",
      "Created 1 validation dataloaders.\n"
     ]
    },
    {
     "name": "stderr",
     "output_type": "stream",
     "text": [
      "/home/er647/.conda/envs/fwal/lib/python3.10/multiprocessing/popen_fork.py:66: RuntimeWarning: os.fork() was called. os.fork() is incompatible with multithreaded code, and JAX is multithreaded, so this will likely lead to a deadlock.\n",
      "  self.pid = os.fork()\n",
      "/home/er647/.conda/envs/fwal/lib/python3.10/multiprocessing/popen_fork.py:66: RuntimeWarning: os.fork() was called. os.fork() is incompatible with multithreaded code, and JAX is multithreaded, so this will likely lead to a deadlock.\n",
      "  self.pid = os.fork()\n",
      "/home/er647/.conda/envs/fwal/lib/python3.10/multiprocessing/popen_fork.py:66: RuntimeWarning: os.fork() was called. os.fork() is incompatible with multithreaded code, and JAX is multithreaded, so this will likely lead to a deadlock.\n",
      "  self.pid = os.fork()\n",
      "/home/er647/.conda/envs/fwal/lib/python3.10/multiprocessing/popen_fork.py:66: RuntimeWarning: os.fork() was called. os.fork() is incompatible with multithreaded code, and JAX is multithreaded, so this will likely lead to a deadlock.\n",
      "  self.pid = os.fork()\n"
     ]
    },
    {
     "name": "stdout",
     "output_type": "stream",
     "text": [
      "{'num_additional_features': 12, 'tti_valid_metrics': {'total_loss': 3.4142173528671265, 'reconstruction_loss': 1.7752147912979126, 'cross_entropy_loss': 0.8603289604187012, 'sparsity_loss': 0.7786735892295837, 'balanced_accuracy': 0.851923076923077, 'F1_weighted': 0.851896238593532, 'precision_weighted': 0.8521783541324333, 'recall_weighted': 0.8519230769230769, 'AUROC_weighted': 0.851923076923077}, 'tti_test_metrics': {'total_loss': 3.684889888763428, 'reconstruction_loss': 1.7502785056829453, 'cross_entropy_loss': 1.1559376835823059, 'sparsity_loss': 0.7786735892295837, 'balanced_accuracy': 0.8730769230769231, 'F1_weighted': 0.8728888888888889, 'precision_weighted': 0.875297619047619, 'recall_weighted': 0.8730769230769231, 'AUROC_weighted': 0.8730769230769231}}\n",
      "Created 1 validation dataloaders.\n"
     ]
    },
    {
     "name": "stderr",
     "output_type": "stream",
     "text": [
      "/home/er647/.conda/envs/fwal/lib/python3.10/multiprocessing/popen_fork.py:66: RuntimeWarning: os.fork() was called. os.fork() is incompatible with multithreaded code, and JAX is multithreaded, so this will likely lead to a deadlock.\n",
      "  self.pid = os.fork()\n",
      "/home/er647/.conda/envs/fwal/lib/python3.10/multiprocessing/popen_fork.py:66: RuntimeWarning: os.fork() was called. os.fork() is incompatible with multithreaded code, and JAX is multithreaded, so this will likely lead to a deadlock.\n",
      "  self.pid = os.fork()\n",
      "/home/er647/.conda/envs/fwal/lib/python3.10/multiprocessing/popen_fork.py:66: RuntimeWarning: os.fork() was called. os.fork() is incompatible with multithreaded code, and JAX is multithreaded, so this will likely lead to a deadlock.\n",
      "  self.pid = os.fork()\n",
      "/home/er647/.conda/envs/fwal/lib/python3.10/multiprocessing/popen_fork.py:66: RuntimeWarning: os.fork() was called. os.fork() is incompatible with multithreaded code, and JAX is multithreaded, so this will likely lead to a deadlock.\n",
      "  self.pid = os.fork()\n"
     ]
    },
    {
     "name": "stdout",
     "output_type": "stream",
     "text": [
      "{'num_additional_features': 14, 'tti_valid_metrics': {'total_loss': 2.8664974927902223, 'reconstruction_loss': 1.2349192634224893, 'cross_entropy_loss': 0.8529046297073364, 'sparsity_loss': 0.7786735892295837, 'balanced_accuracy': 0.851923076923077, 'F1_weighted': 0.851896238593532, 'precision_weighted': 0.8521783541324333, 'recall_weighted': 0.8519230769230769, 'AUROC_weighted': 0.851923076923077}, 'tti_test_metrics': {'total_loss': 3.1868300914764403, 'reconstruction_loss': 1.2430814325809478, 'cross_entropy_loss': 1.1650749802589417, 'sparsity_loss': 0.7786735892295837, 'balanced_accuracy': 0.8673076923076923, 'F1_weighted': 0.8671303034006198, 'precision_weighted': 0.8692797334880055, 'recall_weighted': 0.8673076923076923, 'AUROC_weighted': 0.8673076923076924}}\n",
      "Created 1 validation dataloaders.\n"
     ]
    },
    {
     "name": "stderr",
     "output_type": "stream",
     "text": [
      "/home/er647/.conda/envs/fwal/lib/python3.10/multiprocessing/popen_fork.py:66: RuntimeWarning: os.fork() was called. os.fork() is incompatible with multithreaded code, and JAX is multithreaded, so this will likely lead to a deadlock.\n",
      "  self.pid = os.fork()\n",
      "/home/er647/.conda/envs/fwal/lib/python3.10/multiprocessing/popen_fork.py:66: RuntimeWarning: os.fork() was called. os.fork() is incompatible with multithreaded code, and JAX is multithreaded, so this will likely lead to a deadlock.\n",
      "  self.pid = os.fork()\n",
      "/home/er647/.conda/envs/fwal/lib/python3.10/multiprocessing/popen_fork.py:66: RuntimeWarning: os.fork() was called. os.fork() is incompatible with multithreaded code, and JAX is multithreaded, so this will likely lead to a deadlock.\n",
      "  self.pid = os.fork()\n",
      "/home/er647/.conda/envs/fwal/lib/python3.10/multiprocessing/popen_fork.py:66: RuntimeWarning: os.fork() was called. os.fork() is incompatible with multithreaded code, and JAX is multithreaded, so this will likely lead to a deadlock.\n",
      "  self.pid = os.fork()\n"
     ]
    },
    {
     "name": "stdout",
     "output_type": "stream",
     "text": [
      "{'num_additional_features': 16, 'tti_valid_metrics': {'total_loss': 2.3724223613739013, 'reconstruction_loss': 0.7433925062417984, 'cross_entropy_loss': 0.8503562092781067, 'sparsity_loss': 0.7786735892295837, 'balanced_accuracy': 0.8557692307692308, 'F1_weighted': 0.8557430895391548, 'precision_weighted': 0.8560272978934435, 'recall_weighted': 0.8557692307692307, 'AUROC_weighted': 0.8557692307692308}, 'tti_test_metrics': {'total_loss': 2.7276214122772218, 'reconstruction_loss': 0.7703333340585232, 'cross_entropy_loss': 1.1786144971847534, 'sparsity_loss': 0.7786735892295837, 'balanced_accuracy': 0.8711538461538462, 'F1_weighted': 0.8710159897227437, 'precision_weighted': 0.872747396413662, 'recall_weighted': 0.8711538461538462, 'AUROC_weighted': 0.8711538461538463}}\n",
      "Created 1 validation dataloaders.\n"
     ]
    },
    {
     "name": "stderr",
     "output_type": "stream",
     "text": [
      "/home/er647/.conda/envs/fwal/lib/python3.10/multiprocessing/popen_fork.py:66: RuntimeWarning: os.fork() was called. os.fork() is incompatible with multithreaded code, and JAX is multithreaded, so this will likely lead to a deadlock.\n",
      "  self.pid = os.fork()\n",
      "/home/er647/.conda/envs/fwal/lib/python3.10/multiprocessing/popen_fork.py:66: RuntimeWarning: os.fork() was called. os.fork() is incompatible with multithreaded code, and JAX is multithreaded, so this will likely lead to a deadlock.\n",
      "  self.pid = os.fork()\n",
      "/home/er647/.conda/envs/fwal/lib/python3.10/multiprocessing/popen_fork.py:66: RuntimeWarning: os.fork() was called. os.fork() is incompatible with multithreaded code, and JAX is multithreaded, so this will likely lead to a deadlock.\n",
      "  self.pid = os.fork()\n",
      "/home/er647/.conda/envs/fwal/lib/python3.10/multiprocessing/popen_fork.py:66: RuntimeWarning: os.fork() was called. os.fork() is incompatible with multithreaded code, and JAX is multithreaded, so this will likely lead to a deadlock.\n",
      "  self.pid = os.fork()\n"
     ]
    },
    {
     "name": "stdout",
     "output_type": "stream",
     "text": [
      "{'num_additional_features': 19, 'tti_valid_metrics': {'total_loss': 1.626792883872986, 'reconstruction_loss': 0.0, 'cross_entropy_loss': 0.8481193006038665, 'sparsity_loss': 0.7786735892295837, 'balanced_accuracy': 0.8576923076923078, 'F1_weighted': 0.8576586174242424, 'precision_weighted': 0.8580312722103767, 'recall_weighted': 0.8576923076923076, 'AUROC_weighted': 0.8576923076923078}, 'tti_test_metrics': {'total_loss': 1.9648981094360352, 'reconstruction_loss': 0.0, 'cross_entropy_loss': 1.186224502325058, 'sparsity_loss': 0.7786735892295837, 'balanced_accuracy': 0.8711538461538462, 'F1_weighted': 0.8710465439067271, 'precision_weighted': 0.8723933209647496, 'recall_weighted': 0.8711538461538462, 'AUROC_weighted': 0.8711538461538463}}\n"
     ]
    }
   ],
   "source": [
    "evaluate_test_time_interventions(model, data_module, args)"
   ]
  },
  {
   "cell_type": "code",
   "execution_count": 186,
   "metadata": {},
   "outputs": [
    {
     "name": "stderr",
     "output_type": "stream",
     "text": [
      "/home/er647/.conda/envs/fwal/lib/python3.10/multiprocessing/popen_fork.py:66: RuntimeWarning: os.fork() was called. os.fork() is incompatible with multithreaded code, and JAX is multithreaded, so this will likely lead to a deadlock.\n",
      "  self.pid = os.fork()\n",
      "/home/er647/.conda/envs/fwal/lib/python3.10/multiprocessing/popen_fork.py:66: RuntimeWarning: os.fork() was called. os.fork() is incompatible with multithreaded code, and JAX is multithreaded, so this will likely lead to a deadlock.\n",
      "  self.pid = os.fork()\n"
     ]
    },
    {
     "data": {
      "text/plain": [
       "{'total_loss': 6.701117944717407,\n",
       " 'reconstruction_loss': 4.730796921253204,\n",
       " 'cross_entropy_loss': 1.191647356748581,\n",
       " 'sparsity_loss': 0.7786735892295837,\n",
       " 'balanced_accuracy': 0.875,\n",
       " 'F1_weighted': 0.8747549755253435,\n",
       " 'precision_weighted': 0.8779576866305855,\n",
       " 'recall_weighted': 0.875,\n",
       " 'AUROC_weighted': 0.875}"
      ]
     },
     "execution_count": 186,
     "metadata": {},
     "output_type": "execute_result"
    }
   ],
   "source": [
    "evaluate(model, data_module.test_dataloader())"
   ]
  },
  {
   "cell_type": "code",
   "execution_count": 164,
   "metadata": {},
   "outputs": [
    {
     "name": "stdout",
     "output_type": "stream",
     "text": [
      "Created 1 validation dataloaders.\n"
     ]
    },
    {
     "name": "stderr",
     "output_type": "stream",
     "text": [
      "/home/er647/.conda/envs/fwal/lib/python3.10/multiprocessing/popen_fork.py:66: RuntimeWarning: os.fork() was called. os.fork() is incompatible with multithreaded code, and JAX is multithreaded, so this will likely lead to a deadlock.\n",
      "  self.pid = os.fork()\n",
      "/home/er647/.conda/envs/fwal/lib/python3.10/multiprocessing/popen_fork.py:66: RuntimeWarning: os.fork() was called. os.fork() is incompatible with multithreaded code, and JAX is multithreaded, so this will likely lead to a deadlock.\n",
      "  self.pid = os.fork()\n"
     ]
    }
   ],
   "source": [
    "valid_metrics = evaluate(model, data_module.val_dataloader()[0])"
   ]
  },
  {
   "cell_type": "code",
   "execution_count": 165,
   "metadata": {},
   "outputs": [
    {
     "data": {
      "text/plain": [
       "{'total_loss': 6.59875259399414,\n",
       " 'reconstruction_loss': 4.722161042690277,\n",
       " 'cross_entropy_loss': 1.097917950153351,\n",
       " 'sparsity_loss': 0.7786735892295837,\n",
       " 'balanced_accuracy': 0.8288461538461538,\n",
       " 'F1_weighted': 0.8287948682852481,\n",
       " 'precision_weighted': 0.8292406581851034,\n",
       " 'recall_weighted': 0.8288461538461539,\n",
       " 'AUROC_weighted': 0.8288461538461538}"
      ]
     },
     "execution_count": 165,
     "metadata": {},
     "output_type": "execute_result"
    }
   ],
   "source": [
    "valid_metrics"
   ]
  },
  {
   "cell_type": "code",
   "execution_count": 185,
   "metadata": {},
   "outputs": [
    {
     "name": "stderr",
     "output_type": "stream",
     "text": [
      "Restoring states from the checkpoint path at /home/er647/data/fwal-data/fwal/n63ewqi8/checkpoints/epoch=53-step=646.ckpt\n",
      "LOCAL_RANK: 0 - CUDA_VISIBLE_DEVICES: [0]\n",
      "Loaded model weights from the checkpoint at /home/er647/data/fwal-data/fwal/n63ewqi8/checkpoints/epoch=53-step=646.ckpt\n"
     ]
    },
    {
     "name": "stderr",
     "output_type": "stream",
     "text": [
      "/home/er647/.conda/envs/fwal/lib/python3.10/multiprocessing/popen_fork.py:66: RuntimeWarning: os.fork() was called. os.fork() is incompatible with multithreaded code, and JAX is multithreaded, so this will likely lead to a deadlock.\n",
      "  self.pid = os.fork()\n"
     ]
    },
    {
     "data": {
      "application/vnd.jupyter.widget-view+json": {
       "model_id": "02cff9f9ef13408c802fd6e08cb79d66",
       "version_major": 2,
       "version_minor": 0
      },
      "text/plain": [
       "Testing: |          | 0/? [00:00<?, ?it/s]"
      ]
     },
     "metadata": {},
     "output_type": "display_data"
    },
    {
     "data": {
      "text/html": [
       "<pre style=\"white-space:pre;overflow-x:auto;line-height:normal;font-family:Menlo,'DejaVu Sans Mono',consolas,'Courier New',monospace\">┏━━━━━━━━━━━━━━━━━━━━━━━━━━━┳━━━━━━━━━━━━━━━━━━━━━━━━━━━┓\n",
       "┃<span style=\"font-weight: bold\">        Test metric        </span>┃<span style=\"font-weight: bold\">       DataLoader 0        </span>┃\n",
       "┡━━━━━━━━━━━━━━━━━━━━━━━━━━━╇━━━━━━━━━━━━━━━━━━━━━━━━━━━┩\n",
       "│<span style=\"color: #008080; text-decoration-color: #008080\">    None/AUROC_weighted    </span>│<span style=\"color: #800080; text-decoration-color: #800080\">           0.875           </span>│\n",
       "│<span style=\"color: #008080; text-decoration-color: #008080\">     None/F1_weighted      </span>│<span style=\"color: #800080; text-decoration-color: #800080\">    0.8747549755253435     </span>│\n",
       "│<span style=\"color: #008080; text-decoration-color: #008080\">  None/balanced_accuracy   </span>│<span style=\"color: #800080; text-decoration-color: #800080\">           0.875           </span>│\n",
       "│<span style=\"color: #008080; text-decoration-color: #008080\">  None/cross_entropy_loss  </span>│<span style=\"color: #800080; text-decoration-color: #800080\">    1.1916471719741821     </span>│\n",
       "│<span style=\"color: #008080; text-decoration-color: #008080\">  None/precision_weighted  </span>│<span style=\"color: #800080; text-decoration-color: #800080\">    0.8779576866305855     </span>│\n",
       "│<span style=\"color: #008080; text-decoration-color: #008080\">   None/recall_weighted    </span>│<span style=\"color: #800080; text-decoration-color: #800080\">           0.875           </span>│\n",
       "│<span style=\"color: #008080; text-decoration-color: #008080\"> None/reconstruction_loss  </span>│<span style=\"color: #800080; text-decoration-color: #800080\">     4.730796813964844     </span>│\n",
       "│<span style=\"color: #008080; text-decoration-color: #008080\">    None/sparsity_loss     </span>│<span style=\"color: #800080; text-decoration-color: #800080\">    0.7786736488342285     </span>│\n",
       "│<span style=\"color: #008080; text-decoration-color: #008080\">      None/total_loss      </span>│<span style=\"color: #800080; text-decoration-color: #800080\">     6.701117515563965     </span>│\n",
       "└───────────────────────────┴───────────────────────────┘\n",
       "</pre>\n"
      ],
      "text/plain": [
       "┏━━━━━━━━━━━━━━━━━━━━━━━━━━━┳━━━━━━━━━━━━━━━━━━━━━━━━━━━┓\n",
       "┃\u001b[1m \u001b[0m\u001b[1m       Test metric       \u001b[0m\u001b[1m \u001b[0m┃\u001b[1m \u001b[0m\u001b[1m      DataLoader 0       \u001b[0m\u001b[1m \u001b[0m┃\n",
       "┡━━━━━━━━━━━━━━━━━━━━━━━━━━━╇━━━━━━━━━━━━━━━━━━━━━━━━━━━┩\n",
       "│\u001b[36m \u001b[0m\u001b[36m   None/AUROC_weighted   \u001b[0m\u001b[36m \u001b[0m│\u001b[35m \u001b[0m\u001b[35m          0.875          \u001b[0m\u001b[35m \u001b[0m│\n",
       "│\u001b[36m \u001b[0m\u001b[36m    None/F1_weighted     \u001b[0m\u001b[36m \u001b[0m│\u001b[35m \u001b[0m\u001b[35m   0.8747549755253435    \u001b[0m\u001b[35m \u001b[0m│\n",
       "│\u001b[36m \u001b[0m\u001b[36m None/balanced_accuracy  \u001b[0m\u001b[36m \u001b[0m│\u001b[35m \u001b[0m\u001b[35m          0.875          \u001b[0m\u001b[35m \u001b[0m│\n",
       "│\u001b[36m \u001b[0m\u001b[36m None/cross_entropy_loss \u001b[0m\u001b[36m \u001b[0m│\u001b[35m \u001b[0m\u001b[35m   1.1916471719741821    \u001b[0m\u001b[35m \u001b[0m│\n",
       "│\u001b[36m \u001b[0m\u001b[36m None/precision_weighted \u001b[0m\u001b[36m \u001b[0m│\u001b[35m \u001b[0m\u001b[35m   0.8779576866305855    \u001b[0m\u001b[35m \u001b[0m│\n",
       "│\u001b[36m \u001b[0m\u001b[36m  None/recall_weighted   \u001b[0m\u001b[36m \u001b[0m│\u001b[35m \u001b[0m\u001b[35m          0.875          \u001b[0m\u001b[35m \u001b[0m│\n",
       "│\u001b[36m \u001b[0m\u001b[36mNone/reconstruction_loss \u001b[0m\u001b[36m \u001b[0m│\u001b[35m \u001b[0m\u001b[35m    4.730796813964844    \u001b[0m\u001b[35m \u001b[0m│\n",
       "│\u001b[36m \u001b[0m\u001b[36m   None/sparsity_loss    \u001b[0m\u001b[36m \u001b[0m│\u001b[35m \u001b[0m\u001b[35m   0.7786736488342285    \u001b[0m\u001b[35m \u001b[0m│\n",
       "│\u001b[36m \u001b[0m\u001b[36m     None/total_loss     \u001b[0m\u001b[36m \u001b[0m│\u001b[35m \u001b[0m\u001b[35m    6.701117515563965    \u001b[0m\u001b[35m \u001b[0m│\n",
       "└───────────────────────────┴───────────────────────────┘\n"
      ]
     },
     "metadata": {},
     "output_type": "display_data"
    },
    {
     "name": "stderr",
     "output_type": "stream",
     "text": [
      "/home/er647/.conda/envs/fwal/lib/python3.10/multiprocessing/popen_fork.py:66: RuntimeWarning: os.fork() was called. os.fork() is incompatible with multithreaded code, and JAX is multithreaded, so this will likely lead to a deadlock.\n",
      "  self.pid = os.fork()\n"
     ]
    },
    {
     "data": {
      "text/plain": [
       "[{'None/total_loss': 6.701117515563965,\n",
       "  'None/reconstruction_loss': 4.730796813964844,\n",
       "  'None/cross_entropy_loss': 1.1916471719741821,\n",
       "  'None/sparsity_loss': 0.7786736488342285,\n",
       "  'None/balanced_accuracy': 0.875,\n",
       "  'None/F1_weighted': 0.8747549755253435,\n",
       "  'None/precision_weighted': 0.8779576866305855,\n",
       "  'None/recall_weighted': 0.875,\n",
       "  'None/AUROC_weighted': 0.875}]"
      ]
     },
     "execution_count": 185,
     "metadata": {},
     "output_type": "execute_result"
    }
   ],
   "source": [
    "trainer.test(model, dataloaders=data_module.test_dataloader(), ckpt_path=checkpoint_path)"
   ]
  },
  {
   "cell_type": "code",
   "execution_count": 160,
   "metadata": {},
   "outputs": [
    {
     "name": "stderr",
     "output_type": "stream",
     "text": [
      "Restoring states from the checkpoint path at /home/er647/data/fwal-data/fwal/n63ewqi8/checkpoints/epoch=53-step=646.ckpt\n",
      "LOCAL_RANK: 0 - CUDA_VISIBLE_DEVICES: [0]\n",
      "Loaded model weights from the checkpoint at /home/er647/data/fwal-data/fwal/n63ewqi8/checkpoints/epoch=53-step=646.ckpt\n"
     ]
    },
    {
     "name": "stdout",
     "output_type": "stream",
     "text": [
      "Created 1 validation dataloaders.\n"
     ]
    },
    {
     "name": "stderr",
     "output_type": "stream",
     "text": [
      "/home/er647/.conda/envs/fwal/lib/python3.10/multiprocessing/popen_fork.py:66: RuntimeWarning: os.fork() was called. os.fork() is incompatible with multithreaded code, and JAX is multithreaded, so this will likely lead to a deadlock.\n",
      "  self.pid = os.fork()\n"
     ]
    },
    {
     "data": {
      "application/vnd.jupyter.widget-view+json": {
       "model_id": "ce89d85b4c1e4cdf8046a7c5669bab0b",
       "version_major": 2,
       "version_minor": 0
      },
      "text/plain": [
       "Testing: |          | 0/? [00:00<?, ?it/s]"
      ]
     },
     "metadata": {},
     "output_type": "display_data"
    },
    {
     "data": {
      "text/html": [
       "<pre style=\"white-space:pre;overflow-x:auto;line-height:normal;font-family:Menlo,'DejaVu Sans Mono',consolas,'Courier New',monospace\">┏━━━━━━━━━━━━━━━━━━━━━━━━━━━┳━━━━━━━━━━━━━━━━━━━━━━━━━━━┓\n",
       "┃<span style=\"font-weight: bold\">        Test metric        </span>┃<span style=\"font-weight: bold\">       DataLoader 0        </span>┃\n",
       "┡━━━━━━━━━━━━━━━━━━━━━━━━━━━╇━━━━━━━━━━━━━━━━━━━━━━━━━━━┩\n",
       "│<span style=\"color: #008080; text-decoration-color: #008080\">    None/AUROC_weighted    </span>│<span style=\"color: #800080; text-decoration-color: #800080\">    0.8288461538461538     </span>│\n",
       "│<span style=\"color: #008080; text-decoration-color: #008080\">     None/F1_weighted      </span>│<span style=\"color: #800080; text-decoration-color: #800080\">    0.8287948682852481     </span>│\n",
       "│<span style=\"color: #008080; text-decoration-color: #008080\">  None/balanced_accuracy   </span>│<span style=\"color: #800080; text-decoration-color: #800080\">    0.8288461538461538     </span>│\n",
       "│<span style=\"color: #008080; text-decoration-color: #008080\">  None/cross_entropy_loss  </span>│<span style=\"color: #800080; text-decoration-color: #800080\">    1.0979180335998535     </span>│\n",
       "│<span style=\"color: #008080; text-decoration-color: #008080\">  None/precision_weighted  </span>│<span style=\"color: #800080; text-decoration-color: #800080\">    0.8292406581851034     </span>│\n",
       "│<span style=\"color: #008080; text-decoration-color: #008080\">   None/recall_weighted    </span>│<span style=\"color: #800080; text-decoration-color: #800080\">    0.8288461538461539     </span>│\n",
       "│<span style=\"color: #008080; text-decoration-color: #008080\"> None/reconstruction_loss  </span>│<span style=\"color: #800080; text-decoration-color: #800080\">     4.722160339355469     </span>│\n",
       "│<span style=\"color: #008080; text-decoration-color: #008080\">    None/sparsity_loss     </span>│<span style=\"color: #800080; text-decoration-color: #800080\">    0.7786736488342285     </span>│\n",
       "│<span style=\"color: #008080; text-decoration-color: #008080\">      None/total_loss      </span>│<span style=\"color: #800080; text-decoration-color: #800080\">     6.598752021789551     </span>│\n",
       "└───────────────────────────┴───────────────────────────┘\n",
       "</pre>\n"
      ],
      "text/plain": [
       "┏━━━━━━━━━━━━━━━━━━━━━━━━━━━┳━━━━━━━━━━━━━━━━━━━━━━━━━━━┓\n",
       "┃\u001b[1m \u001b[0m\u001b[1m       Test metric       \u001b[0m\u001b[1m \u001b[0m┃\u001b[1m \u001b[0m\u001b[1m      DataLoader 0       \u001b[0m\u001b[1m \u001b[0m┃\n",
       "┡━━━━━━━━━━━━━━━━━━━━━━━━━━━╇━━━━━━━━━━━━━━━━━━━━━━━━━━━┩\n",
       "│\u001b[36m \u001b[0m\u001b[36m   None/AUROC_weighted   \u001b[0m\u001b[36m \u001b[0m│\u001b[35m \u001b[0m\u001b[35m   0.8288461538461538    \u001b[0m\u001b[35m \u001b[0m│\n",
       "│\u001b[36m \u001b[0m\u001b[36m    None/F1_weighted     \u001b[0m\u001b[36m \u001b[0m│\u001b[35m \u001b[0m\u001b[35m   0.8287948682852481    \u001b[0m\u001b[35m \u001b[0m│\n",
       "│\u001b[36m \u001b[0m\u001b[36m None/balanced_accuracy  \u001b[0m\u001b[36m \u001b[0m│\u001b[35m \u001b[0m\u001b[35m   0.8288461538461538    \u001b[0m\u001b[35m \u001b[0m│\n",
       "│\u001b[36m \u001b[0m\u001b[36m None/cross_entropy_loss \u001b[0m\u001b[36m \u001b[0m│\u001b[35m \u001b[0m\u001b[35m   1.0979180335998535    \u001b[0m\u001b[35m \u001b[0m│\n",
       "│\u001b[36m \u001b[0m\u001b[36m None/precision_weighted \u001b[0m\u001b[36m \u001b[0m│\u001b[35m \u001b[0m\u001b[35m   0.8292406581851034    \u001b[0m\u001b[35m \u001b[0m│\n",
       "│\u001b[36m \u001b[0m\u001b[36m  None/recall_weighted   \u001b[0m\u001b[36m \u001b[0m│\u001b[35m \u001b[0m\u001b[35m   0.8288461538461539    \u001b[0m\u001b[35m \u001b[0m│\n",
       "│\u001b[36m \u001b[0m\u001b[36mNone/reconstruction_loss \u001b[0m\u001b[36m \u001b[0m│\u001b[35m \u001b[0m\u001b[35m    4.722160339355469    \u001b[0m\u001b[35m \u001b[0m│\n",
       "│\u001b[36m \u001b[0m\u001b[36m   None/sparsity_loss    \u001b[0m\u001b[36m \u001b[0m│\u001b[35m \u001b[0m\u001b[35m   0.7786736488342285    \u001b[0m\u001b[35m \u001b[0m│\n",
       "│\u001b[36m \u001b[0m\u001b[36m     None/total_loss     \u001b[0m\u001b[36m \u001b[0m│\u001b[35m \u001b[0m\u001b[35m    6.598752021789551    \u001b[0m\u001b[35m \u001b[0m│\n",
       "└───────────────────────────┴───────────────────────────┘\n"
      ]
     },
     "metadata": {},
     "output_type": "display_data"
    },
    {
     "name": "stderr",
     "output_type": "stream",
     "text": [
      "/home/er647/.conda/envs/fwal/lib/python3.10/multiprocessing/popen_fork.py:66: RuntimeWarning: os.fork() was called. os.fork() is incompatible with multithreaded code, and JAX is multithreaded, so this will likely lead to a deadlock.\n",
      "  self.pid = os.fork()\n"
     ]
    },
    {
     "data": {
      "text/plain": [
       "[{'None/total_loss': 6.598752021789551,\n",
       "  'None/reconstruction_loss': 4.722160339355469,\n",
       "  'None/cross_entropy_loss': 1.0979180335998535,\n",
       "  'None/sparsity_loss': 0.7786736488342285,\n",
       "  'None/balanced_accuracy': 0.8288461538461538,\n",
       "  'None/F1_weighted': 0.8287948682852481,\n",
       "  'None/precision_weighted': 0.8292406581851034,\n",
       "  'None/recall_weighted': 0.8288461538461539,\n",
       "  'None/AUROC_weighted': 0.8288461538461538}]"
      ]
     },
     "execution_count": 160,
     "metadata": {},
     "output_type": "execute_result"
    }
   ],
   "source": [
    "trainer.test(model, dataloaders=data_module.val_dataloader()[0], ckpt_path=checkpoint_path)"
   ]
  },
  {
   "cell_type": "code",
   "execution_count": 3,
   "metadata": {},
   "outputs": [],
   "source": [
    "\n",
    "# Initialize wandb API\n",
    "api = wandb.Api()\n",
    "\n",
    "# Fetch all runs in your sweep\n",
    "sweep_runs = api.sweep(f\"{entity}/{project}/{sweep_id}\").runs\n",
    "\n",
    "# Prepare a list to collect data\n",
    "data = []\n",
    "\n",
    "# Extract data from each run\n",
    "for run in sweep_runs:\n",
    "    history = run.scan_history(keys=['num_additional_features', 'tti_valid_metrics'])\n",
    "    for row in history:\n",
    "        if 'tti_valid_metrics' in row and 'F1_weighted' in row['tti_valid_metrics']:\n",
    "            data.append({\n",
    "                'num_additional_features': row['num_additional_features'],\n",
    "                'F1_weighted': row['tti_valid_metrics']['F1_weighted']\n",
    "            })\n",
    "\n",
    "# Convert data to DataFrame\n",
    "df = pd.DataFrame(data)\n",
    "\n"
   ]
  },
  {
   "cell_type": "code",
   "execution_count": 20,
   "metadata": {},
   "outputs": [],
   "source": [
    "runpath = \"evangeorgerex/fwal/m1l5bzbb\" # only reconstruct masked madelon\n",
    "# runpath = \"evangeorgerex/fwal/aur50m7o\" # only reconstruct masked mice protein\n",
    "\n",
    "run = api.run(runpath)"
   ]
  },
  {
   "cell_type": "code",
   "execution_count": 21,
   "metadata": {},
   "outputs": [],
   "source": [
    "history_data = []\n",
    "\n",
    "for metrics in run.scan_history():\n",
    "    history_data.append(metrics)\n",
    "\n",
    "# Convert the list of dictionaries into a DataFrame\n",
    "df = pd.DataFrame(history_data)\n",
    "    "
   ]
  },
  {
   "cell_type": "code",
   "execution_count": 22,
   "metadata": {},
   "outputs": [
    {
     "data": {
      "text/plain": [
       "0.0     1\n",
       "1.0     1\n",
       "3.0     1\n",
       "4.0     1\n",
       "6.0     1\n",
       "7.0     1\n",
       "9.0     1\n",
       "10.0    1\n",
       "12.0    1\n",
       "14.0    1\n",
       "Name: num_additional_features, dtype: int64"
      ]
     },
     "execution_count": 22,
     "metadata": {},
     "output_type": "execute_result"
    }
   ],
   "source": [
    "df['num_additional_features'].value_counts()"
   ]
  },
  {
   "cell_type": "code",
   "execution_count": 27,
   "metadata": {},
   "outputs": [
    {
     "data": {
      "text/plain": [
       "2990    0.904178\n",
       "Name: bestmodel_valid/F1_weighted, dtype: float64"
      ]
     },
     "execution_count": 27,
     "metadata": {},
     "output_type": "execute_result"
    }
   ],
   "source": [
    "df['bestmodel_valid/F1_weighted'].dropna()"
   ]
  },
  {
   "cell_type": "code",
   "execution_count": 24,
   "metadata": {},
   "outputs": [
    {
     "data": {
      "text/plain": [
       "<Axes: xlabel='num_additional_features', ylabel='tti_valid_metrics.F1_weighted'>"
      ]
     },
     "execution_count": 24,
     "metadata": {},
     "output_type": "execute_result"
    },
    {
     "data": {
      "image/png": "[encoded data removed]",
      "text/plain": [
       "<Figure size 640x480 with 1 Axes>"
      ]
     },
     "metadata": {},
     "output_type": "display_data"
    }
   ],
   "source": [
    "sns.lineplot(data=df, x='num_additional_features', y='tti_valid_metrics.F1_weighted')"
   ]
  },
  {
   "cell_type": "code",
   "execution_count": 4,
   "metadata": {},
   "outputs": [
    {
     "data": {
      "text/html": [
       "<div>\n",
       "<style scoped>\n",
       "    .dataframe tbody tr th:only-of-type {\n",
       "        vertical-align: middle;\n",
       "    }\n",
       "\n",
       "    .dataframe tbody tr th {\n",
       "        vertical-align: top;\n",
       "    }\n",
       "\n",
       "    .dataframe thead th {\n",
       "        text-align: right;\n",
       "    }\n",
       "</style>\n",
       "<table border=\"1\" class=\"dataframe\">\n",
       "  <thead>\n",
       "    <tr style=\"text-align: right;\">\n",
       "      <th></th>\n",
       "    </tr>\n",
       "  </thead>\n",
       "  <tbody>\n",
       "  </tbody>\n",
       "</table>\n",
       "</div>"
      ],
      "text/plain": [
       "Empty DataFrame\n",
       "Columns: []\n",
       "Index: []"
      ]
     },
     "execution_count": 4,
     "metadata": {},
     "output_type": "execute_result"
    }
   ],
   "source": [
    "df.head()"
   ]
  },
  {
   "cell_type": "code",
   "execution_count": null,
   "metadata": {},
   "outputs": [],
   "source": [
    "\n",
    "# Calculate mean and std of F1_weighted for each num_additional_features\n",
    "grouped_df = df.groupby('num_additional_features').agg(['mean', 'std']).reset_index()\n",
    "grouped_df.columns = ['num_additional_features', 'F1_weighted_mean', 'F1_weighted_std']\n",
    "\n",
    "# Plot using seaborn\n",
    "sns.set(style=\"whitegrid\")\n",
    "plt.figure(figsize=(10, 6))\n",
    "plt.errorbar(data=grouped_df, x='num_additional_features', y='F1_weighted_mean', yerr='F1_weighted_std', fmt='-o', ecolor='g', capthick=2)\n",
    "plt.title('F1_weighted vs. Number of Additional Features')\n",
    "plt.xlabel('Number of Additional Features')\n",
    "plt.ylabel('F1_weighted (mean ± std)')\n",
    "plt.show()"
   ]
  },
  {
   "cell_type": "code",
   "execution_count": null,
   "metadata": {},
   "outputs": [],
   "source": []
  }
 ],
 "metadata": {
  "kernelspec": {
   "display_name": "fwal",
   "language": "python",
   "name": "python3"
  },
  "language_info": {
   "codemirror_mode": {
    "name": "ipython",
    "version": 3
   },
   "file_extension": ".py",
   "mimetype": "text/x-python",
   "name": "python",
   "nbconvert_exporter": "python",
   "pygments_lexer": "ipython3",
   "version": "3.10.12"
  }
 },
 "nbformat": 4,
 "nbformat_minor": 2
}
