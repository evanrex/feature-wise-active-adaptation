{
 "cells": [
  {
   "cell_type": "code",
   "execution_count": null,
   "metadata": {},
   "outputs": [],
   "source": [
    "%load_ext autoreload\n",
    "%autoreload 2\n",
    "%matplotlib inline"
   ]
  },
  {
   "cell_type": "code",
   "execution_count": null,
   "metadata": {},
   "outputs": [],
   "source": [
    "import sys\n",
    "sys.path.insert(0, '/home/er647/projects/feature-wise-active-learning')\n",
    "sys.path.insert(0, '/home/er647/projects/feature-wise-active-learning/src')\n",
    "sys.path.insert(0, '/home/er647/projects/feature-wise-active-learning/notebooks')"
   ]
  },
  {
   "cell_type": "code",
   "execution_count": null,
   "metadata": {},
   "outputs": [],
   "source": [
    "import numpy as np\n",
    "import pandas as pd\n",
    "import matplotlib.pyplot as plt\n",
    "import wandb\n",
    "import datetime\n",
    "from utils import *\n",
    "from _utils import filter_df_on_conditions, make_subplots\n",
    "import seaborn as sns\n",
    "from functools import partial"
   ]
  },
  {
   "cell_type": "code",
   "execution_count": null,
   "metadata": {},
   "outputs": [],
   "source": [
    "datetime.datetime.now(datetime.timezone.utc).isoformat()"
   ]
  },
  {
   "cell_type": "code",
   "execution_count": null,
   "metadata": {},
   "outputs": [],
   "source": [
    "api = wandb.Api(timeout=60)"
   ]
  },
  {
   "cell_type": "code",
   "execution_count": null,
   "metadata": {},
   "outputs": [],
   "source": [
    "#### Get runs by tag\n",
    "runs = api.runs('andreimargeloiu/low-data', {\n",
    "\t\"tags\": '8cb3b770',\n",
    "\t'State': 'finished'\n",
    "})\n",
    "\n",
    "#### Get one run\n",
    "run = api.run('andreimargeloiu/low-data/rwzd9fud')\n",
    "\n",
    "#### Get runs by date\n",
    "runs = api.runs('andreimargeloiu/low-data', {\n",
    "\t\"$and\": [{\n",
    "\t\t'created_at': {\n",
    "\t\t\t\"$lt\": '2022-03-09T10',\n",
    "\t\t\t\"$gt\": '2022-03-07T17'\n",
    "\t\t},\n",
    "\t\t'config.embedding_type': 'nmf',\n",
    "\t}]\n",
    "\t'$or': [\n",
    "\t\t{'tags': '!!!!'},\n",
    "\t\t{'tags': '!!!!'},\n",
    "\t\t{'tags': '!!!!'},\n",
    "\t\t{\n",
    "\t\t\t\"tags\": '8e85015a',  # nmf size 50 \n",
    "\t\t\t'config.gamma': {'$eq': 0}\n",
    "\t\t}\n",
    "\t}\n",
    "\t],\n",
    "\t'State': 'finished',\n",
    "})\n",
    "print(len(runs))\n",
    "runs = filter_runs(runs, return_dataframe=False)\n",
    "print(f\"Found {len(runs)} runs\")\n",
    "runs_df = transforms_runs_into_dataframe(runs)\n",
    "print(runs_df.shape)"
   ]
  },
  {
   "cell_type": "code",
   "execution_count": null,
   "metadata": {},
   "outputs": [],
   "source": [
    "### Optional commands\n",
    "# add_tag_and_update(runs, TAG)\n",
    "\n",
    "# - run.created_at\n",
    "# - run.config.keys()\n",
    "# - run.summary._json_dict['bestmodel_train/balanced_accuracy']"
   ]
  },
  {
   "cell_type": "code",
   "execution_count": null,
   "metadata": {},
   "outputs": [],
   "source": [
    "runs_df.groupby(['dataset', 'embedding_type']).size()"
   ]
  },
  {
   "cell_type": "code",
   "execution_count": null,
   "metadata": {},
   "outputs": [],
   "source": [
    "### Plot\n",
    "pd.options.display.float_format = '{:,.2f}'.format\n",
    "\n",
    "grouped = runs_df.groupby(['dataset', 'embedding_type'])\n",
    "g1 = grouped.agg({'bestmodel_train/balanced_accuracy': ['mean', 'std']})*100\n",
    "g2 = grouped.agg({'bestmodel_test/balanced_accuracy': ['mean', 'std']})*100\n",
    "res = pd.concat([g1, g2], axis=1).round(decimals=2)\n",
    "res"
   ]
  },
  {
   "cell_type": "code",
   "execution_count": null,
   "metadata": {},
   "outputs": [],
   "source": [
    "# file_name = 'test'\n",
    "# res.to_csv(f'/home/er647/projects/feature-wise-active-learning/compute_results/csv/{file_name}.csv')\n",
    "# res.to_excel(f'/home/er647/projects/feature-wise-active-learning/compute_results/csv/{file_name}.xlsx')"
   ]
  }
 ],
 "metadata": {
  "kernelspec": {
   "display_name": "Python 3.7.9 ('low-data')",
   "language": "python",
   "name": "python3"
  },
  "language_info": {
   "name": "python",
   "version": "3.7.9"
  },
  "orig_nbformat": 4,
  "vscode": {
   "interpreter": {
    "hash": "ba94622b8cce9d72f41975dfa05399a969597365498ddf2f52110973e858095a"
   }
  }
 },
 "nbformat": 4,
 "nbformat_minor": 2
}
