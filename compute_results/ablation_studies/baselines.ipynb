{
 "cells": [
  {
   "cell_type": "code",
   "execution_count": 5,
   "metadata": {},
   "outputs": [],
   "source": [
    "import seaborn as sns\n",
    "import numpy as np\n",
    "import pandas as pd\n",
    "import matplotlib.pyplot as plt\n",
    "import wandb\n",
    "import datetime"
   ]
  },
  {
   "cell_type": "code",
   "execution_count": 19,
   "metadata": {},
   "outputs": [],
   "source": [
    "entity = \"evangeorgerex\"\n",
    "project_name = \"fwal\"\n",
    "sweep_id = \"xd36y8wm\"\n",
    "\n",
    "# Fetch the sweep\n",
    "api = wandb.Api()\n",
    "sweep = api.sweep(f\"{entity}/{project_name}/{sweep_id}\")\n"
   ]
  },
  {
   "cell_type": "code",
   "execution_count": 25,
   "metadata": {},
   "outputs": [],
   "source": [
    "runpath = \"evangeorgerex/fwal/c4rpo9nd\"\n",
    "run = api.run(runpath)"
   ]
  },
  {
   "cell_type": "code",
   "execution_count": 27,
   "metadata": {},
   "outputs": [],
   "source": [
    "hist = run.summary['best_mask_parameters']"
   ]
  },
  {
   "cell_type": "code",
   "execution_count": 29,
   "metadata": {},
   "outputs": [
    {
     "data": {
      "text/plain": [
       "{'_type': 'histogram', 'values': [2, 0, 0, 0, 0, 0, 0, 0, 0, 1, 0, 1, 1, 2, 0, 4, 7, 11, 12, 25, 49, 107, 127, 154, 105, 79, 50, 24, 7, 5, 8, 3], 'bins': [-1.9466373920440674, -1.7722136974334717, -1.597790002822876, -1.4233661890029907, -1.248942494392395, -1.0745187997817993, -0.9000950455665588, -0.7256712913513184, -0.5512475967407227, -0.37682387232780457, -0.20240014791488647, -0.027976423501968384, 0.1464473009109497, 0.3208710253238678, 0.4952947497367859, 0.6697185039520264, 0.8441421985626221, 1.0185658931732178, 1.1929895877838135, 1.3674134016036987, 1.5418370962142944, 1.7162607908248901, 1.8906846046447754, 2.065108299255371, 2.239531993865967, 2.4139556884765625, 2.588379383087158, 2.762803077697754, 2.9372267723083496, 3.1116507053375244, 3.28607439994812, 3.460498094558716, 3.6349217891693115]}"
      ]
     },
     "execution_count": 29,
     "metadata": {},
     "output_type": "execute_result"
    }
   ],
   "source": [
    "hist"
   ]
  },
  {
   "cell_type": "code",
   "execution_count": 31,
   "metadata": {},
   "outputs": [
    {
     "data": {
      "image/png": "[encoded data removed]",
      "text/plain": [
       "<Figure size 640x480 with 1 Axes>"
      ]
     },
     "metadata": {},
     "output_type": "display_data"
    }
   ],
   "source": [
    "import matplotlib.pyplot as plt\n",
    "\n",
    "# Histogram data\n",
    "values = [2, 0, 0, 0, 0, 0, 0, 0, 0, 1, 0, 1, 1, 2, 0, 4, 7, 11, 12, 25, 49, 107, 127, 154, 105, 79, 50, 24, 7, 5, 8, 3]\n",
    "bins = [-1.9466373920440674, -1.7722136974334717, -1.597790002822876, -1.4233661890029907, -1.248942494392395, -1.0745187997817993, -0.9000950455665588, -0.7256712913513184, -0.5512475967407227, -0.37682387232780457, -0.20240014791488647, -0.027976423501968384, 0.1464473009109497, 0.3208710253238678, 0.4952947497367859, 0.6697185039520264, 0.8441421985626221, 1.0185658931732178, 1.1929895877838135, 1.3674134016036987, 1.5418370962142944, 1.7162607908248901, 1.8906846046447754, 2.065108299255371, 2.239531993865967, 2.4139556884765625, 2.588379383087158, 2.762803077697754, 2.9372267723083496, 3.1116507053375244, 3.28607439994812, 3.460498094558716, 3.6349217891693115]\n",
    "\n",
    "# Calculate bin widths and bin centers\n",
    "bin_widths = [j - i for i, j in zip(bins[:-1], bins[1:])]\n",
    "bin_centers = [(i + j) / 2 for i, j in zip(bins[:-1], bins[1:])]\n",
    "\n",
    "# Plotting\n",
    "plt.bar(bin_centers, values, width=bin_widths, align='center', edgecolor='black')\n",
    "plt.xlabel('Bin')\n",
    "plt.ylabel('Count')\n",
    "plt.title('MNIST Sparsity Weights histogram')\n",
    "plt.show()\n"
   ]
  },
  {
   "cell_type": "code",
   "execution_count": 24,
   "metadata": {},
   "outputs": [
    {
     "name": "stdout",
     "output_type": "stream",
     "text": [
      "Run x5mlx25b failed\n",
      "Run 6y520ck9 failed\n",
      "Run fa1xfouk failed\n",
      "Run 1691mmmr failed\n",
      "             dataset normalize_reconstruction  balanced_accuracy\n",
      "0              MNIST  num_non_masked_features           0.980751\n",
      "2  simple_trig_synth             num_features           0.979334\n"
     ]
    }
   ],
   "source": [
    "# Initialize a list to store data\n",
    "data = []\n",
    "\n",
    "# Iterate over each run and fetch the required data\n",
    "for run in sweep.runs:\n",
    "    config = run.config\n",
    "    summary_metrics = run.summary\n",
    "    # You might need to adjust the key names based on your actual data\n",
    "    try:\n",
    "        data.append({\n",
    "            'dataset': config['dataset'],  \n",
    "            'seed_model_init': config['seed_model_init'], \n",
    "            # Add other hyperparameters here as needed\n",
    "            'normalize_reconstruction': config['normalize_reconstruction'],  \n",
    "            'balanced_accuracy': summary_metrics['bestmodel_valid/balanced_accuracy'],  # Adjust based on your summary metrics\n",
    "            # Include other config elements as necessary\n",
    "        })\n",
    "    except:\n",
    "        print(f\"Run {run.id} failed\")\n",
    "\n",
    "# Convert the list to a DataFrame\n",
    "df = pd.DataFrame(data)\n",
    "\n",
    "df = df[df['dataset'] != 'poly_binarised_decimalised_mod10_synth'] # excliude this dataset\n",
    "\n",
    "# Group by dataset and other relevant hyperparameters (excluding seed), and calculate the mean of balanced_accuracy across seeds\n",
    "grouped_df = df.groupby(['dataset', \n",
    "                         'normalize_reconstruction'  # Add other hyperparameters here, except 'seed'\n",
    "                        ]).agg({'balanced_accuracy': 'mean'}).reset_index()\n",
    "\n",
    "# Now, find the entry with the maximum 'balanced_accuracy' for each 'dataset'\n",
    "result_df = grouped_df.loc[grouped_df.groupby('dataset')['balanced_accuracy'].idxmax()]\n",
    "\n",
    "# Display the resulting DataFrame\n",
    "print(result_df)\n"
   ]
  },
  {
   "cell_type": "code",
   "execution_count": 21,
   "metadata": {},
   "outputs": [
    {
     "name": "stdout",
     "output_type": "stream",
     "text": [
      "             dataset normalize_reconstruction  balanced_accuracy\n",
      "0              MNIST  num_non_masked_features           0.980751\n",
      "1  simple_trig_synth                     None           0.975825\n",
      "2  simple_trig_synth             num_features           0.979334\n",
      "3  simple_trig_synth  num_non_masked_features           0.978480\n"
     ]
    }
   ],
   "source": [
    "print(grouped_df)"
   ]
  },
  {
   "cell_type": "code",
   "execution_count": null,
   "metadata": {},
   "outputs": [],
   "source": []
  }
 ],
 "metadata": {
  "kernelspec": {
   "display_name": "fwal",
   "language": "python",
   "name": "python3"
  },
  "language_info": {
   "codemirror_mode": {
    "name": "ipython",
    "version": 3
   },
   "file_extension": ".py",
   "mimetype": "text/x-python",
   "name": "python",
   "nbconvert_exporter": "python",
   "pygments_lexer": "ipython3",
   "version": "3.10.12"
  }
 },
 "nbformat": 4,
 "nbformat_minor": 2
}
