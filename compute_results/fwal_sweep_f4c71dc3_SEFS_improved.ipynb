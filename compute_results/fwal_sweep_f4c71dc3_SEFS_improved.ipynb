{
 "cells": [
  {
   "cell_type": "code",
   "execution_count": 1,
   "metadata": {},
   "outputs": [],
   "source": [
    "%load_ext autoreload\n",
    "%autoreload 2\n",
    "%matplotlib inline"
   ]
  },
  {
   "cell_type": "code",
   "execution_count": 4,
   "metadata": {},
   "outputs": [],
   "source": [
    "import sys\n",
    "sys.path.insert(0, '/home/er647/projects/feature-wise-active-learning')\n",
    "sys.path.insert(0, '/home/er647/projects/feature-wise-active-learning/src')\n",
    "sys.path.insert(0, '/home/er647/projects/feature-wise-active-learning/notebooks')"
   ]
  },
  {
   "cell_type": "code",
   "execution_count": 5,
   "metadata": {},
   "outputs": [],
   "source": [
    "import seaborn as sns\n",
    "import numpy as np\n",
    "import pandas as pd\n",
    "import matplotlib.pyplot as plt\n",
    "import wandb\n",
    "import datetime\n",
    "from utils import *\n",
    "# from _utils import filter_df_on_conditions, make_subplots\n",
    "import seaborn as sns\n",
    "from functools import partial"
   ]
  },
  {
   "cell_type": "code",
   "execution_count": 6,
   "metadata": {},
   "outputs": [
    {
     "data": {
      "text/plain": [
       "'2024-02-13T15:43:29.588615+00:00'"
      ]
     },
     "execution_count": 6,
     "metadata": {},
     "output_type": "execute_result"
    }
   ],
   "source": [
    "datetime.datetime.now(datetime.timezone.utc).isoformat()"
   ]
  },
  {
   "cell_type": "code",
   "execution_count": 7,
   "metadata": {},
   "outputs": [],
   "source": [
    "# wandb.init(project=\"fwal\",entity=\"evangeorgerex\")\n",
    "api = wandb.Api(timeout=60) #, entity='evangeorgerex')"
   ]
  },
  {
   "cell_type": "code",
   "execution_count": 9,
   "metadata": {},
   "outputs": [
    {
     "name": "stdout",
     "output_type": "stream",
     "text": [
      "9\n"
     ]
    }
   ],
   "source": [
    "# Define the project and sweep ID\n",
    "entity = \"evangeorgerex\"\n",
    "project_name = \"fwal\"\n",
    "sweep_id = \"o5jr0yrr\"\n",
    "\n",
    "# Fetch the sweep\n",
    "sweep = api.sweep(f\"{entity}/{project_name}/{sweep_id}\")\n",
    "\n",
    "# Iterate over runs in the sweep\n",
    "# for run in sweep.runs:\n",
    "#     print(f\"Run ID: {run.id}, Run Name: {run.name}, Run State: {run.state}\")\n",
    "\n",
    "    # You can also access other details of the run\n",
    "    # For example, to get the config of each run:\n",
    "    # print(run.config)\n",
    "\n",
    "    # And to get summary metrics of each run:\n",
    "    # print(run.summary)\n",
    "print(len(sweep.runs))\n"
   ]
  },
  {
   "cell_type": "code",
   "execution_count": 10,
   "metadata": {},
   "outputs": [
    {
     "name": "stdout",
     "output_type": "stream",
     "text": [
      "(9, 184)\n"
     ]
    }
   ],
   "source": [
    "runs_df = transforms_runs_into_dataframe(sweep.runs)\n",
    "print(runs_df.shape)"
   ]
  },
  {
   "cell_type": "code",
   "execution_count": 11,
   "metadata": {},
   "outputs": [
    {
     "data": {
      "text/plain": [
       "0    [0.013629755936563017, -0.6477029323577881, 0....\n",
       "1    [0.2183457463979721, 0.003953967243432999, -0....\n",
       "2    [0.2463814318180084, -0.06792446225881577, 0.0...\n",
       "3    [-0.41347599029541016, -1.3477303981781006, 0....\n",
       "4    [0.2183457463979721, 0.003953967243432999, -0....\n",
       "Name: best_mask_parameters, dtype: object"
      ]
     },
     "execution_count": 11,
     "metadata": {},
     "output_type": "execute_result"
    }
   ],
   "source": [
    "runs_df['best_mask_parameters'].head()"
   ]
  },
  {
   "cell_type": "code",
   "execution_count": 12,
   "metadata": {},
   "outputs": [],
   "source": [
    "# Convert the list in each row to a separate DataFrame\n",
    "list_df = pd.DataFrame(runs_df['best_mask_parameters'].tolist())\n",
    "\n",
    "list_df.columns = [f'best_mask_param_{i}' for i in range(len(list_df.columns))]\n",
    "\n",
    "# Concatenate the new DataFrame with the original DataFrame\n",
    "runs_df = pd.concat([runs_df, list_df], axis=1)\n",
    "\n"
   ]
  },
  {
   "cell_type": "code",
   "execution_count": 24,
   "metadata": {},
   "outputs": [
    {
     "data": {
      "text/html": [
       "<div>\n",
       "<style scoped>\n",
       "    .dataframe tbody tr th:only-of-type {\n",
       "        vertical-align: middle;\n",
       "    }\n",
       "\n",
       "    .dataframe tbody tr th {\n",
       "        vertical-align: top;\n",
       "    }\n",
       "\n",
       "    .dataframe thead th {\n",
       "        text-align: right;\n",
       "    }\n",
       "</style>\n",
       "<table border=\"1\" class=\"dataframe\">\n",
       "  <thead>\n",
       "    <tr style=\"text-align: right;\">\n",
       "      <th></th>\n",
       "      <th>best_mask</th>\n",
       "      <th>seed_model_init</th>\n",
       "      <th>metric_model_selection</th>\n",
       "      <th>bestmodel_test/balanced_accuracy</th>\n",
       "      <th>bestmodel/step</th>\n",
       "      <th>trainer/global_step</th>\n",
       "    </tr>\n",
       "  </thead>\n",
       "  <tbody>\n",
       "    <tr>\n",
       "      <th>0</th>\n",
       "      <td>10100</td>\n",
       "      <td>2</td>\n",
       "      <td>balanced_accuracy</td>\n",
       "      <td>0.978557</td>\n",
       "      <td>276</td>\n",
       "      <td>966</td>\n",
       "    </tr>\n",
       "    <tr>\n",
       "      <th>1</th>\n",
       "      <td>11010</td>\n",
       "      <td>1</td>\n",
       "      <td>balanced_accuracy</td>\n",
       "      <td>0.956505</td>\n",
       "      <td>92</td>\n",
       "      <td>782</td>\n",
       "    </tr>\n",
       "    <tr>\n",
       "      <th>2</th>\n",
       "      <td>10100</td>\n",
       "      <td>0</td>\n",
       "      <td>balanced_accuracy</td>\n",
       "      <td>0.954889</td>\n",
       "      <td>92</td>\n",
       "      <td>782</td>\n",
       "    </tr>\n",
       "    <tr>\n",
       "      <th>3</th>\n",
       "      <td>00100</td>\n",
       "      <td>2</td>\n",
       "      <td>total_loss</td>\n",
       "      <td>0.884806</td>\n",
       "      <td>874</td>\n",
       "      <td>1564</td>\n",
       "    </tr>\n",
       "    <tr>\n",
       "      <th>4</th>\n",
       "      <td>11010</td>\n",
       "      <td>1</td>\n",
       "      <td>total_loss</td>\n",
       "      <td>0.956505</td>\n",
       "      <td>92</td>\n",
       "      <td>782</td>\n",
       "    </tr>\n",
       "    <tr>\n",
       "      <th>5</th>\n",
       "      <td>10100</td>\n",
       "      <td>0</td>\n",
       "      <td>total_loss</td>\n",
       "      <td>0.954889</td>\n",
       "      <td>92</td>\n",
       "      <td>782</td>\n",
       "    </tr>\n",
       "    <tr>\n",
       "      <th>6</th>\n",
       "      <td>11110</td>\n",
       "      <td>2</td>\n",
       "      <td>cross_entropy_loss</td>\n",
       "      <td>0.981087</td>\n",
       "      <td>46</td>\n",
       "      <td>736</td>\n",
       "    </tr>\n",
       "    <tr>\n",
       "      <th>7</th>\n",
       "      <td>11010</td>\n",
       "      <td>1</td>\n",
       "      <td>cross_entropy_loss</td>\n",
       "      <td>0.956505</td>\n",
       "      <td>92</td>\n",
       "      <td>782</td>\n",
       "    </tr>\n",
       "    <tr>\n",
       "      <th>8</th>\n",
       "      <td>10100</td>\n",
       "      <td>0</td>\n",
       "      <td>cross_entropy_loss</td>\n",
       "      <td>0.954889</td>\n",
       "      <td>92</td>\n",
       "      <td>782</td>\n",
       "    </tr>\n",
       "  </tbody>\n",
       "</table>\n",
       "</div>"
      ],
      "text/plain": [
       "  best_mask  seed_model_init metric_model_selection  \\\n",
       "0     10100                2      balanced_accuracy   \n",
       "1     11010                1      balanced_accuracy   \n",
       "2     10100                0      balanced_accuracy   \n",
       "3     00100                2             total_loss   \n",
       "4     11010                1             total_loss   \n",
       "5     10100                0             total_loss   \n",
       "6     11110                2     cross_entropy_loss   \n",
       "7     11010                1     cross_entropy_loss   \n",
       "8     10100                0     cross_entropy_loss   \n",
       "\n",
       "   bestmodel_test/balanced_accuracy bestmodel/step  trainer/global_step  \n",
       "0                          0.978557            276                  966  \n",
       "1                          0.956505             92                  782  \n",
       "2                          0.954889             92                  782  \n",
       "3                          0.884806            874                 1564  \n",
       "4                          0.956505             92                  782  \n",
       "5                          0.954889             92                  782  \n",
       "6                          0.981087             46                  736  \n",
       "7                          0.956505             92                  782  \n",
       "8                          0.954889             92                  782  "
      ]
     },
     "execution_count": 24,
     "metadata": {},
     "output_type": "execute_result"
    }
   ],
   "source": [
    "runs_df[[\n",
    "    # 'dataset',\n",
    "    'best_mask',\n",
    "    'seed_model_init',\n",
    "    'metric_model_selection',\n",
    "    'bestmodel_test/balanced_accuracy',\n",
    "    'bestmodel/step',\n",
    "    'trainer/global_step'\n",
    "    ]]"
   ]
  },
  {
   "cell_type": "code",
   "execution_count": 14,
   "metadata": {},
   "outputs": [
    {
     "data": {
      "text/html": [
       "<div>\n",
       "<style scoped>\n",
       "    .dataframe tbody tr th:only-of-type {\n",
       "        vertical-align: middle;\n",
       "    }\n",
       "\n",
       "    .dataframe tbody tr th {\n",
       "        vertical-align: top;\n",
       "    }\n",
       "\n",
       "    .dataframe thead th {\n",
       "        text-align: right;\n",
       "    }\n",
       "</style>\n",
       "<table border=\"1\" class=\"dataframe\">\n",
       "  <thead>\n",
       "    <tr style=\"text-align: right;\">\n",
       "      <th></th>\n",
       "      <th>bestmodel_test/balanced_accuracy</th>\n",
       "      <th>bestmodel_test/cross_entropy_loss</th>\n",
       "      <th>bestmodel_test/reconstruction_loss</th>\n",
       "      <th>bestmodel_test/sparsity_loss</th>\n",
       "    </tr>\n",
       "    <tr>\n",
       "      <th>best_mask</th>\n",
       "      <th></th>\n",
       "      <th></th>\n",
       "      <th></th>\n",
       "      <th></th>\n",
       "    </tr>\n",
       "  </thead>\n",
       "  <tbody>\n",
       "    <tr>\n",
       "      <th>00100</th>\n",
       "      <td>0.884806</td>\n",
       "      <td>0.217225</td>\n",
       "      <td>0.245481</td>\n",
       "      <td>1.466723</td>\n",
       "    </tr>\n",
       "    <tr>\n",
       "      <th>10100</th>\n",
       "      <td>0.960806</td>\n",
       "      <td>0.122736</td>\n",
       "      <td>0.038136</td>\n",
       "      <td>2.169428</td>\n",
       "    </tr>\n",
       "    <tr>\n",
       "      <th>11010</th>\n",
       "      <td>0.956505</td>\n",
       "      <td>0.104835</td>\n",
       "      <td>0.027199</td>\n",
       "      <td>2.262948</td>\n",
       "    </tr>\n",
       "    <tr>\n",
       "      <th>11110</th>\n",
       "      <td>0.981087</td>\n",
       "      <td>0.046389</td>\n",
       "      <td>0.007439</td>\n",
       "      <td>2.370922</td>\n",
       "    </tr>\n",
       "  </tbody>\n",
       "</table>\n",
       "</div>"
      ],
      "text/plain": [
       "           bestmodel_test/balanced_accuracy  \\\n",
       "best_mask                                     \n",
       "00100                              0.884806   \n",
       "10100                              0.960806   \n",
       "11010                              0.956505   \n",
       "11110                              0.981087   \n",
       "\n",
       "           bestmodel_test/cross_entropy_loss  \\\n",
       "best_mask                                      \n",
       "00100                               0.217225   \n",
       "10100                               0.122736   \n",
       "11010                               0.104835   \n",
       "11110                               0.046389   \n",
       "\n",
       "           bestmodel_test/reconstruction_loss  bestmodel_test/sparsity_loss  \n",
       "best_mask                                                                    \n",
       "00100                                0.245481                      1.466723  \n",
       "10100                                0.038136                      2.169428  \n",
       "11010                                0.027199                      2.262948  \n",
       "11110                                0.007439                      2.370922  "
      ]
     },
     "execution_count": 14,
     "metadata": {},
     "output_type": "execute_result"
    }
   ],
   "source": [
    "runs_df.groupby([\n",
    "    # 'dataset',\n",
    "    'best_mask'\n",
    "    ]).agg({\n",
    "    'bestmodel_test/balanced_accuracy': 'mean',\n",
    "    'bestmodel_test/cross_entropy_loss': 'mean',\n",
    "    'bestmodel_test/reconstruction_loss': 'mean',\n",
    "    'bestmodel_test/sparsity_loss': 'mean',\n",
    "    # 'sparsity_loss': 'mean',\n",
    "    # 'sparsity_regularizer_hyperparam': 'mean'\n",
    "})"
   ]
  },
  {
   "cell_type": "code",
   "execution_count": null,
   "metadata": {},
   "outputs": [],
   "source": [
    "transformed_columns = [col for col in runs_df.columns if '_transformed' in col]\n",
    "\n",
    "# Sum the values across these columns for each row\n",
    "runs_df['sparsity_loss'] = runs_df[transformed_columns].sum(axis=1)\n"
   ]
  },
  {
   "cell_type": "code",
   "execution_count": null,
   "metadata": {},
   "outputs": [
    {
     "data": {
      "text/plain": [
       "sparsity_loss\n",
       "1.0    12\n",
       "0.0     3\n",
       "Name: count, dtype: int64"
      ]
     },
     "execution_count": 12,
     "metadata": {},
     "output_type": "execute_result"
    }
   ],
   "source": [
    "runs_df[runs_df['mask_type']=='gumbel_softmax']['sparsity_loss'].value_counts()"
   ]
  },
  {
   "cell_type": "code",
   "execution_count": 13,
   "metadata": {},
   "outputs": [],
   "source": [
    "gumbel_df = runs_df[runs_df['mask_type']=='gumbel_softmax'].copy()"
   ]
  },
  {
   "cell_type": "code",
   "execution_count": 14,
   "metadata": {},
   "outputs": [
    {
     "data": {
      "text/plain": [
       "6"
      ]
     },
     "execution_count": 14,
     "metadata": {},
     "output_type": "execute_result"
    }
   ],
   "source": [
    "gumbel_df['best_mask_param_10_transformed'].isna().sum()\n"
   ]
  },
  {
   "cell_type": "code",
   "execution_count": 15,
   "metadata": {},
   "outputs": [],
   "source": [
    "# Columns to convert to int\n",
    "transformed_columns = [col for col in gumbel_df.columns if '_transformed' in col]\n",
    "\n",
    "# Convert each column to int\n",
    "for col in transformed_columns:\n",
    "    gumbel_df[col] = pd.to_numeric(gumbel_df[col], errors='coerce').astype('Int64')\n"
   ]
  },
  {
   "cell_type": "code",
   "execution_count": 16,
   "metadata": {},
   "outputs": [],
   "source": [
    "# Columns to concatenate\n",
    "transformed_columns = [col for col in gumbel_df.columns if '_transformed' in col]\n",
    "\n",
    "# Concatenate the values as strings\n",
    "gumbel_df['mask'] = gumbel_df.apply(lambda row: ''.join(str(row[col]) if not pd.isna(row[col]) else '' for col in transformed_columns), axis=1)\n"
   ]
  },
  {
   "cell_type": "code",
   "execution_count": 24,
   "metadata": {},
   "outputs": [
    {
     "data": {
      "text/plain": [
       "0     0.933191\n",
       "1     0.707213\n",
       "2     0.854499\n",
       "3     0.669965\n",
       "4     0.682967\n",
       "5     0.671700\n",
       "6     0.615076\n",
       "7     0.629889\n",
       "8     0.641466\n",
       "9     0.850500\n",
       "10    0.804500\n",
       "11    0.850000\n",
       "12    0.899500\n",
       "13    0.906000\n",
       "14    0.898000\n",
       "Name: valid/balanced_accuracy, dtype: float64"
      ]
     },
     "execution_count": 24,
     "metadata": {},
     "output_type": "execute_result"
    }
   ],
   "source": [
    "gumbel_df['valid/balanced_accuracy']"
   ]
  },
  {
   "cell_type": "code",
   "execution_count": 25,
   "metadata": {},
   "outputs": [
    {
     "data": {
      "text/plain": [
       "0     0.934952\n",
       "1     0.630114\n",
       "2     0.918377\n",
       "3     0.669684\n",
       "4     0.666142\n",
       "5     0.666237\n",
       "6     0.619437\n",
       "7     0.615477\n",
       "8     0.614942\n",
       "9     0.874625\n",
       "10    0.897625\n",
       "11    0.881375\n",
       "12    0.855000\n",
       "13    0.866625\n",
       "14    0.855125\n",
       "Name: bestmodel_valid/balanced_accuracy, dtype: float64"
      ]
     },
     "execution_count": 25,
     "metadata": {},
     "output_type": "execute_result"
    }
   ],
   "source": [
    "gumbel_df['bestmodel_valid/balanced_accuracy']\n"
   ]
  },
  {
   "cell_type": "code",
   "execution_count": 26,
   "metadata": {},
   "outputs": [
    {
     "data": {
      "text/plain": [
       "0     dr0p5zu6\n",
       "1     y9042ap8\n",
       "2     6ggf0h6a\n",
       "3     4xvumqoa\n",
       "4     u4ccpqts\n",
       "5     zv8166dr\n",
       "6     qeoykxj1\n",
       "7     t836m1ql\n",
       "8     w704rgvl\n",
       "9     15he0bmw\n",
       "10    eysbro4k\n",
       "11    ahqxe2l4\n",
       "12    ghwl8ycp\n",
       "13    2toq3d8b\n",
       "14    geuykwme\n",
       "Name: id, dtype: object"
      ]
     },
     "execution_count": 26,
     "metadata": {},
     "output_type": "execute_result"
    }
   ],
   "source": [
    "gumbel_df['id']\n"
   ]
  },
  {
   "cell_type": "code",
   "execution_count": 34,
   "metadata": {},
   "outputs": [
    {
     "ename": "CommError",
     "evalue": "It appears that you do not have permission to access the requested resource. Please reach out to the project owner to grant you access. If you have the correct permissions, verify that there are no issues with your networking setup.(Error 404: Not Found)",
     "output_type": "error",
     "traceback": [
      "\u001b[1;31m---------------------------------------------------------------------------\u001b[0m",
      "\u001b[1;31mHTTPError\u001b[0m                                 Traceback (most recent call last)",
      "File \u001b[1;32mc:\\Users\\evan_\\anaconda3\\envs\\fwal\\lib\\site-packages\\wandb\\sdk\\lib\\retry.py:131\u001b[0m, in \u001b[0;36mRetry.__call__\u001b[1;34m(self, *args, **kwargs)\u001b[0m\n\u001b[0;32m    130\u001b[0m \u001b[38;5;28;01mtry\u001b[39;00m:\n\u001b[1;32m--> 131\u001b[0m     result \u001b[38;5;241m=\u001b[39m \u001b[38;5;28mself\u001b[39m\u001b[38;5;241m.\u001b[39m_call_fn(\u001b[38;5;241m*\u001b[39margs, \u001b[38;5;241m*\u001b[39m\u001b[38;5;241m*\u001b[39mkwargs)\n\u001b[0;32m    132\u001b[0m     \u001b[38;5;66;03m# Only print resolved attempts once every minute\u001b[39;00m\n",
      "File \u001b[1;32mc:\\Users\\evan_\\anaconda3\\envs\\fwal\\lib\\site-packages\\wandb\\apis\\public\\api.py:73\u001b[0m, in \u001b[0;36mRetryingClient.execute\u001b[1;34m(self, *args, **kwargs)\u001b[0m\n\u001b[0;32m     72\u001b[0m \u001b[38;5;28;01mtry\u001b[39;00m:\n\u001b[1;32m---> 73\u001b[0m     \u001b[38;5;28;01mreturn\u001b[39;00m \u001b[38;5;28mself\u001b[39m\u001b[38;5;241m.\u001b[39m_client\u001b[38;5;241m.\u001b[39mexecute(\u001b[38;5;241m*\u001b[39margs, \u001b[38;5;241m*\u001b[39m\u001b[38;5;241m*\u001b[39mkwargs)\n\u001b[0;32m     74\u001b[0m \u001b[38;5;28;01mexcept\u001b[39;00m requests\u001b[38;5;241m.\u001b[39mexceptions\u001b[38;5;241m.\u001b[39mReadTimeout:\n",
      "File \u001b[1;32mc:\\Users\\evan_\\anaconda3\\envs\\fwal\\lib\\site-packages\\wandb\\vendor\\gql-0.2.0\\wandb_gql\\client.py:52\u001b[0m, in \u001b[0;36mClient.execute\u001b[1;34m(self, document, *args, **kwargs)\u001b[0m\n\u001b[0;32m     50\u001b[0m     \u001b[38;5;28mself\u001b[39m\u001b[38;5;241m.\u001b[39mvalidate(document)\n\u001b[1;32m---> 52\u001b[0m result \u001b[38;5;241m=\u001b[39m \u001b[38;5;28mself\u001b[39m\u001b[38;5;241m.\u001b[39m_get_result(document, \u001b[38;5;241m*\u001b[39margs, \u001b[38;5;241m*\u001b[39m\u001b[38;5;241m*\u001b[39mkwargs)\n\u001b[0;32m     53\u001b[0m \u001b[38;5;28;01mif\u001b[39;00m result\u001b[38;5;241m.\u001b[39merrors:\n",
      "File \u001b[1;32mc:\\Users\\evan_\\anaconda3\\envs\\fwal\\lib\\site-packages\\wandb\\vendor\\gql-0.2.0\\wandb_gql\\client.py:60\u001b[0m, in \u001b[0;36mClient._get_result\u001b[1;34m(self, document, *args, **kwargs)\u001b[0m\n\u001b[0;32m     59\u001b[0m \u001b[38;5;28;01mif\u001b[39;00m \u001b[38;5;129;01mnot\u001b[39;00m \u001b[38;5;28mself\u001b[39m\u001b[38;5;241m.\u001b[39mretries:\n\u001b[1;32m---> 60\u001b[0m     \u001b[38;5;28;01mreturn\u001b[39;00m \u001b[38;5;28mself\u001b[39m\u001b[38;5;241m.\u001b[39mtransport\u001b[38;5;241m.\u001b[39mexecute(document, \u001b[38;5;241m*\u001b[39margs, \u001b[38;5;241m*\u001b[39m\u001b[38;5;241m*\u001b[39mkwargs)\n\u001b[0;32m     62\u001b[0m last_exception \u001b[38;5;241m=\u001b[39m \u001b[38;5;28;01mNone\u001b[39;00m\n",
      "File \u001b[1;32mc:\\Users\\evan_\\anaconda3\\envs\\fwal\\lib\\site-packages\\wandb\\sdk\\lib\\gql_request.py:59\u001b[0m, in \u001b[0;36mGraphQLSession.execute\u001b[1;34m(self, document, variable_values, timeout)\u001b[0m\n\u001b[0;32m     58\u001b[0m request \u001b[38;5;241m=\u001b[39m \u001b[38;5;28mself\u001b[39m\u001b[38;5;241m.\u001b[39msession\u001b[38;5;241m.\u001b[39mpost(\u001b[38;5;28mself\u001b[39m\u001b[38;5;241m.\u001b[39murl, \u001b[38;5;241m*\u001b[39m\u001b[38;5;241m*\u001b[39mpost_args)\n\u001b[1;32m---> 59\u001b[0m \u001b[43mrequest\u001b[49m\u001b[38;5;241;43m.\u001b[39;49m\u001b[43mraise_for_status\u001b[49m\u001b[43m(\u001b[49m\u001b[43m)\u001b[49m\n\u001b[0;32m     61\u001b[0m result \u001b[38;5;241m=\u001b[39m request\u001b[38;5;241m.\u001b[39mjson()\n",
      "File \u001b[1;32mc:\\Users\\evan_\\anaconda3\\envs\\fwal\\lib\\site-packages\\requests\\models.py:1021\u001b[0m, in \u001b[0;36mResponse.raise_for_status\u001b[1;34m(self)\u001b[0m\n\u001b[0;32m   1020\u001b[0m \u001b[38;5;28;01mif\u001b[39;00m http_error_msg:\n\u001b[1;32m-> 1021\u001b[0m     \u001b[38;5;28;01mraise\u001b[39;00m HTTPError(http_error_msg, response\u001b[38;5;241m=\u001b[39m\u001b[38;5;28mself\u001b[39m)\n",
      "\u001b[1;31mHTTPError\u001b[0m: 404 Client Error: Not Found for url: https://api.wandb.ai/graphql",
      "\nDuring handling of the above exception, another exception occurred:\n",
      "\u001b[1;31mCommError\u001b[0m                                 Traceback (most recent call last)",
      "Cell \u001b[1;32mIn [34], line 2\u001b[0m\n\u001b[0;32m      1\u001b[0m artifact_name\u001b[38;5;241m=\u001b[39m\u001b[38;5;124m'\u001b[39m\u001b[38;5;124m15he0bmw\u001b[39m\u001b[38;5;124m'\u001b[39m\n\u001b[1;32m----> 2\u001b[0m artifact \u001b[38;5;241m=\u001b[39m api\u001b[38;5;241m.\u001b[39martifact(\u001b[38;5;124mf\u001b[39m\u001b[38;5;124m'\u001b[39m\u001b[38;5;132;01m{\u001b[39;00mentity\u001b[38;5;132;01m}\u001b[39;00m\u001b[38;5;124m/\u001b[39m\u001b[38;5;132;01m{\u001b[39;00mproject_name\u001b[38;5;132;01m}\u001b[39;00m\u001b[38;5;124m/\u001b[39m\u001b[38;5;132;01m{\u001b[39;00martifact_name\u001b[38;5;132;01m}\u001b[39;00m\u001b[38;5;124m:v0\u001b[39m\u001b[38;5;124m'\u001b[39m, \u001b[38;5;28mtype\u001b[39m\u001b[38;5;241m=\u001b[39m\u001b[38;5;124m'\u001b[39m\u001b[38;5;124mmodel\u001b[39m\u001b[38;5;124m'\u001b[39m)\n\u001b[0;32m      3\u001b[0m artifact_dir \u001b[38;5;241m=\u001b[39m artifact\u001b[38;5;241m.\u001b[39mdownload()\n",
      "File \u001b[1;32mc:\\Users\\evan_\\anaconda3\\envs\\fwal\\lib\\site-packages\\wandb\\apis\\normalize.py:73\u001b[0m, in \u001b[0;36mnormalize_exceptions.<locals>.wrapper\u001b[1;34m(*args, **kwargs)\u001b[0m\n\u001b[0;32m     69\u001b[0m         \u001b[38;5;28;01mraise\u001b[39;00m CommError(message, err\u001b[38;5;241m.\u001b[39mlast_exception)\u001b[38;5;241m.\u001b[39mwith_traceback(\n\u001b[0;32m     70\u001b[0m             sys\u001b[38;5;241m.\u001b[39mexc_info()[\u001b[38;5;241m2\u001b[39m]\n\u001b[0;32m     71\u001b[0m         )\n\u001b[0;32m     72\u001b[0m \u001b[38;5;28;01mexcept\u001b[39;00m Error \u001b[38;5;28;01mas\u001b[39;00m err:\n\u001b[1;32m---> 73\u001b[0m     \u001b[38;5;28;01mraise\u001b[39;00m err\n\u001b[0;32m     74\u001b[0m \u001b[38;5;28;01mexcept\u001b[39;00m \u001b[38;5;167;01mException\u001b[39;00m \u001b[38;5;28;01mas\u001b[39;00m err:\n\u001b[0;32m     75\u001b[0m     \u001b[38;5;66;03m# gql raises server errors with dict's as strings...\u001b[39;00m\n\u001b[0;32m     76\u001b[0m     \u001b[38;5;28;01mif\u001b[39;00m \u001b[38;5;28mlen\u001b[39m(err\u001b[38;5;241m.\u001b[39margs) \u001b[38;5;241m>\u001b[39m \u001b[38;5;241m0\u001b[39m:\n",
      "File \u001b[1;32mc:\\Users\\evan_\\anaconda3\\envs\\fwal\\lib\\site-packages\\wandb\\apis\\normalize.py:41\u001b[0m, in \u001b[0;36mnormalize_exceptions.<locals>.wrapper\u001b[1;34m(*args, **kwargs)\u001b[0m\n\u001b[0;32m     39\u001b[0m message \u001b[38;5;241m=\u001b[39m \u001b[38;5;124m\"\u001b[39m\u001b[38;5;124mWhoa, you found a bug.\u001b[39m\u001b[38;5;124m\"\u001b[39m\n\u001b[0;32m     40\u001b[0m \u001b[38;5;28;01mtry\u001b[39;00m:\n\u001b[1;32m---> 41\u001b[0m     \u001b[38;5;28;01mreturn\u001b[39;00m func(\u001b[38;5;241m*\u001b[39margs, \u001b[38;5;241m*\u001b[39m\u001b[38;5;241m*\u001b[39mkwargs)\n\u001b[0;32m     42\u001b[0m \u001b[38;5;28;01mexcept\u001b[39;00m requests\u001b[38;5;241m.\u001b[39mHTTPError \u001b[38;5;28;01mas\u001b[39;00m error:\n\u001b[0;32m     43\u001b[0m     errors \u001b[38;5;241m=\u001b[39m parse_backend_error_messages(error\u001b[38;5;241m.\u001b[39mresponse)\n",
      "File \u001b[1;32mc:\\Users\\evan_\\anaconda3\\envs\\fwal\\lib\\site-packages\\wandb\\apis\\public\\api.py:950\u001b[0m, in \u001b[0;36mApi.artifact\u001b[1;34m(self, name, type)\u001b[0m\n\u001b[0;32m    948\u001b[0m     \u001b[38;5;28;01mraise\u001b[39;00m \u001b[38;5;167;01mValueError\u001b[39;00m(\u001b[38;5;124m\"\u001b[39m\u001b[38;5;124mYou must specify name= to fetch an artifact.\u001b[39m\u001b[38;5;124m\"\u001b[39m)\n\u001b[0;32m    949\u001b[0m entity, project, artifact_name \u001b[38;5;241m=\u001b[39m \u001b[38;5;28mself\u001b[39m\u001b[38;5;241m.\u001b[39m_parse_artifact_path(name)\n\u001b[1;32m--> 950\u001b[0m artifact \u001b[38;5;241m=\u001b[39m \u001b[43mwandb\u001b[49m\u001b[38;5;241;43m.\u001b[39;49m\u001b[43mArtifact\u001b[49m\u001b[38;5;241;43m.\u001b[39;49m\u001b[43m_from_name\u001b[49m\u001b[43m(\u001b[49m\n\u001b[0;32m    951\u001b[0m \u001b[43m    \u001b[49m\u001b[43mentity\u001b[49m\u001b[43m,\u001b[49m\u001b[43m \u001b[49m\u001b[43mproject\u001b[49m\u001b[43m,\u001b[49m\u001b[43m \u001b[49m\u001b[43martifact_name\u001b[49m\u001b[43m,\u001b[49m\u001b[43m \u001b[49m\u001b[38;5;28;43mself\u001b[39;49m\u001b[38;5;241;43m.\u001b[39;49m\u001b[43mclient\u001b[49m\n\u001b[0;32m    952\u001b[0m \u001b[43m\u001b[49m\u001b[43m)\u001b[49m\n\u001b[0;32m    953\u001b[0m \u001b[38;5;28;01mif\u001b[39;00m \u001b[38;5;28mtype\u001b[39m \u001b[38;5;129;01mis\u001b[39;00m \u001b[38;5;129;01mnot\u001b[39;00m \u001b[38;5;28;01mNone\u001b[39;00m \u001b[38;5;129;01mand\u001b[39;00m artifact\u001b[38;5;241m.\u001b[39mtype \u001b[38;5;241m!=\u001b[39m \u001b[38;5;28mtype\u001b[39m:\n\u001b[0;32m    954\u001b[0m     \u001b[38;5;28;01mraise\u001b[39;00m \u001b[38;5;167;01mValueError\u001b[39;00m(\n\u001b[0;32m    955\u001b[0m         \u001b[38;5;124mf\u001b[39m\u001b[38;5;124m\"\u001b[39m\u001b[38;5;124mtype \u001b[39m\u001b[38;5;132;01m{\u001b[39;00m\u001b[38;5;28mtype\u001b[39m\u001b[38;5;132;01m}\u001b[39;00m\u001b[38;5;124m specified but this artifact is of type \u001b[39m\u001b[38;5;132;01m{\u001b[39;00martifact\u001b[38;5;241m.\u001b[39mtype\u001b[38;5;132;01m}\u001b[39;00m\u001b[38;5;124m\"\u001b[39m\n\u001b[0;32m    956\u001b[0m     )\n",
      "File \u001b[1;32mc:\\Users\\evan_\\anaconda3\\envs\\fwal\\lib\\site-packages\\wandb\\sdk\\artifacts\\artifact.py:248\u001b[0m, in \u001b[0;36mArtifact._from_name\u001b[1;34m(cls, entity, project, name, client)\u001b[0m\n\u001b[0;32m    228\u001b[0m \u001b[38;5;129m@classmethod\u001b[39m\n\u001b[0;32m    229\u001b[0m \u001b[38;5;28;01mdef\u001b[39;00m \u001b[38;5;21m_from_name\u001b[39m(\n\u001b[0;32m    230\u001b[0m     \u001b[38;5;28mcls\u001b[39m, entity: \u001b[38;5;28mstr\u001b[39m, project: \u001b[38;5;28mstr\u001b[39m, name: \u001b[38;5;28mstr\u001b[39m, client: RetryingClient\n\u001b[0;32m    231\u001b[0m ) \u001b[38;5;241m-\u001b[39m\u001b[38;5;241m>\u001b[39m \u001b[38;5;124m\"\u001b[39m\u001b[38;5;124mArtifact\u001b[39m\u001b[38;5;124m\"\u001b[39m:\n\u001b[0;32m    232\u001b[0m     query \u001b[38;5;241m=\u001b[39m gql(\n\u001b[0;32m    233\u001b[0m         \u001b[38;5;124;03m\"\"\"\u001b[39;00m\n\u001b[0;32m    234\u001b[0m \u001b[38;5;124;03m        query ArtifactByName(\u001b[39;00m\n\u001b[1;32m   (...)\u001b[0m\n\u001b[0;32m    246\u001b[0m         \u001b[38;5;241m+\u001b[39m \u001b[38;5;28mcls\u001b[39m\u001b[38;5;241m.\u001b[39m_get_gql_artifact_fragment()\n\u001b[0;32m    247\u001b[0m     )\n\u001b[1;32m--> 248\u001b[0m     response \u001b[38;5;241m=\u001b[39m \u001b[43mclient\u001b[49m\u001b[38;5;241;43m.\u001b[39;49m\u001b[43mexecute\u001b[49m\u001b[43m(\u001b[49m\n\u001b[0;32m    249\u001b[0m \u001b[43m        \u001b[49m\u001b[43mquery\u001b[49m\u001b[43m,\u001b[49m\n\u001b[0;32m    250\u001b[0m \u001b[43m        \u001b[49m\u001b[43mvariable_values\u001b[49m\u001b[38;5;241;43m=\u001b[39;49m\u001b[43m{\u001b[49m\n\u001b[0;32m    251\u001b[0m \u001b[43m            \u001b[49m\u001b[38;5;124;43m\"\u001b[39;49m\u001b[38;5;124;43mentityName\u001b[39;49m\u001b[38;5;124;43m\"\u001b[39;49m\u001b[43m:\u001b[49m\u001b[43m \u001b[49m\u001b[43mentity\u001b[49m\u001b[43m,\u001b[49m\n\u001b[0;32m    252\u001b[0m \u001b[43m            \u001b[49m\u001b[38;5;124;43m\"\u001b[39;49m\u001b[38;5;124;43mprojectName\u001b[39;49m\u001b[38;5;124;43m\"\u001b[39;49m\u001b[43m:\u001b[49m\u001b[43m \u001b[49m\u001b[43mproject\u001b[49m\u001b[43m,\u001b[49m\n\u001b[0;32m    253\u001b[0m \u001b[43m            \u001b[49m\u001b[38;5;124;43m\"\u001b[39;49m\u001b[38;5;124;43mname\u001b[39;49m\u001b[38;5;124;43m\"\u001b[39;49m\u001b[43m:\u001b[49m\u001b[43m \u001b[49m\u001b[43mname\u001b[49m\u001b[43m,\u001b[49m\n\u001b[0;32m    254\u001b[0m \u001b[43m        \u001b[49m\u001b[43m}\u001b[49m\u001b[43m,\u001b[49m\n\u001b[0;32m    255\u001b[0m \u001b[43m    \u001b[49m\u001b[43m)\u001b[49m\n\u001b[0;32m    256\u001b[0m     attrs \u001b[38;5;241m=\u001b[39m response\u001b[38;5;241m.\u001b[39mget(\u001b[38;5;124m\"\u001b[39m\u001b[38;5;124mproject\u001b[39m\u001b[38;5;124m\"\u001b[39m, {})\u001b[38;5;241m.\u001b[39mget(\u001b[38;5;124m\"\u001b[39m\u001b[38;5;124martifact\u001b[39m\u001b[38;5;124m\"\u001b[39m)\n\u001b[0;32m    257\u001b[0m     \u001b[38;5;28;01mif\u001b[39;00m attrs \u001b[38;5;129;01mis\u001b[39;00m \u001b[38;5;28;01mNone\u001b[39;00m:\n",
      "File \u001b[1;32mc:\\Users\\evan_\\anaconda3\\envs\\fwal\\lib\\site-packages\\wandb\\sdk\\lib\\retry.py:212\u001b[0m, in \u001b[0;36mretriable.<locals>.decorator.<locals>.wrapped_fn\u001b[1;34m(*args, **kargs)\u001b[0m\n\u001b[0;32m    210\u001b[0m \u001b[38;5;129m@functools\u001b[39m\u001b[38;5;241m.\u001b[39mwraps(fn)\n\u001b[0;32m    211\u001b[0m \u001b[38;5;28;01mdef\u001b[39;00m \u001b[38;5;21mwrapped_fn\u001b[39m(\u001b[38;5;241m*\u001b[39margs: Any, \u001b[38;5;241m*\u001b[39m\u001b[38;5;241m*\u001b[39mkargs: Any) \u001b[38;5;241m-\u001b[39m\u001b[38;5;241m>\u001b[39m Any:\n\u001b[1;32m--> 212\u001b[0m     \u001b[38;5;28;01mreturn\u001b[39;00m retrier(\u001b[38;5;241m*\u001b[39margs, \u001b[38;5;241m*\u001b[39m\u001b[38;5;241m*\u001b[39mkargs)\n",
      "File \u001b[1;32mc:\\Users\\evan_\\anaconda3\\envs\\fwal\\lib\\site-packages\\wandb\\sdk\\lib\\retry.py:147\u001b[0m, in \u001b[0;36mRetry.__call__\u001b[1;34m(self, *args, **kwargs)\u001b[0m\n\u001b[0;32m    144\u001b[0m     \u001b[38;5;28;01mreturn\u001b[39;00m result\n\u001b[0;32m    145\u001b[0m \u001b[38;5;28;01mexcept\u001b[39;00m \u001b[38;5;28mself\u001b[39m\u001b[38;5;241m.\u001b[39m_retryable_exceptions \u001b[38;5;28;01mas\u001b[39;00m e:\n\u001b[0;32m    146\u001b[0m     \u001b[38;5;66;03m# if the secondary check fails, re-raise\u001b[39;00m\n\u001b[1;32m--> 147\u001b[0m     retry_timedelta_triggered \u001b[38;5;241m=\u001b[39m \u001b[43mcheck_retry_fn\u001b[49m\u001b[43m(\u001b[49m\u001b[43me\u001b[49m\u001b[43m)\u001b[49m\n\u001b[0;32m    148\u001b[0m     \u001b[38;5;28;01mif\u001b[39;00m \u001b[38;5;129;01mnot\u001b[39;00m retry_timedelta_triggered:\n\u001b[0;32m    149\u001b[0m         \u001b[38;5;28;01mraise\u001b[39;00m\n",
      "File \u001b[1;32mc:\\Users\\evan_\\anaconda3\\envs\\fwal\\lib\\site-packages\\wandb\\util.py:907\u001b[0m, in \u001b[0;36mno_retry_auth\u001b[1;34m(e)\u001b[0m\n\u001b[0;32m    905\u001b[0m     \u001b[38;5;28;01mraise\u001b[39;00m CommError(\u001b[38;5;124mf\u001b[39m\u001b[38;5;124m\"\u001b[39m\u001b[38;5;124mPermission denied to access \u001b[39m\u001b[38;5;132;01m{\u001b[39;00mwandb\u001b[38;5;241m.\u001b[39mrun\u001b[38;5;241m.\u001b[39mpath\u001b[38;5;132;01m}\u001b[39;00m\u001b[38;5;124m\"\u001b[39m)\n\u001b[0;32m    906\u001b[0m \u001b[38;5;28;01melse\u001b[39;00m:\n\u001b[1;32m--> 907\u001b[0m     \u001b[38;5;28;01mraise\u001b[39;00m CommError(\n\u001b[0;32m    908\u001b[0m         \u001b[38;5;124m\"\u001b[39m\u001b[38;5;124mIt appears that you do not have permission to access the requested resource. \u001b[39m\u001b[38;5;124m\"\u001b[39m\n\u001b[0;32m    909\u001b[0m         \u001b[38;5;124m\"\u001b[39m\u001b[38;5;124mPlease reach out to the project owner to grant you access. \u001b[39m\u001b[38;5;124m\"\u001b[39m\n\u001b[0;32m    910\u001b[0m         \u001b[38;5;124m\"\u001b[39m\u001b[38;5;124mIf you have the correct permissions, verify that there are no issues with your networking setup.\u001b[39m\u001b[38;5;124m\"\u001b[39m\n\u001b[0;32m    911\u001b[0m         \u001b[38;5;124mf\u001b[39m\u001b[38;5;124m\"\u001b[39m\u001b[38;5;124m(Error \u001b[39m\u001b[38;5;132;01m{\u001b[39;00me\u001b[38;5;241m.\u001b[39mresponse\u001b[38;5;241m.\u001b[39mstatus_code\u001b[38;5;132;01m}\u001b[39;00m\u001b[38;5;124m: \u001b[39m\u001b[38;5;132;01m{\u001b[39;00me\u001b[38;5;241m.\u001b[39mresponse\u001b[38;5;241m.\u001b[39mreason\u001b[38;5;132;01m}\u001b[39;00m\u001b[38;5;124m)\u001b[39m\u001b[38;5;124m\"\u001b[39m\n\u001b[0;32m    912\u001b[0m     )\n",
      "\u001b[1;31mCommError\u001b[0m: It appears that you do not have permission to access the requested resource. Please reach out to the project owner to grant you access. If you have the correct permissions, verify that there are no issues with your networking setup.(Error 404: Not Found)"
     ]
    }
   ],
   "source": [
    "artifact_name='15he0bmw'\n",
    "artifact = api.artifact(f'{entity}/{project_name}/{artifact_name}:v0', type='model')\n",
    "artifact_dir = artifact.download()\n"
   ]
  },
  {
   "cell_type": "code",
   "execution_count": null,
   "metadata": {},
   "outputs": [],
   "source": [
    "# Assuming the model weights are saved in a file named 'model-best.pt' in the artifact\n",
    "model_path = f'{artifact_dir}/model-best.pt'"
   ]
  },
  {
   "cell_type": "code",
   "execution_count": 22,
   "metadata": {},
   "outputs": [
    {
     "data": {
      "text/plain": [
       "Index(['name', 'id', 'valid/F1_weighted', 'train/sparsity_loss',\n",
       "       'trainer/global_step', 'bestmodel_valid/AUROC_weighted', 'epoch',\n",
       "       'bestmodel/step', 'valid/sparsity_loss', 'best_mask_parameters',\n",
       "       ...\n",
       "       'best_mask_param_3_transformed', 'best_mask_param_4_transformed',\n",
       "       'best_mask_param_5_transformed', 'best_mask_param_6_transformed',\n",
       "       'best_mask_param_7_transformed', 'best_mask_param_8_transformed',\n",
       "       'best_mask_param_9_transformed', 'best_mask_param_10_transformed',\n",
       "       'sparsity_loss', 'mask'],\n",
       "      dtype='object', length=187)"
      ]
     },
     "execution_count": 22,
     "metadata": {},
     "output_type": "execute_result"
    }
   ],
   "source": [
    "gumbel_df.columns"
   ]
  },
  {
   "cell_type": "code",
   "execution_count": 36,
   "metadata": {},
   "outputs": [
    {
     "data": {
      "text/html": [
       "<div>\n",
       "<style scoped>\n",
       "    .dataframe tbody tr th:only-of-type {\n",
       "        vertical-align: middle;\n",
       "    }\n",
       "\n",
       "    .dataframe tbody tr th {\n",
       "        vertical-align: top;\n",
       "    }\n",
       "\n",
       "    .dataframe thead th {\n",
       "        text-align: right;\n",
       "    }\n",
       "</style>\n",
       "<table border=\"1\" class=\"dataframe\">\n",
       "  <thead>\n",
       "    <tr style=\"text-align: right;\">\n",
       "      <th></th>\n",
       "      <th>bestmodel_test/balanced_accuracy</th>\n",
       "      <th>bestmodel_test/cross_entropy_loss</th>\n",
       "      <th>bestmodel_test/reconstruction_loss</th>\n",
       "      <th>bestmodel_test/sparsity_loss</th>\n",
       "    </tr>\n",
       "    <tr>\n",
       "      <th>dataset</th>\n",
       "      <th></th>\n",
       "      <th></th>\n",
       "      <th></th>\n",
       "      <th></th>\n",
       "    </tr>\n",
       "  </thead>\n",
       "  <tbody>\n",
       "    <tr>\n",
       "      <th>exponential_interaction_synth</th>\n",
       "      <td>0.620816</td>\n",
       "      <td>0.626443</td>\n",
       "      <td>0.477462</td>\n",
       "      <td>3.422421</td>\n",
       "    </tr>\n",
       "    <tr>\n",
       "      <th>simple_linear_synth</th>\n",
       "      <td>0.883000</td>\n",
       "      <td>0.253744</td>\n",
       "      <td>0.275443</td>\n",
       "      <td>2.071611</td>\n",
       "    </tr>\n",
       "    <tr>\n",
       "      <th>simple_trig_synth</th>\n",
       "      <td>0.864767</td>\n",
       "      <td>0.270512</td>\n",
       "      <td>0.302699</td>\n",
       "      <td>1.724638</td>\n",
       "    </tr>\n",
       "    <tr>\n",
       "      <th>summed_squares_exponential_synth</th>\n",
       "      <td>0.667478</td>\n",
       "      <td>0.583697</td>\n",
       "      <td>0.347106</td>\n",
       "      <td>3.985081</td>\n",
       "    </tr>\n",
       "    <tr>\n",
       "      <th>trigonometric_polynomial_synth</th>\n",
       "      <td>0.831040</td>\n",
       "      <td>0.114664</td>\n",
       "      <td>0.355580</td>\n",
       "      <td>3.288576</td>\n",
       "    </tr>\n",
       "  </tbody>\n",
       "</table>\n",
       "</div>"
      ],
      "text/plain": [
       "                                  bestmodel_test/balanced_accuracy  \\\n",
       "dataset                                                              \n",
       "exponential_interaction_synth                             0.620816   \n",
       "simple_linear_synth                                       0.883000   \n",
       "simple_trig_synth                                         0.864767   \n",
       "summed_squares_exponential_synth                          0.667478   \n",
       "trigonometric_polynomial_synth                            0.831040   \n",
       "\n",
       "                                  bestmodel_test/cross_entropy_loss  \\\n",
       "dataset                                                               \n",
       "exponential_interaction_synth                              0.626443   \n",
       "simple_linear_synth                                        0.253744   \n",
       "simple_trig_synth                                          0.270512   \n",
       "summed_squares_exponential_synth                           0.583697   \n",
       "trigonometric_polynomial_synth                             0.114664   \n",
       "\n",
       "                                  bestmodel_test/reconstruction_loss  \\\n",
       "dataset                                                                \n",
       "exponential_interaction_synth                               0.477462   \n",
       "simple_linear_synth                                         0.275443   \n",
       "simple_trig_synth                                           0.302699   \n",
       "summed_squares_exponential_synth                            0.347106   \n",
       "trigonometric_polynomial_synth                              0.355580   \n",
       "\n",
       "                                  bestmodel_test/sparsity_loss  \n",
       "dataset                                                         \n",
       "exponential_interaction_synth                         3.422421  \n",
       "simple_linear_synth                                   2.071611  \n",
       "simple_trig_synth                                     1.724638  \n",
       "summed_squares_exponential_synth                      3.985081  \n",
       "trigonometric_polynomial_synth                        3.288576  "
      ]
     },
     "execution_count": 36,
     "metadata": {},
     "output_type": "execute_result"
    }
   ],
   "source": [
    "# df_reset = \n",
    "# gumbel_df[~gumbel_df['dataset'].isin(['exponential_interaction_synth','summed_squares_exponential_synth','trigonometric_polynomial_synth'])]\n",
    "gumbel_df.groupby([\n",
    "    'dataset',\n",
    "    # 'mask'\n",
    "    ]).agg({\n",
    "    'bestmodel_test/balanced_accuracy': 'mean',\n",
    "    'bestmodel_test/cross_entropy_loss': 'mean',\n",
    "    'bestmodel_test/reconstruction_loss': 'mean',\n",
    "    'bestmodel_test/sparsity_loss': 'mean',\n",
    "    # 'sparsity_loss': 'mean',\n",
    "    # 'sparsity_regularizer_hyperparam': 'mean'\n",
    "})"
   ]
  },
  {
   "cell_type": "code",
   "execution_count": 118,
   "metadata": {},
   "outputs": [
    {
     "ename": "ValueError",
     "evalue": "cannot insert level_0, already exists",
     "output_type": "error",
     "traceback": [
      "\u001b[1;31m---------------------------------------------------------------------------\u001b[0m",
      "\u001b[1;31mValueError\u001b[0m                                Traceback (most recent call last)",
      "Cell \u001b[1;32mIn [118], line 1\u001b[0m\n\u001b[1;32m----> 1\u001b[0m df_reset \u001b[38;5;241m=\u001b[39m df_reset\u001b[38;5;241m.\u001b[39mreset_index()\n\u001b[0;32m      3\u001b[0m \u001b[38;5;66;03m# Melt the DataFrame\u001b[39;00m\n\u001b[0;32m      4\u001b[0m df_melted \u001b[38;5;241m=\u001b[39m df_reset\u001b[38;5;241m.\u001b[39mmelt(id_vars\u001b[38;5;241m=\u001b[39m[\u001b[38;5;124m'\u001b[39m\u001b[38;5;124mdataset\u001b[39m\u001b[38;5;124m'\u001b[39m, \u001b[38;5;124m'\u001b[39m\u001b[38;5;124mmask\u001b[39m\u001b[38;5;124m'\u001b[39m], \n\u001b[0;32m      5\u001b[0m                             value_vars\u001b[38;5;241m=\u001b[39m[\u001b[38;5;124m'\u001b[39m\u001b[38;5;124mvalid/cross_entropy_loss\u001b[39m\u001b[38;5;124m'\u001b[39m, \u001b[38;5;124m'\u001b[39m\u001b[38;5;124mvalid/reconstruction_loss\u001b[39m\u001b[38;5;124m'\u001b[39m, \u001b[38;5;124m'\u001b[39m\u001b[38;5;124msparsity_loss\u001b[39m\u001b[38;5;124m'\u001b[39m],\n\u001b[0;32m      6\u001b[0m                             var_name\u001b[38;5;241m=\u001b[39m\u001b[38;5;124m'\u001b[39m\u001b[38;5;124mloss_type\u001b[39m\u001b[38;5;124m'\u001b[39m, value_name\u001b[38;5;241m=\u001b[39m\u001b[38;5;124m'\u001b[39m\u001b[38;5;124mloss_value\u001b[39m\u001b[38;5;124m'\u001b[39m)\n",
      "File \u001b[1;32mc:\\Users\\evan_\\anaconda3\\envs\\fwal\\lib\\site-packages\\pandas\\core\\frame.py:6456\u001b[0m, in \u001b[0;36mDataFrame.reset_index\u001b[1;34m(self, level, drop, inplace, col_level, col_fill, allow_duplicates, names)\u001b[0m\n\u001b[0;32m   6450\u001b[0m         \u001b[38;5;28;01mif\u001b[39;00m lab \u001b[38;5;129;01mis\u001b[39;00m \u001b[38;5;129;01mnot\u001b[39;00m \u001b[38;5;28;01mNone\u001b[39;00m:\n\u001b[0;32m   6451\u001b[0m             \u001b[38;5;66;03m# if we have the codes, extract the values with a mask\u001b[39;00m\n\u001b[0;32m   6452\u001b[0m             level_values \u001b[38;5;241m=\u001b[39m algorithms\u001b[38;5;241m.\u001b[39mtake(\n\u001b[0;32m   6453\u001b[0m                 level_values, lab, allow_fill\u001b[38;5;241m=\u001b[39m\u001b[38;5;28;01mTrue\u001b[39;00m, fill_value\u001b[38;5;241m=\u001b[39mlev\u001b[38;5;241m.\u001b[39m_na_value\n\u001b[0;32m   6454\u001b[0m             )\n\u001b[1;32m-> 6456\u001b[0m         \u001b[43mnew_obj\u001b[49m\u001b[38;5;241;43m.\u001b[39;49m\u001b[43minsert\u001b[49m\u001b[43m(\u001b[49m\n\u001b[0;32m   6457\u001b[0m \u001b[43m            \u001b[49m\u001b[38;5;241;43m0\u001b[39;49m\u001b[43m,\u001b[49m\n\u001b[0;32m   6458\u001b[0m \u001b[43m            \u001b[49m\u001b[43mname\u001b[49m\u001b[43m,\u001b[49m\n\u001b[0;32m   6459\u001b[0m \u001b[43m            \u001b[49m\u001b[43mlevel_values\u001b[49m\u001b[43m,\u001b[49m\n\u001b[0;32m   6460\u001b[0m \u001b[43m            \u001b[49m\u001b[43mallow_duplicates\u001b[49m\u001b[38;5;241;43m=\u001b[39;49m\u001b[43mallow_duplicates\u001b[49m\u001b[43m,\u001b[49m\n\u001b[0;32m   6461\u001b[0m \u001b[43m        \u001b[49m\u001b[43m)\u001b[49m\n\u001b[0;32m   6463\u001b[0m new_obj\u001b[38;5;241m.\u001b[39mindex \u001b[38;5;241m=\u001b[39m new_index\n\u001b[0;32m   6464\u001b[0m \u001b[38;5;28;01mif\u001b[39;00m \u001b[38;5;129;01mnot\u001b[39;00m inplace:\n",
      "File \u001b[1;32mc:\\Users\\evan_\\anaconda3\\envs\\fwal\\lib\\site-packages\\pandas\\core\\frame.py:5145\u001b[0m, in \u001b[0;36mDataFrame.insert\u001b[1;34m(self, loc, column, value, allow_duplicates)\u001b[0m\n\u001b[0;32m   5139\u001b[0m     \u001b[38;5;28;01mraise\u001b[39;00m \u001b[38;5;167;01mValueError\u001b[39;00m(\n\u001b[0;32m   5140\u001b[0m         \u001b[38;5;124m\"\u001b[39m\u001b[38;5;124mCannot specify \u001b[39m\u001b[38;5;124m'\u001b[39m\u001b[38;5;124mallow_duplicates=True\u001b[39m\u001b[38;5;124m'\u001b[39m\u001b[38;5;124m when \u001b[39m\u001b[38;5;124m\"\u001b[39m\n\u001b[0;32m   5141\u001b[0m         \u001b[38;5;124m\"\u001b[39m\u001b[38;5;124m'\u001b[39m\u001b[38;5;124mself.flags.allows_duplicate_labels\u001b[39m\u001b[38;5;124m'\u001b[39m\u001b[38;5;124m is False.\u001b[39m\u001b[38;5;124m\"\u001b[39m\n\u001b[0;32m   5142\u001b[0m     )\n\u001b[0;32m   5143\u001b[0m \u001b[38;5;28;01mif\u001b[39;00m \u001b[38;5;129;01mnot\u001b[39;00m allow_duplicates \u001b[38;5;129;01mand\u001b[39;00m column \u001b[38;5;129;01min\u001b[39;00m \u001b[38;5;28mself\u001b[39m\u001b[38;5;241m.\u001b[39mcolumns:\n\u001b[0;32m   5144\u001b[0m     \u001b[38;5;66;03m# Should this be a different kind of error??\u001b[39;00m\n\u001b[1;32m-> 5145\u001b[0m     \u001b[38;5;28;01mraise\u001b[39;00m \u001b[38;5;167;01mValueError\u001b[39;00m(\u001b[38;5;124mf\u001b[39m\u001b[38;5;124m\"\u001b[39m\u001b[38;5;124mcannot insert \u001b[39m\u001b[38;5;132;01m{\u001b[39;00mcolumn\u001b[38;5;132;01m}\u001b[39;00m\u001b[38;5;124m, already exists\u001b[39m\u001b[38;5;124m\"\u001b[39m)\n\u001b[0;32m   5146\u001b[0m \u001b[38;5;28;01mif\u001b[39;00m \u001b[38;5;129;01mnot\u001b[39;00m is_integer(loc):\n\u001b[0;32m   5147\u001b[0m     \u001b[38;5;28;01mraise\u001b[39;00m \u001b[38;5;167;01mTypeError\u001b[39;00m(\u001b[38;5;124m\"\u001b[39m\u001b[38;5;124mloc must be int\u001b[39m\u001b[38;5;124m\"\u001b[39m)\n",
      "\u001b[1;31mValueError\u001b[0m: cannot insert level_0, already exists"
     ]
    }
   ],
   "source": [
    "df_reset = df_reset.reset_index()\n",
    "\n",
    "# Melt the DataFrame\n",
    "df_melted = df_reset.melt(id_vars=['dataset', 'mask'], \n",
    "                            value_vars=['valid/cross_entropy_loss', 'valid/reconstruction_loss', 'sparsity_loss'],\n",
    "                            var_name='loss_type', value_name='loss_value')\n",
    "\n",
    "# Plotting\n",
    "plt.figure(figsize=(10, 6))\n",
    "sns.barplot(data=df_melted, x='mask', y='loss_value', hue='loss_type', ci=None)\n",
    "plt.yscale('log')  # Use logarithmic scale due to large range of values\n",
    "plt.title(\"Losses by Mask and Dataset\")\n",
    "plt.xlabel(\"Mask\")\n",
    "plt.ylabel(\"Loss Value\")\n",
    "plt.legend(title='Loss Type')\n",
    "plt.show()"
   ]
  },
  {
   "cell_type": "code",
   "execution_count": null,
   "metadata": {},
   "outputs": [],
   "source": []
  },
  {
   "cell_type": "code",
   "execution_count": 71,
   "metadata": {},
   "outputs": [
    {
     "data": {
      "text/plain": [
       "0      0\n",
       "1      0\n",
       "2      0\n",
       "3      0\n",
       "4      1\n",
       "      ..\n",
       "130    0\n",
       "131    0\n",
       "132    0\n",
       "133    1\n",
       "134    1\n",
       "Name: best_mask_param_2_transformed, Length: 75, dtype: int32"
      ]
     },
     "execution_count": 71,
     "metadata": {},
     "output_type": "execute_result"
    }
   ],
   "source": [
    "gumbel_df['best_mask_param_2_transformed']"
   ]
  },
  {
   "cell_type": "code",
   "execution_count": 30,
   "metadata": {},
   "outputs": [
    {
     "data": {
      "text/plain": [
       "1937500032.0"
      ]
     },
     "execution_count": 30,
     "metadata": {},
     "output_type": "execute_result"
    }
   ],
   "source": [
    "runs_df['valid/sparsity_loss'][0]"
   ]
  },
  {
   "cell_type": "code",
   "execution_count": 34,
   "metadata": {},
   "outputs": [],
   "source": [
    "runs_df_copy = runs_df.copy()"
   ]
  },
  {
   "cell_type": "code",
   "execution_count": 35,
   "metadata": {},
   "outputs": [],
   "source": [
    "runs_df = runs_df[runs_df['sparsity_regularizer_hyperparam']<1000000000]"
   ]
  },
  {
   "cell_type": "code",
   "execution_count": 36,
   "metadata": {},
   "outputs": [
    {
     "data": {
      "text/plain": [
       "1000000    30\n",
       "1000       30\n",
       "1          30\n",
       "0          30\n",
       "Name: sparsity_regularizer_hyperparam, dtype: int64"
      ]
     },
     "execution_count": 36,
     "metadata": {},
     "output_type": "execute_result"
    }
   ],
   "source": [
    "runs_df['sparsity_regularizer_hyperparam'].value_counts()\n"
   ]
  },
  {
   "cell_type": "code",
   "execution_count": 37,
   "metadata": {},
   "outputs": [
    {
     "data": {
      "text/plain": [
       "Text(0, 0.5, 'Best Model Valid Cross Entropy Loss')"
      ]
     },
     "execution_count": 37,
     "metadata": {},
     "output_type": "execute_result"
    },
    {
     "data": {
      "image/png": "[encoded data removed]",
      "text/plain": [
       "<Figure size 640x480 with 1 Axes>"
      ]
     },
     "metadata": {},
     "output_type": "display_data"
    }
   ],
   "source": [
    "sns.lineplot(data=runs_df, x='sparsity_regularizer_hyperparam', y='valid/cross_entropy_loss', hue='dataset')\n",
    "\n",
    "plt.xscale('log')\n",
    "\n",
    "\n",
    "# Customize the plot\n",
    "plt.title(\"Cross Entropy Loss vs. Sparsity Regularizer Hyperparam by Dataset\")\n",
    "plt.xlabel(\"Sparsity Regularizer Hyperparam\")\n",
    "plt.ylabel(\"Best Model Valid Cross Entropy Loss\")"
   ]
  },
  {
   "cell_type": "code",
   "execution_count": 38,
   "metadata": {},
   "outputs": [
    {
     "data": {
      "text/plain": [
       "Text(0, 0.5, 'Best Model Valid Reconstruction Loss')"
      ]
     },
     "execution_count": 38,
     "metadata": {},
     "output_type": "execute_result"
    },
    {
     "data": {
      "image/png": "[encoded data removed]",
      "text/plain": [
       "<Figure size 640x480 with 1 Axes>"
      ]
     },
     "metadata": {},
     "output_type": "display_data"
    }
   ],
   "source": [
    "sns.lineplot(data=runs_df, x='sparsity_regularizer_hyperparam', y='valid/reconstruction_loss', hue='dataset')\n",
    "\n",
    "plt.xscale('log')\n",
    "\n",
    "\n",
    "# Customize the plot\n",
    "plt.title(\"reconstruction_loss vs. Sparsity Regularizer Hyperparam by Dataset\")\n",
    "plt.xlabel(\"Sparsity Regularizer Hyperparam\")\n",
    "plt.ylabel(\"Best Model Valid Reconstruction Loss\")"
   ]
  },
  {
   "cell_type": "code",
   "execution_count": 107,
   "metadata": {},
   "outputs": [
    {
     "data": {
      "text/plain": [
       "Text(0, 0.5, 'Best mask L1')"
      ]
     },
     "execution_count": 107,
     "metadata": {},
     "output_type": "execute_result"
    },
    {
     "data": {
      "image/png": "[encoded data removed]",
      "text/plain": [
       "<Figure size 640x480 with 1 Axes>"
      ]
     },
     "metadata": {},
     "output_type": "display_data"
    }
   ],
   "source": [
    "sns.lineplot(data=gumbel_df[~gumbel_df['dataset'].isin(['exponential_interaction_synth','summed_squares_exponential_synth','trigonometric_polynomial_synth'])], x='sparsity_regularizer_hyperparam', y='sparsity_loss', hue='dataset')\n",
    "\n",
    "plt.xscale('log')\n",
    "\n",
    "\n",
    "# Customize the plot\n",
    "plt.title(\"sparsity_loss vs. Sparsity Regularizer Hyperparam by Dataset\")\n",
    "plt.xlabel(\"Sparsity Regularizer Hyperparam\")\n",
    "plt.ylabel(\"Best mask L1\")"
   ]
  },
  {
   "cell_type": "code",
   "execution_count": 17,
   "metadata": {},
   "outputs": [
    {
     "data": {
      "text/plain": [
       "trigonometric_polynomial_synth      30\n",
       "summed_squares_exponential_synth    30\n",
       "exponential_interaction_synth       30\n",
       "simple_linear_synth                 30\n",
       "simple_trig_synth                   30\n",
       "Name: dataset, dtype: int64"
      ]
     },
     "execution_count": 17,
     "metadata": {},
     "output_type": "execute_result"
    }
   ],
   "source": [
    "runs_df['dataset'].value_counts()"
   ]
  },
  {
   "cell_type": "code",
   "execution_count": null,
   "metadata": {},
   "outputs": [],
   "source": [
    "runs_df['bestmodel_valid/cross_entropy_loss']"
   ]
  },
  {
   "cell_type": "code",
   "execution_count": 19,
   "metadata": {},
   "outputs": [
    {
     "data": {
      "text/plain": [
       "0    [-0.8734390139579773, -1.003793478012085, -0.9...\n",
       "1    [-0.906295895576477, -1.0336754322052002, -1.0...\n",
       "2    [-0.9349806308746338, -1.059366226196289, -1.0...\n",
       "3    [-0.6455142498016357, -0.732622504234314, -0.7...\n",
       "4    [0.98233300447464, 0.8575429916381836, 0.94713...\n",
       "Name: best_mask_parameters, dtype: object"
      ]
     },
     "execution_count": 19,
     "metadata": {},
     "output_type": "execute_result"
    }
   ],
   "source": [
    "runs_df['best_mask_parameters'].head()"
   ]
  },
  {
   "cell_type": "code",
   "execution_count": 7,
   "metadata": {},
   "outputs": [
    {
     "data": {
      "text/html": [
       "<div>\n",
       "<style scoped>\n",
       "    .dataframe tbody tr th:only-of-type {\n",
       "        vertical-align: middle;\n",
       "    }\n",
       "\n",
       "    .dataframe tbody tr th {\n",
       "        vertical-align: top;\n",
       "    }\n",
       "\n",
       "    .dataframe thead th {\n",
       "        text-align: right;\n",
       "    }\n",
       "</style>\n",
       "<table border=\"1\" class=\"dataframe\">\n",
       "  <thead>\n",
       "    <tr style=\"text-align: right;\">\n",
       "      <th></th>\n",
       "      <th>id</th>\n",
       "      <th>mask_type</th>\n",
       "      <th>sparsity_regularizer_hyperparam</th>\n",
       "      <th>best_mask_parameters</th>\n",
       "    </tr>\n",
       "  </thead>\n",
       "  <tbody>\n",
       "    <tr>\n",
       "      <th>0</th>\n",
       "      <td>ikhki7dh</td>\n",
       "      <td>probabilistic</td>\n",
       "      <td>1000.0</td>\n",
       "      <td>[0.3366183936595917, 0.1287771463394165, 0.234...</td>\n",
       "    </tr>\n",
       "    <tr>\n",
       "      <th>1</th>\n",
       "      <td>aqe3jozq</td>\n",
       "      <td>probabilistic</td>\n",
       "      <td>1000.0</td>\n",
       "      <td>[0.3365437388420105, 0.12873981893062592, 0.23...</td>\n",
       "    </tr>\n",
       "    <tr>\n",
       "      <th>2</th>\n",
       "      <td>wiy9fpyv</td>\n",
       "      <td>probabilistic</td>\n",
       "      <td>1000.0</td>\n",
       "      <td>[0.3365899324417114, 0.12876291573047638, 0.23...</td>\n",
       "    </tr>\n",
       "    <tr>\n",
       "      <th>3</th>\n",
       "      <td>ek3m1i82</td>\n",
       "      <td>probabilistic</td>\n",
       "      <td>1000.0</td>\n",
       "      <td>[0.3365899324417114, 0.12876291573047638, 0.23...</td>\n",
       "    </tr>\n",
       "    <tr>\n",
       "      <th>4</th>\n",
       "      <td>begatpu9</td>\n",
       "      <td>probabilistic</td>\n",
       "      <td>1000.0</td>\n",
       "      <td>[0.33658725023269653, 0.12876157462596893, 0.2...</td>\n",
       "    </tr>\n",
       "    <tr>\n",
       "      <th>...</th>\n",
       "      <td>...</td>\n",
       "      <td>...</td>\n",
       "      <td>...</td>\n",
       "      <td>...</td>\n",
       "    </tr>\n",
       "    <tr>\n",
       "      <th>195</th>\n",
       "      <td>zz8x59c5</td>\n",
       "      <td>sigmoid</td>\n",
       "      <td>0.0</td>\n",
       "      <td>[0.3403615653514862, 0.24742859601974487, 0.38...</td>\n",
       "    </tr>\n",
       "    <tr>\n",
       "      <th>196</th>\n",
       "      <td>kv4burnd</td>\n",
       "      <td>sigmoid</td>\n",
       "      <td>0.0</td>\n",
       "      <td>[0.3523191809654236, 0.2648531198501587, 0.382...</td>\n",
       "    </tr>\n",
       "    <tr>\n",
       "      <th>197</th>\n",
       "      <td>99wqap9g</td>\n",
       "      <td>sigmoid</td>\n",
       "      <td>0.0</td>\n",
       "      <td>[0.37576863169670105, 0.2500225603580475, 0.36...</td>\n",
       "    </tr>\n",
       "    <tr>\n",
       "      <th>198</th>\n",
       "      <td>k5g0jq4i</td>\n",
       "      <td>sigmoid</td>\n",
       "      <td>0.0</td>\n",
       "      <td>[0.3704529404640198, 0.2280469834804535, 0.353...</td>\n",
       "    </tr>\n",
       "    <tr>\n",
       "      <th>199</th>\n",
       "      <td>yqr9419h</td>\n",
       "      <td>sigmoid</td>\n",
       "      <td>0.0</td>\n",
       "      <td>[0.3481854200363159, 0.2517077624797821, 0.359...</td>\n",
       "    </tr>\n",
       "  </tbody>\n",
       "</table>\n",
       "<p>200 rows × 4 columns</p>\n",
       "</div>"
      ],
      "text/plain": [
       "           id      mask_type  sparsity_regularizer_hyperparam  \\\n",
       "0    ikhki7dh  probabilistic                           1000.0   \n",
       "1    aqe3jozq  probabilistic                           1000.0   \n",
       "2    wiy9fpyv  probabilistic                           1000.0   \n",
       "3    ek3m1i82  probabilistic                           1000.0   \n",
       "4    begatpu9  probabilistic                           1000.0   \n",
       "..        ...            ...                              ...   \n",
       "195  zz8x59c5        sigmoid                              0.0   \n",
       "196  kv4burnd        sigmoid                              0.0   \n",
       "197  99wqap9g        sigmoid                              0.0   \n",
       "198  k5g0jq4i        sigmoid                              0.0   \n",
       "199  yqr9419h        sigmoid                              0.0   \n",
       "\n",
       "                                  best_mask_parameters  \n",
       "0    [0.3366183936595917, 0.1287771463394165, 0.234...  \n",
       "1    [0.3365437388420105, 0.12873981893062592, 0.23...  \n",
       "2    [0.3365899324417114, 0.12876291573047638, 0.23...  \n",
       "3    [0.3365899324417114, 0.12876291573047638, 0.23...  \n",
       "4    [0.33658725023269653, 0.12876157462596893, 0.2...  \n",
       "..                                                 ...  \n",
       "195  [0.3403615653514862, 0.24742859601974487, 0.38...  \n",
       "196  [0.3523191809654236, 0.2648531198501587, 0.382...  \n",
       "197  [0.37576863169670105, 0.2500225603580475, 0.36...  \n",
       "198  [0.3704529404640198, 0.2280469834804535, 0.353...  \n",
       "199  [0.3481854200363159, 0.2517077624797821, 0.359...  \n",
       "\n",
       "[200 rows x 4 columns]"
      ]
     },
     "execution_count": 7,
     "metadata": {},
     "output_type": "execute_result"
    }
   ],
   "source": [
    "pd.set_option('display.max_columns', None)\n",
    "runs_df[\n",
    "    ['id',\n",
    "    #  'lr','gamma',\n",
    "     'mask_type',\n",
    "     'sparsity_regularizer_hyperparam',\n",
    "    #  'bestmodel_valid/balanced_accuracy','bestmodel_valid/reconstruction_loss','bestmodel_valid/sparsity_loss',\n",
    "     'best_mask_parameters']\n",
    "    ]"
   ]
  },
  {
   "cell_type": "code",
   "execution_count": 16,
   "metadata": {},
   "outputs": [],
   "source": [
    "# Splitting the array in 'best_mask_parameters' into individual columns\n",
    "parameters_df = pd.DataFrame(runs_df['best_mask_parameters'].to_list(), columns=[f'parameter_{i}' for i in range(1, 6)])\n",
    "parameters_df = pd.concat([runs_df, parameters_df], axis=1)\n",
    "\n"
   ]
  },
  {
   "cell_type": "code",
   "execution_count": 23,
   "metadata": {},
   "outputs": [
    {
     "data": {
      "text/html": [
       "<div>\n",
       "<style scoped>\n",
       "    .dataframe tbody tr th:only-of-type {\n",
       "        vertical-align: middle;\n",
       "    }\n",
       "\n",
       "    .dataframe tbody tr th {\n",
       "        vertical-align: top;\n",
       "    }\n",
       "\n",
       "    .dataframe thead th {\n",
       "        text-align: right;\n",
       "    }\n",
       "</style>\n",
       "<table border=\"1\" class=\"dataframe\">\n",
       "  <thead>\n",
       "    <tr style=\"text-align: right;\">\n",
       "      <th></th>\n",
       "      <th></th>\n",
       "      <th>parameter_1</th>\n",
       "      <th>parameter_2</th>\n",
       "      <th>parameter_3</th>\n",
       "      <th>parameter_4</th>\n",
       "      <th>parameter_5</th>\n",
       "      <th>bestmodel_valid/balanced_accuracy</th>\n",
       "      <th>bestmodel_valid/reconstruction_loss</th>\n",
       "      <th>bestmodel_valid/sparsity_loss</th>\n",
       "    </tr>\n",
       "    <tr>\n",
       "      <th>mask_type</th>\n",
       "      <th>dataset</th>\n",
       "      <th></th>\n",
       "      <th></th>\n",
       "      <th></th>\n",
       "      <th></th>\n",
       "      <th></th>\n",
       "      <th></th>\n",
       "      <th></th>\n",
       "      <th></th>\n",
       "    </tr>\n",
       "  </thead>\n",
       "  <tbody>\n",
       "    <tr>\n",
       "      <th rowspan=\"2\" valign=\"top\">probabilistic</th>\n",
       "      <th>simple_synth</th>\n",
       "      <td>0.336579</td>\n",
       "      <td>0.128757</td>\n",
       "      <td>0.234387</td>\n",
       "      <td>0.230258</td>\n",
       "      <td>-1.122440</td>\n",
       "      <td>0.914035</td>\n",
       "      <td>0.183964</td>\n",
       "      <td>2.518277</td>\n",
       "    </tr>\n",
       "    <tr>\n",
       "      <th>very_simple_synth</th>\n",
       "      <td>0.336576</td>\n",
       "      <td>0.128756</td>\n",
       "      <td>0.234386</td>\n",
       "      <td>0.230256</td>\n",
       "      <td>-1.122429</td>\n",
       "      <td>0.930208</td>\n",
       "      <td>0.172642</td>\n",
       "      <td>2.496519</td>\n",
       "    </tr>\n",
       "    <tr>\n",
       "      <th rowspan=\"2\" valign=\"top\">sigmoid</th>\n",
       "      <th>simple_synth</th>\n",
       "      <td>-1.943436</td>\n",
       "      <td>-1.864626</td>\n",
       "      <td>-2.083116</td>\n",
       "      <td>-2.043080</td>\n",
       "      <td>-3.346113</td>\n",
       "      <td>0.980435</td>\n",
       "      <td>0.009447</td>\n",
       "      <td>0.943999</td>\n",
       "    </tr>\n",
       "    <tr>\n",
       "      <th>very_simple_synth</th>\n",
       "      <td>-2.313782</td>\n",
       "      <td>-2.586958</td>\n",
       "      <td>-2.585783</td>\n",
       "      <td>-2.505562</td>\n",
       "      <td>-3.927479</td>\n",
       "      <td>0.995750</td>\n",
       "      <td>0.001652</td>\n",
       "      <td>0.413094</td>\n",
       "    </tr>\n",
       "  </tbody>\n",
       "</table>\n",
       "</div>"
      ],
      "text/plain": [
       "                                 parameter_1  parameter_2  parameter_3  \\\n",
       "mask_type     dataset                                                    \n",
       "probabilistic simple_synth          0.336579     0.128757     0.234387   \n",
       "              very_simple_synth     0.336576     0.128756     0.234386   \n",
       "sigmoid       simple_synth         -1.943436    -1.864626    -2.083116   \n",
       "              very_simple_synth    -2.313782    -2.586958    -2.585783   \n",
       "\n",
       "                                 parameter_4  parameter_5  \\\n",
       "mask_type     dataset                                       \n",
       "probabilistic simple_synth          0.230258    -1.122440   \n",
       "              very_simple_synth     0.230256    -1.122429   \n",
       "sigmoid       simple_synth         -2.043080    -3.346113   \n",
       "              very_simple_synth    -2.505562    -3.927479   \n",
       "\n",
       "                                 bestmodel_valid/balanced_accuracy  \\\n",
       "mask_type     dataset                                                \n",
       "probabilistic simple_synth                                0.914035   \n",
       "              very_simple_synth                           0.930208   \n",
       "sigmoid       simple_synth                                0.980435   \n",
       "              very_simple_synth                           0.995750   \n",
       "\n",
       "                                 bestmodel_valid/reconstruction_loss  \\\n",
       "mask_type     dataset                                                  \n",
       "probabilistic simple_synth                                  0.183964   \n",
       "              very_simple_synth                             0.172642   \n",
       "sigmoid       simple_synth                                  0.009447   \n",
       "              very_simple_synth                             0.001652   \n",
       "\n",
       "                                 bestmodel_valid/sparsity_loss  \n",
       "mask_type     dataset                                           \n",
       "probabilistic simple_synth                            2.518277  \n",
       "              very_simple_synth                       2.496519  \n",
       "sigmoid       simple_synth                            0.943999  \n",
       "              very_simple_synth                       0.413094  "
      ]
     },
     "execution_count": 23,
     "metadata": {},
     "output_type": "execute_result"
    }
   ],
   "source": [
    "df = parameters_df\n",
    "columns = [f'parameter_{i}' for i in range(1, 6)]\n",
    "columns.extend(['mask_type','dataset',\n",
    "                # 'repeat_id','test_split',\n",
    "                'bestmodel_valid/balanced_accuracy','bestmodel_valid/reconstruction_loss','bestmodel_valid/sparsity_loss'])\n",
    "df = df[df['sparsity_regularizer_hyperparam']==1]\n",
    "df[columns].groupby(['mask_type','dataset']).agg('mean')"
   ]
  },
  {
   "cell_type": "code",
   "execution_count": 26,
   "metadata": {},
   "outputs": [
    {
     "name": "stderr",
     "output_type": "stream",
     "text": [
      "/tmp/ipykernel_4138728/3650782278.py:3: SettingWithCopyWarning: \n",
      "A value is trying to be set on a copy of a slice from a DataFrame.\n",
      "Try using .loc[row_indexer,col_indexer] = value instead\n",
      "\n",
      "See the caveats in the documentation: https://pandas.pydata.org/pandas-docs/stable/user_guide/indexing.html#returning-a-view-versus-a-copy\n",
      "  sigmoid_df[[\"parameter_1\", \"parameter_2\", \"parameter_3\", \"parameter_4\", \"parameter_5\"]] = sigmoid_df[[\"parameter_1\", \"parameter_2\", \"parameter_3\", \"parameter_4\", \"parameter_5\"]].apply(sigmoid)\n",
      "/tmp/ipykernel_4138728/3650782278.py:3: SettingWithCopyWarning: \n",
      "A value is trying to be set on a copy of a slice from a DataFrame.\n",
      "Try using .loc[row_indexer,col_indexer] = value instead\n",
      "\n",
      "See the caveats in the documentation: https://pandas.pydata.org/pandas-docs/stable/user_guide/indexing.html#returning-a-view-versus-a-copy\n",
      "  sigmoid_df[[\"parameter_1\", \"parameter_2\", \"parameter_3\", \"parameter_4\", \"parameter_5\"]] = sigmoid_df[[\"parameter_1\", \"parameter_2\", \"parameter_3\", \"parameter_4\", \"parameter_5\"]].apply(sigmoid)\n",
      "/tmp/ipykernel_4138728/3650782278.py:3: SettingWithCopyWarning: \n",
      "A value is trying to be set on a copy of a slice from a DataFrame.\n",
      "Try using .loc[row_indexer,col_indexer] = value instead\n",
      "\n",
      "See the caveats in the documentation: https://pandas.pydata.org/pandas-docs/stable/user_guide/indexing.html#returning-a-view-versus-a-copy\n",
      "  sigmoid_df[[\"parameter_1\", \"parameter_2\", \"parameter_3\", \"parameter_4\", \"parameter_5\"]] = sigmoid_df[[\"parameter_1\", \"parameter_2\", \"parameter_3\", \"parameter_4\", \"parameter_5\"]].apply(sigmoid)\n",
      "/tmp/ipykernel_4138728/3650782278.py:3: SettingWithCopyWarning: \n",
      "A value is trying to be set on a copy of a slice from a DataFrame.\n",
      "Try using .loc[row_indexer,col_indexer] = value instead\n",
      "\n",
      "See the caveats in the documentation: https://pandas.pydata.org/pandas-docs/stable/user_guide/indexing.html#returning-a-view-versus-a-copy\n",
      "  sigmoid_df[[\"parameter_1\", \"parameter_2\", \"parameter_3\", \"parameter_4\", \"parameter_5\"]] = sigmoid_df[[\"parameter_1\", \"parameter_2\", \"parameter_3\", \"parameter_4\", \"parameter_5\"]].apply(sigmoid)\n",
      "/tmp/ipykernel_4138728/3650782278.py:3: SettingWithCopyWarning: \n",
      "A value is trying to be set on a copy of a slice from a DataFrame.\n",
      "Try using .loc[row_indexer,col_indexer] = value instead\n",
      "\n",
      "See the caveats in the documentation: https://pandas.pydata.org/pandas-docs/stable/user_guide/indexing.html#returning-a-view-versus-a-copy\n",
      "  sigmoid_df[[\"parameter_1\", \"parameter_2\", \"parameter_3\", \"parameter_4\", \"parameter_5\"]] = sigmoid_df[[\"parameter_1\", \"parameter_2\", \"parameter_3\", \"parameter_4\", \"parameter_5\"]].apply(sigmoid)\n"
     ]
    },
    {
     "data": {
      "text/html": [
       "<div>\n",
       "<style scoped>\n",
       "    .dataframe tbody tr th:only-of-type {\n",
       "        vertical-align: middle;\n",
       "    }\n",
       "\n",
       "    .dataframe tbody tr th {\n",
       "        vertical-align: top;\n",
       "    }\n",
       "\n",
       "    .dataframe thead th {\n",
       "        text-align: right;\n",
       "    }\n",
       "</style>\n",
       "<table border=\"1\" class=\"dataframe\">\n",
       "  <thead>\n",
       "    <tr style=\"text-align: right;\">\n",
       "      <th></th>\n",
       "      <th></th>\n",
       "      <th>parameter_1</th>\n",
       "      <th>parameter_2</th>\n",
       "      <th>parameter_3</th>\n",
       "      <th>parameter_4</th>\n",
       "      <th>parameter_5</th>\n",
       "      <th>bestmodel_valid/balanced_accuracy</th>\n",
       "      <th>bestmodel_valid/reconstruction_loss</th>\n",
       "      <th>bestmodel_valid/sparsity_loss</th>\n",
       "    </tr>\n",
       "    <tr>\n",
       "      <th>mask_type</th>\n",
       "      <th>dataset</th>\n",
       "      <th></th>\n",
       "      <th></th>\n",
       "      <th></th>\n",
       "      <th></th>\n",
       "      <th></th>\n",
       "      <th></th>\n",
       "      <th></th>\n",
       "      <th></th>\n",
       "    </tr>\n",
       "  </thead>\n",
       "  <tbody>\n",
       "    <tr>\n",
       "      <th rowspan=\"2\" valign=\"top\">probabilistic</th>\n",
       "      <th>simple_synth</th>\n",
       "      <td>0.583359</td>\n",
       "      <td>0.532145</td>\n",
       "      <td>0.558330</td>\n",
       "      <td>0.557311</td>\n",
       "      <td>0.245559</td>\n",
       "      <td>0.914035</td>\n",
       "      <td>0.183964</td>\n",
       "      <td>2.518277</td>\n",
       "    </tr>\n",
       "    <tr>\n",
       "      <th>very_simple_synth</th>\n",
       "      <td>0.583359</td>\n",
       "      <td>0.532145</td>\n",
       "      <td>0.558330</td>\n",
       "      <td>0.557311</td>\n",
       "      <td>0.245561</td>\n",
       "      <td>0.930208</td>\n",
       "      <td>0.172642</td>\n",
       "      <td>2.496519</td>\n",
       "    </tr>\n",
       "    <tr>\n",
       "      <th rowspan=\"2\" valign=\"top\">sigmoid</th>\n",
       "      <th>simple_synth</th>\n",
       "      <td>0.126166</td>\n",
       "      <td>0.134857</td>\n",
       "      <td>0.111661</td>\n",
       "      <td>0.115670</td>\n",
       "      <td>0.034357</td>\n",
       "      <td>0.980435</td>\n",
       "      <td>0.009447</td>\n",
       "      <td>0.943999</td>\n",
       "    </tr>\n",
       "    <tr>\n",
       "      <th>very_simple_synth</th>\n",
       "      <td>0.090106</td>\n",
       "      <td>0.070077</td>\n",
       "      <td>0.070227</td>\n",
       "      <td>0.075567</td>\n",
       "      <td>0.019369</td>\n",
       "      <td>0.995750</td>\n",
       "      <td>0.001652</td>\n",
       "      <td>0.413094</td>\n",
       "    </tr>\n",
       "  </tbody>\n",
       "</table>\n",
       "</div>"
      ],
      "text/plain": [
       "                                 parameter_1  parameter_2  parameter_3  \\\n",
       "mask_type     dataset                                                    \n",
       "probabilistic simple_synth          0.583359     0.532145     0.558330   \n",
       "              very_simple_synth     0.583359     0.532145     0.558330   \n",
       "sigmoid       simple_synth          0.126166     0.134857     0.111661   \n",
       "              very_simple_synth     0.090106     0.070077     0.070227   \n",
       "\n",
       "                                 parameter_4  parameter_5  \\\n",
       "mask_type     dataset                                       \n",
       "probabilistic simple_synth          0.557311     0.245559   \n",
       "              very_simple_synth     0.557311     0.245561   \n",
       "sigmoid       simple_synth          0.115670     0.034357   \n",
       "              very_simple_synth     0.075567     0.019369   \n",
       "\n",
       "                                 bestmodel_valid/balanced_accuracy  \\\n",
       "mask_type     dataset                                                \n",
       "probabilistic simple_synth                                0.914035   \n",
       "              very_simple_synth                           0.930208   \n",
       "sigmoid       simple_synth                                0.980435   \n",
       "              very_simple_synth                           0.995750   \n",
       "\n",
       "                                 bestmodel_valid/reconstruction_loss  \\\n",
       "mask_type     dataset                                                  \n",
       "probabilistic simple_synth                                  0.183964   \n",
       "              very_simple_synth                             0.172642   \n",
       "sigmoid       simple_synth                                  0.009447   \n",
       "              very_simple_synth                             0.001652   \n",
       "\n",
       "                                 bestmodel_valid/sparsity_loss  \n",
       "mask_type     dataset                                           \n",
       "probabilistic simple_synth                            2.518277  \n",
       "              very_simple_synth                       2.496519  \n",
       "sigmoid       simple_synth                            0.943999  \n",
       "              very_simple_synth                       0.413094  "
      ]
     },
     "execution_count": 26,
     "metadata": {},
     "output_type": "execute_result"
    }
   ],
   "source": [
    "sigmoid = lambda x: 1 / (1 + np.exp(-x))\n",
    "sigmoid_df = df\n",
    "sigmoid_df[[\"parameter_1\", \"parameter_2\", \"parameter_3\", \"parameter_4\", \"parameter_5\"]] = sigmoid_df[[\"parameter_1\", \"parameter_2\", \"parameter_3\", \"parameter_4\", \"parameter_5\"]].apply(sigmoid)\n",
    "sigmoid_df[columns].groupby(['mask_type','dataset']).agg('mean')"
   ]
  },
  {
   "cell_type": "code",
   "execution_count": null,
   "metadata": {},
   "outputs": [],
   "source": [
    "### Plot\n",
    "pd.options.display.float_format = '{:,.2f}'.format\n",
    "\n",
    "grouped = runs_df.groupby(['dataset', 'embedding_type'])\n",
    "g1 = grouped.agg({'bestmodel_train/balanced_accuracy': ['mean', 'std']})*100\n",
    "g2 = grouped.agg({'bestmodel_test/balanced_accuracy': ['mean', 'std']})*100\n",
    "res = pd.concat([g1, g2], axis=1).round(decimals=2)\n",
    "res"
   ]
  },
  {
   "cell_type": "code",
   "execution_count": null,
   "metadata": {},
   "outputs": [],
   "source": [
    "# file_name = 'test'\n",
    "# res.to_csv(f'/home/er647/projects/feature-wise-active-learning/compute_results/csv/{file_name}.csv')\n",
    "# res.to_excel(f'/home/er647/projects/feature-wise-active-learning/compute_results/csv/{file_name}.xlsx')"
   ]
  }
 ],
 "metadata": {
  "kernelspec": {
   "display_name": "fwal",
   "language": "python",
   "name": "python3"
  },
  "language_info": {
   "codemirror_mode": {
    "name": "ipython",
    "version": 3
   },
   "file_extension": ".py",
   "mimetype": "text/x-python",
   "name": "python",
   "nbconvert_exporter": "python",
   "pygments_lexer": "ipython3",
   "version": "3.10.12"
  },
  "orig_nbformat": 4
 },
 "nbformat": 4,
 "nbformat_minor": 2
}
