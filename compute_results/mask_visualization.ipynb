{
 "cells": [
  {
   "cell_type": "code",
   "execution_count": 1,
   "metadata": {},
   "outputs": [],
   "source": [
    "import seaborn as sns\n",
    "import numpy as np\n",
    "import pandas as pd\n",
    "import matplotlib.pyplot as plt\n",
    "import wandb\n",
    "import datetime"
   ]
  },
  {
   "cell_type": "code",
   "execution_count": 2,
   "metadata": {},
   "outputs": [],
   "source": [
    "entity = \"evangeorgerex\"\n",
    "project_name = \"fwal\"\n",
    "# sweep_id = \"xd36y8wm\"\n",
    "\n",
    "# # Fetch the sweep\n",
    "# api = wandb.Api()\n",
    "# sweep = api.sweep(f\"{entity}/{project_name}/{sweep_id}\")\n"
   ]
  },
  {
   "cell_type": "code",
   "execution_count": 24,
   "metadata": {},
   "outputs": [],
   "source": [
    "# runpath = \"evangeorgerex/fwal/c4rpo9nd\" # mnist run\n",
    "# runpath = \"evangeorgerex/fwal/8s5bm3rj\" # good mice protein run\n",
    "# runpath = \"evangeorgerex/fwal/diiym9cy\" # coil20\n",
    "# runpath = \"evangeorgerex/fwal/o56v87o7\" # isolet\n",
    "# runpath = \"evangeorgerex/fwal/h3y2auch\" # usps\n",
    "runpath = \"evangeorgerex/fwal/zza4vp2w\"\n",
    "api = wandb.Api()\n",
    "run = api.run(runpath)\n",
    "dataset = run.config[\"dataset\"]"
   ]
  },
  {
   "cell_type": "code",
   "execution_count": null,
   "metadata": {},
   "outputs": [],
   "source": []
  },
  {
   "cell_type": "code",
   "execution_count": 25,
   "metadata": {},
   "outputs": [],
   "source": [
    "hist = run.summary['best_mask_parameters']"
   ]
  },
  {
   "cell_type": "code",
   "execution_count": 26,
   "metadata": {},
   "outputs": [
    {
     "data": {
      "image/png": "[encoded data removed]",
      "text/plain": [
       "<Figure size 640x480 with 1 Axes>"
      ]
     },
     "metadata": {},
     "output_type": "display_data"
    }
   ],
   "source": [
    "\n",
    "# Histogram data\n",
    "values = hist['values']\n",
    "bins = hist['bins']\n",
    "\n",
    "# Calculate bin widths and bin centers\n",
    "bin_widths = [j - i for i, j in zip(bins[:-1], bins[1:])]\n",
    "bin_centers = [(i + j) / 2 for i, j in zip(bins[:-1], bins[1:])]\n",
    "\n",
    "# Plotting\n",
    "plt.bar(bin_centers, values, width=bin_widths, align='center', edgecolor='black')\n",
    "plt.xlabel('Bin')\n",
    "plt.ylabel('Count')\n",
    "plt.axvline(x=0, color='red', linestyle='--')\n",
    "\n",
    "plt.title(f'{dataset} Sparsity Weights histogram')\n",
    "plt.show()\n"
   ]
  },
  {
   "cell_type": "code",
   "execution_count": 24,
   "metadata": {},
   "outputs": [
    {
     "name": "stdout",
     "output_type": "stream",
     "text": [
      "Run x5mlx25b failed\n",
      "Run 6y520ck9 failed\n",
      "Run fa1xfouk failed\n",
      "Run 1691mmmr failed\n",
      "             dataset normalize_reconstruction  balanced_accuracy\n",
      "0              MNIST  num_non_masked_features           0.980751\n",
      "2  simple_trig_synth             num_features           0.979334\n"
     ]
    }
   ],
   "source": [
    "# Initialize a list to store data\n",
    "data = []\n",
    "\n",
    "# Iterate over each run and fetch the required data\n",
    "for run in sweep.runs:\n",
    "    config = run.config\n",
    "    summary_metrics = run.summary\n",
    "    # You might need to adjust the key names based on your actual data\n",
    "    try:\n",
    "        data.append({\n",
    "            'dataset': config['dataset'],  \n",
    "            'seed_model_init': config['seed_model_init'], \n",
    "            # Add other hyperparameters here as needed\n",
    "            'normalize_reconstruction': config['normalize_reconstruction'],  \n",
    "            'balanced_accuracy': summary_metrics['bestmodel_valid/balanced_accuracy'],  # Adjust based on your summary metrics\n",
    "            # Include other config elements as necessary\n",
    "        })\n",
    "    except:\n",
    "        print(f\"Run {run.id} failed\")\n",
    "\n",
    "# Convert the list to a DataFrame\n",
    "df = pd.DataFrame(data)\n",
    "\n",
    "df = df[df['dataset'] != 'poly_binarised_decimalised_mod10_synth'] # excliude this dataset\n",
    "\n",
    "# Group by dataset and other relevant hyperparameters (excluding seed), and calculate the mean of balanced_accuracy across seeds\n",
    "grouped_df = df.groupby(['dataset', \n",
    "                         'normalize_reconstruction'  # Add other hyperparameters here, except 'seed'\n",
    "                        ]).agg({'balanced_accuracy': 'mean'}).reset_index()\n",
    "\n",
    "# Now, find the entry with the maximum 'balanced_accuracy' for each 'dataset'\n",
    "result_df = grouped_df.loc[grouped_df.groupby('dataset')['balanced_accuracy'].idxmax()]\n",
    "\n",
    "# Display the resulting DataFrame\n",
    "print(result_df)\n"
   ]
  },
  {
   "cell_type": "code",
   "execution_count": 21,
   "metadata": {},
   "outputs": [
    {
     "name": "stdout",
     "output_type": "stream",
     "text": [
      "             dataset normalize_reconstruction  balanced_accuracy\n",
      "0              MNIST  num_non_masked_features           0.980751\n",
      "1  simple_trig_synth                     None           0.975825\n",
      "2  simple_trig_synth             num_features           0.979334\n",
      "3  simple_trig_synth  num_non_masked_features           0.978480\n"
     ]
    }
   ],
   "source": [
    "print(grouped_df)"
   ]
  },
  {
   "cell_type": "code",
   "execution_count": null,
   "metadata": {},
   "outputs": [],
   "source": []
  }
 ],
 "metadata": {
  "kernelspec": {
   "display_name": "fwal",
   "language": "python",
   "name": "python3"
  },
  "language_info": {
   "codemirror_mode": {
    "name": "ipython",
    "version": 3
   },
   "file_extension": ".py",
   "mimetype": "text/x-python",
   "name": "python",
   "nbconvert_exporter": "python",
   "pygments_lexer": "ipython3",
   "version": "3.10.12"
  }
 },
 "nbformat": 4,
 "nbformat_minor": 2
}
