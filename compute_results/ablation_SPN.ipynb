{
 "cells": [
  {
   "cell_type": "markdown",
   "metadata": {},
   "source": [
    "Compare the effect of adding a sparsity network to a DietDNN with tuned LR, cosine annealing, and minmax scaling NMF."
   ]
  },
  {
   "cell_type": "code",
   "execution_count": 1,
   "metadata": {},
   "outputs": [],
   "source": [
    "%load_ext autoreload\n",
    "%autoreload 2\n",
    "%matplotlib inline"
   ]
  },
  {
   "cell_type": "code",
   "execution_count": 2,
   "metadata": {},
   "outputs": [],
   "source": [
    "import sys\n",
    "sys.path.insert(0, '/home/er647/projects/feature-wise-active-learning')\n",
    "sys.path.insert(0, '/home/er647/projects/feature-wise-active-learning/src')\n",
    "sys.path.insert(0, '/home/er647/projects/feature-wise-active-learning/notebooks')"
   ]
  },
  {
   "cell_type": "code",
   "execution_count": 3,
   "metadata": {},
   "outputs": [],
   "source": [
    "import numpy as np\n",
    "import pandas as pd\n",
    "import matplotlib.pyplot as plt\n",
    "import wandb\n",
    "import datetime\n",
    "from utils import *"
   ]
  },
  {
   "cell_type": "code",
   "execution_count": 4,
   "metadata": {},
   "outputs": [
    {
     "data": {
      "text/plain": [
       "'2022-08-15T18:10:02.621077+00:00'"
      ]
     },
     "execution_count": 4,
     "metadata": {},
     "output_type": "execute_result"
    }
   ],
   "source": [
    "datetime.datetime.now(datetime.timezone.utc).isoformat()"
   ]
  },
  {
   "cell_type": "code",
   "execution_count": 5,
   "metadata": {},
   "outputs": [],
   "source": [
    "api = wandb.Api(timeout=60)"
   ]
  },
  {
   "cell_type": "markdown",
   "metadata": {},
   "source": [
    "# DietDNN vs WPS"
   ]
  },
  {
   "cell_type": "code",
   "execution_count": 7,
   "metadata": {},
   "outputs": [
    {
     "name": "stdout",
     "output_type": "stream",
     "text": [
      "671\n",
      "Found 669 runs\n",
      "(669, 146)\n"
     ]
    }
   ],
   "source": [
    "#### Get runs by tag\n",
    "runs = api.runs('andreimargeloiu/low-data', {\n",
    "\t'$or': [\n",
    "\t\t{\n",
    "\t\t\t\"tags\": '45a6ac77'  # no sparsity network\n",
    "\t\t},\n",
    "\t\t{\n",
    "\t\t\t\"tags\": '3c8124bb', # with sparsity network\n",
    "\t\t \t'config.sparsity_regularizer_hyperparam': 0\n",
    "\t\t}\n",
    "\t],\n",
    "\t'State': 'finished',\n",
    "})\n",
    "print(len(runs))\n",
    "runs = filter_runs(runs, return_dataframe=False)\n",
    "print(f\"Found {len(runs)} runs\")\n",
    "runs_df = transforms_runs_into_dataframe(runs)\n",
    "print(runs_df.shape)"
   ]
  },
  {
   "cell_type": "code",
   "execution_count": 8,
   "metadata": {},
   "outputs": [],
   "source": [
    "runs_df['sparsity_type'].fillna('-', inplace=True)"
   ]
  },
  {
   "cell_type": "code",
   "execution_count": 9,
   "metadata": {},
   "outputs": [
    {
     "data": {
      "text/html": [
       "<div>\n",
       "<style scoped>\n",
       "    .dataframe tbody tr th:only-of-type {\n",
       "        vertical-align: middle;\n",
       "    }\n",
       "\n",
       "    .dataframe tbody tr th {\n",
       "        vertical-align: top;\n",
       "    }\n",
       "\n",
       "    .dataframe thead th {\n",
       "        text-align: right;\n",
       "    }\n",
       "</style>\n",
       "<table border=\"1\" class=\"dataframe\">\n",
       "  <thead>\n",
       "    <tr style=\"text-align: right;\">\n",
       "      <th></th>\n",
       "      <th></th>\n",
       "      <th></th>\n",
       "      <th>(bestmodel_test/balanced_accuracy, mean)</th>\n",
       "      <th>(bestmodel_test/balanced_accuracy, std)</th>\n",
       "      <th>0</th>\n",
       "    </tr>\n",
       "    <tr>\n",
       "      <th>dataset</th>\n",
       "      <th>model</th>\n",
       "      <th>sparsity_type</th>\n",
       "      <th></th>\n",
       "      <th></th>\n",
       "      <th></th>\n",
       "    </tr>\n",
       "  </thead>\n",
       "  <tbody>\n",
       "    <tr>\n",
       "      <th rowspan=\"2\" valign=\"top\">cll</th>\n",
       "      <th rowspan=\"2\" valign=\"top\">dietdnn</th>\n",
       "      <th>-</th>\n",
       "      <td>75.65</td>\n",
       "      <td>9.17</td>\n",
       "      <td>25</td>\n",
       "    </tr>\n",
       "    <tr>\n",
       "      <th>global</th>\n",
       "      <td>76.05</td>\n",
       "      <td>7.26</td>\n",
       "      <td>25</td>\n",
       "    </tr>\n",
       "    <tr>\n",
       "      <th rowspan=\"2\" valign=\"top\">lung</th>\n",
       "      <th rowspan=\"2\" valign=\"top\">dietdnn</th>\n",
       "      <th>-</th>\n",
       "      <td>94.32</td>\n",
       "      <td>5.34</td>\n",
       "      <td>25</td>\n",
       "    </tr>\n",
       "    <tr>\n",
       "      <th>global</th>\n",
       "      <td>94.65</td>\n",
       "      <td>4.83</td>\n",
       "      <td>24</td>\n",
       "    </tr>\n",
       "    <tr>\n",
       "      <th rowspan=\"2\" valign=\"top\">metabric-dr__200</th>\n",
       "      <th rowspan=\"2\" valign=\"top\">dietdnn</th>\n",
       "      <th>-</th>\n",
       "      <td>57.28</td>\n",
       "      <td>6.62</td>\n",
       "      <td>25</td>\n",
       "    </tr>\n",
       "    <tr>\n",
       "      <th>global</th>\n",
       "      <td>59.05</td>\n",
       "      <td>8.62</td>\n",
       "      <td>25</td>\n",
       "    </tr>\n",
       "    <tr>\n",
       "      <th rowspan=\"2\" valign=\"top\">metabric-pam50__200</th>\n",
       "      <th rowspan=\"2\" valign=\"top\">dietdnn</th>\n",
       "      <th>-</th>\n",
       "      <td>93.67</td>\n",
       "      <td>6.43</td>\n",
       "      <td>25</td>\n",
       "    </tr>\n",
       "    <tr>\n",
       "      <th>global</th>\n",
       "      <td>95.50</td>\n",
       "      <td>4.80</td>\n",
       "      <td>24</td>\n",
       "    </tr>\n",
       "    <tr>\n",
       "      <th rowspan=\"2\" valign=\"top\">prostate</th>\n",
       "      <th rowspan=\"2\" valign=\"top\">dietdnn</th>\n",
       "      <th>-</th>\n",
       "      <td>86.96</td>\n",
       "      <td>6.73</td>\n",
       "      <td>25</td>\n",
       "    </tr>\n",
       "    <tr>\n",
       "      <th>global</th>\n",
       "      <td>89.00</td>\n",
       "      <td>7.62</td>\n",
       "      <td>25</td>\n",
       "    </tr>\n",
       "    <tr>\n",
       "      <th rowspan=\"2\" valign=\"top\">smk</th>\n",
       "      <th rowspan=\"2\" valign=\"top\">dietdnn</th>\n",
       "      <th>-</th>\n",
       "      <td>63.40</td>\n",
       "      <td>8.19</td>\n",
       "      <td>24</td>\n",
       "    </tr>\n",
       "    <tr>\n",
       "      <th>global</th>\n",
       "      <td>66.08</td>\n",
       "      <td>6.09</td>\n",
       "      <td>24</td>\n",
       "    </tr>\n",
       "    <tr>\n",
       "      <th rowspan=\"2\" valign=\"top\">tcga-2ysurvival__200</th>\n",
       "      <th rowspan=\"2\" valign=\"top\">dietdnn</th>\n",
       "      <th>-</th>\n",
       "      <td>56.34</td>\n",
       "      <td>9.54</td>\n",
       "      <td>24</td>\n",
       "    </tr>\n",
       "    <tr>\n",
       "      <th>global</th>\n",
       "      <td>56.52</td>\n",
       "      <td>6.24</td>\n",
       "      <td>25</td>\n",
       "    </tr>\n",
       "    <tr>\n",
       "      <th rowspan=\"2\" valign=\"top\">tcga-tumor-grade__200</th>\n",
       "      <th rowspan=\"2\" valign=\"top\">dietdnn</th>\n",
       "      <th>-</th>\n",
       "      <td>54.44</td>\n",
       "      <td>10.48</td>\n",
       "      <td>25</td>\n",
       "    </tr>\n",
       "    <tr>\n",
       "      <th>global</th>\n",
       "      <td>55.29</td>\n",
       "      <td>11.29</td>\n",
       "      <td>25</td>\n",
       "    </tr>\n",
       "    <tr>\n",
       "      <th rowspan=\"2\" valign=\"top\">toxicity</th>\n",
       "      <th rowspan=\"2\" valign=\"top\">dietdnn</th>\n",
       "      <th>-</th>\n",
       "      <td>83.99</td>\n",
       "      <td>7.01</td>\n",
       "      <td>25</td>\n",
       "    </tr>\n",
       "    <tr>\n",
       "      <th>global</th>\n",
       "      <td>88.01</td>\n",
       "      <td>6.31</td>\n",
       "      <td>25</td>\n",
       "    </tr>\n",
       "  </tbody>\n",
       "</table>\n",
       "</div>"
      ],
      "text/plain": [
       "                                             (bestmodel_test/balanced_accuracy, mean)  \\\n",
       "dataset               model   sparsity_type                                             \n",
       "cll                   dietdnn -                                                 75.65   \n",
       "                              global                                            76.05   \n",
       "lung                  dietdnn -                                                 94.32   \n",
       "                              global                                            94.65   \n",
       "metabric-dr__200      dietdnn -                                                 57.28   \n",
       "                              global                                            59.05   \n",
       "metabric-pam50__200   dietdnn -                                                 93.67   \n",
       "                              global                                            95.50   \n",
       "prostate              dietdnn -                                                 86.96   \n",
       "                              global                                            89.00   \n",
       "smk                   dietdnn -                                                 63.40   \n",
       "                              global                                            66.08   \n",
       "tcga-2ysurvival__200  dietdnn -                                                 56.34   \n",
       "                              global                                            56.52   \n",
       "tcga-tumor-grade__200 dietdnn -                                                 54.44   \n",
       "                              global                                            55.29   \n",
       "toxicity              dietdnn -                                                 83.99   \n",
       "                              global                                            88.01   \n",
       "\n",
       "                                             (bestmodel_test/balanced_accuracy, std)  \\\n",
       "dataset               model   sparsity_type                                            \n",
       "cll                   dietdnn -                                                 9.17   \n",
       "                              global                                            7.26   \n",
       "lung                  dietdnn -                                                 5.34   \n",
       "                              global                                            4.83   \n",
       "metabric-dr__200      dietdnn -                                                 6.62   \n",
       "                              global                                            8.62   \n",
       "metabric-pam50__200   dietdnn -                                                 6.43   \n",
       "                              global                                            4.80   \n",
       "prostate              dietdnn -                                                 6.73   \n",
       "                              global                                            7.62   \n",
       "smk                   dietdnn -                                                 8.19   \n",
       "                              global                                            6.09   \n",
       "tcga-2ysurvival__200  dietdnn -                                                 9.54   \n",
       "                              global                                            6.24   \n",
       "tcga-tumor-grade__200 dietdnn -                                                10.48   \n",
       "                              global                                           11.29   \n",
       "toxicity              dietdnn -                                                 7.01   \n",
       "                              global                                            6.31   \n",
       "\n",
       "                                              0  \n",
       "dataset               model   sparsity_type      \n",
       "cll                   dietdnn -              25  \n",
       "                              global         25  \n",
       "lung                  dietdnn -              25  \n",
       "                              global         24  \n",
       "metabric-dr__200      dietdnn -              25  \n",
       "                              global         25  \n",
       "metabric-pam50__200   dietdnn -              25  \n",
       "                              global         24  \n",
       "prostate              dietdnn -              25  \n",
       "                              global         25  \n",
       "smk                   dietdnn -              24  \n",
       "                              global         24  \n",
       "tcga-2ysurvival__200  dietdnn -              24  \n",
       "                              global         25  \n",
       "tcga-tumor-grade__200 dietdnn -              25  \n",
       "                              global         25  \n",
       "toxicity              dietdnn -              25  \n",
       "                              global         25  "
      ]
     },
     "execution_count": 9,
     "metadata": {},
     "output_type": "execute_result"
    }
   ],
   "source": [
    "### Plot\n",
    "pd.options.display.float_format = '{:,.2f}'.format\n",
    "\n",
    "grouped = runs_df[runs_df['model']=='dietdnn'].groupby(['dataset', 'model', 'sparsity_type'])\n",
    "# g1 = grouped.agg({'bestmodel_train/balanced_accuracy': ['mean', 'std']})*100\n",
    "# g1 = grouped.agg({'bestmodel_valid/balanced_accuracy': ['mean']})\n",
    "# g2 = grouped.agg({'bestmodel_test/cross_entropy_loss': ['mean']})\n",
    "g3 = grouped.agg({'bestmodel_test/balanced_accuracy': ['mean', 'std']})*100\n",
    "g4 = grouped.size()\n",
    "\n",
    "res = pd.concat([g3, g4], axis=1).round(decimals=2)\n",
    "res"
   ]
  },
  {
   "cell_type": "code",
   "execution_count": null,
   "metadata": {},
   "outputs": [],
   "source": [
    "file_name = 'influence_sparsity_network'\n",
    "res.to_csv(f'/home/er647/projects/feature-wise-active-learning/compute_results/csv/{file_name}.csv')\n",
    "res.to_excel(f'/home/er647/projects/feature-wise-active-learning/compute_results/csv/{file_name}.xlsx')"
   ]
  },
  {
   "cell_type": "code",
   "execution_count": 10,
   "metadata": {},
   "outputs": [
    {
     "name": "stdout",
     "output_type": "stream",
     "text": [
      "Without SPN: 74.00555555555555\n",
      "With SPN: 75.57222222222222\n"
     ]
    }
   ],
   "source": [
    "temp = res.reset_index()\n",
    "print(f\"Without SPN: {temp[temp['sparsity_type']=='-'][('bestmodel_test/balanced_accuracy', 'mean')].mean()}\")\n",
    "print(f\"With SPN: {temp[temp['sparsity_type']=='global'][('bestmodel_test/balanced_accuracy', 'mean')].mean()}\")"
   ]
  },
  {
   "cell_type": "code",
   "execution_count": 12,
   "metadata": {},
   "outputs": [
    {
     "data": {
      "image/png": "[encoded data removed]",
      "text/plain": [
       "<Figure size 432x216 with 1 Axes>"
      ]
     },
     "metadata": {
      "needs_background": "light"
     },
     "output_type": "display_data"
    }
   ],
   "source": [
    "import seaborn as sns\n",
    "import tikzplotlib\n",
    "\n",
    "plt.style.use('science')\n",
    "\n",
    "plt.figure(figsize=(6,3))\n",
    "aux = res.reset_index()\n",
    "aux.replace('metabric-dr__200', 'metabric-dr', inplace=True)\n",
    "aux.replace('metabric-pam50__200', 'metabric-pam50', inplace=True)\n",
    "aux.replace('tcga-tumor-grade__200', 'tcga-tumor-grade', inplace=True)\n",
    "aux.replace('tcga-2ysurvival__200', 'tcga-2ysurvival', inplace=True)\n",
    "\n",
    "\n",
    "datasets = aux[aux['sparsity_type']=='-'].dataset.astype('category')\n",
    "y_pos = np.arange(len(datasets))\n",
    "dietdnn_performance = aux[aux['sparsity_type']=='-'][('bestmodel_test/balanced_accuracy', 'mean')]\n",
    "wps_performance = aux[aux['sparsity_type']=='global'][('bestmodel_test/balanced_accuracy', 'mean')]\n",
    "\n",
    "\n",
    "plt.barh(y_pos, wps_performance.to_numpy() - dietdnn_performance.to_numpy(),\n",
    "\t\t align='center', alpha=1, color='#4682B4')\n",
    "# plt.barh(y_pos, dietdnn_performance, align='center', alpha=1, color='#d1d1d1', label='Without SPN')\n",
    "# plt.legend(loc='upper center', bbox_to_anchor=(0.5, 1.15), ncol=3, fancybox=True, shadow=True, fontsize=14)\n",
    "\n",
    "plt.xticks(fontsize=13)\n",
    "plt.xlabel('Improvement Test Accuracy (\\%)', fontsize=13)\n",
    "plt.yticks(y_pos, labels=datasets, fontsize=13)\n",
    "# plt.xlim(40, 100)\n",
    "plt.gca().invert_yaxis()\n",
    "plt.tight_layout()\n",
    "plt.savefig('figures/ablation_spn.pdf', dpi=200)"
   ]
  }
 ],
 "metadata": {
  "interpreter": {
   "hash": "ba94622b8cce9d72f41975dfa05399a969597365498ddf2f52110973e858095a"
  },
  "kernelspec": {
   "display_name": "Python 3.7.9 ('low-data')",
   "language": "python",
   "name": "python3"
  },
  "language_info": {
   "codemirror_mode": {
    "name": "ipython",
    "version": 3
   },
   "file_extension": ".py",
   "mimetype": "text/x-python",
   "name": "python",
   "nbconvert_exporter": "python",
   "pygments_lexer": "ipython3",
   "version": "3.7.9"
  },
  "orig_nbformat": 4
 },
 "nbformat": 4,
 "nbformat_minor": 2
}
